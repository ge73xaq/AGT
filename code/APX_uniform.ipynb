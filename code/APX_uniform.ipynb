{
 "cells": [
  {
   "cell_type": "code",
   "execution_count": null,
   "metadata": {
    "colab": {
     "base_uri": "https://localhost:8080/",
     "height": 971
    },
    "executionInfo": {
     "elapsed": 1641,
     "status": "error",
     "timestamp": 1610033469840,
     "user": {
      "displayName": "Yichen Lou",
      "photoUrl": "",
      "userId": "04272552894692249514"
     },
     "user_tz": -60
    },
    "id": "f_0HUItCQhIt",
    "outputId": "59d06310-72c7-46c9-8476-a4e74a834df3"
   },
   "outputs": [],
   "source": [
    "from google.colab import drive\n",
    "drive.mount('/content/drive/', force_remount=True)\n",
    "%cd 'drive/My Drive/Thesis'"
   ]
  },
  {
   "cell_type": "code",
   "execution_count": 1,
   "metadata": {
    "executionInfo": {
     "elapsed": 1419,
     "status": "ok",
     "timestamp": 1610012634377,
     "user": {
      "displayName": "Yichen Lou",
      "photoUrl": "",
      "userId": "04272552894692249514"
     },
     "user_tz": -60
    },
    "id": "ZIKZTpsFQbXi"
   },
   "outputs": [],
   "source": [
    "%load_ext autoreload\n",
    "%autoreload 2\n",
    "import numpy as np\n",
    "import matplotlib.pyplot as plt\n",
    "from sklearn.datasets import make_moons\n",
    "# import uniform distribution\n",
    "from scipy.stats import uniform\n",
    "from scipy.stats import binom\n",
    "from scipy.stats import norm\n",
    "import scipy.special as sc\n",
    "import scipy.optimize\n",
    "from scipy.optimize import fsolve\n",
    "import time\n",
    "np.random.seed(5)"
   ]
  },
  {
   "cell_type": "code",
   "execution_count": 2,
   "metadata": {
    "executionInfo": {
     "elapsed": 508,
     "status": "ok",
     "timestamp": 1610012635577,
     "user": {
      "displayName": "Yichen Lou",
      "photoUrl": "",
      "userId": "04272552894692249514"
     },
     "user_tz": -60
    },
    "id": "srAIADb-5G4q"
   },
   "outputs": [],
   "source": [
    "def auction_exp(data_auction, p):\n",
    "    \"\"\"Train a normalizing flow model with maximum likelihood.\n",
    "\n",
    "    Args:\n",
    "        model: normalizing flow model. Flow or StackedFlows\n",
    "        dataset: dataset containing data to fit. Dataset\n",
    "        batch_size: number of samples per batch. int\n",
    "        max_epochs: number of training epochs. int\n",
    "        frequency: frequency for plotting density visualization. int\n",
    "        \n",
    "    Return:\n",
    "        model: trained model. Flow or StackedFlows\n",
    "        losses: loss evolution during training. list of floats\n",
    "    \"\"\"\n",
    "    revenue = 0\n",
    "    for bid in data_auction:\n",
    "        if bid >= p:\n",
    "          #change the bidder with price p\n",
    "          revenue += p\n",
    "    \n",
    "    revenue = revenue/len(data_auction)\n",
    "    return revenue"
   ]
  },
  {
   "cell_type": "code",
   "execution_count": 3,
   "metadata": {
    "executionInfo": {
     "elapsed": 498,
     "status": "ok",
     "timestamp": 1610012637916,
     "user": {
      "displayName": "Yichen Lou",
      "photoUrl": "",
      "userId": "04272552894692249514"
     },
     "user_tz": -60
    },
    "id": "gYqiRUBNNilX"
   },
   "outputs": [],
   "source": [
    "def rejection_sampling(pi1, pi2):\n",
    "\n",
    "  # def f(x):\n",
    "  #   return [x[0] * (1 + np.log(x[1]/x[0])) - u,\n",
    "  #           x[0] *(2*x[1]-x[0]) - u**2 - sigma**2]\n",
    "\n",
    "\n",
    "  # root = fsolve(f, [ini1,ini2])\n",
    "    \n",
    "  # pi1 = min(root)\n",
    "  # pi2 = max(root)\n",
    "  #using rejection sampling, get N random price samples\n",
    "  N = 10000\n",
    "  n = 0\n",
    "  #A =(pi2/pi1-1)*(pi2-pi1)/don\n",
    "  don = pi2*np.log(pi2/pi1) - (pi2-pi1)\n",
    "  env =(pi2/pi1-1)/don\n",
    "  rej_sample =[]\n",
    "  while(n <= N):\n",
    "    x = uniform.rvs(loc=pi1, scale=pi2-pi1)\n",
    "    a = (pi2/x-1)/don/env\n",
    "    u1 = uniform.rvs()\n",
    "    if (u1 <= a):\n",
    "      rej_sample.append(x)\n",
    "      n += 1\n",
    "  return rej_sample"
   ]
  },
  {
   "cell_type": "code",
   "execution_count": null,
   "metadata": {},
   "outputs": [],
   "source": [
    "def f(x):\n",
    "  return (x * (1 + np.log(k2/(x**2) + 1) - np.log(2)) -u )\n",
    "\n",
    "k2 = 1000\n",
    "pi1 = fsolve(f, [50])\n",
    "pi2 = 0.5*(k2/pi1 +pi1)\n",
    "print(pi1,pi2)"
   ]
  },
  {
   "cell_type": "code",
   "execution_count": 4,
   "metadata": {
    "colab": {
     "base_uri": "https://localhost:8080/"
    },
    "executionInfo": {
     "elapsed": 11818706,
     "status": "ok",
     "timestamp": 1610032567301,
     "user": {
      "displayName": "Yichen Lou",
      "photoUrl": "",
      "userId": "04272552894692249514"
     },
     "user_tz": -60
    },
    "id": "s7Od-QEBOqjW",
    "outputId": "c19f5ff1-99c6-425c-9099-cc1e0770a0b2"
   },
   "outputs": [
    {
     "name": "stderr",
     "output_type": "stream",
     "text": [
      "C:\\Users\\Ariel Lou\\anaconda3\\lib\\site-packages\\ipykernel_launcher.py:20: DeprecationWarning: time.clock has been deprecated in Python 3.3 and will be removed from Python 3.8: use time.perf_counter or time.process_time instead\n"
     ]
    },
    {
     "name": "stdout",
     "output_type": "stream",
     "text": [
      "[0.]\n",
      "[0.]\n",
      "[3.01980663e-14]\n",
      "[0.]\n",
      "[2.30926389e-13]\n",
      "[0.]\n",
      "[-3.55271368e-15]\n",
      "[-6.75015599e-14]\n",
      "[0.]\n",
      "[-1.77635684e-15]\n",
      "[-1.77635684e-15]\n",
      "[0.]\n",
      "[2.13162821e-14]\n",
      "[-1.77635684e-15]\n",
      "[0.]\n",
      "[0.]\n",
      "[0.]\n",
      "[1.77635684e-15]\n",
      "[1.59872116e-14]\n",
      "[-1.77635684e-15]\n",
      "[-1.77635684e-15]\n",
      "[0.]\n",
      "[1.77635684e-15]\n",
      "[3.55271368e-15]\n",
      "[3.37507799e-14]\n",
      "[1.77635684e-15]\n",
      "[1.77635684e-15]\n",
      "[-1.77635684e-15]\n",
      "[1.77635684e-15]\n",
      "[1.77635684e-15]\n",
      "[1.77635684e-15]\n",
      "[1.77635684e-15]\n",
      "[1.77635684e-15]\n",
      "[1.77635684e-15]\n",
      "[-2.48689958e-14]\n",
      "[-1.77635684e-15]\n",
      "[-1.77635684e-15]\n",
      "[1.31450406e-13]\n",
      "[-3.55271368e-15]\n",
      "[-1.77635684e-15]\n",
      "[0.]\n",
      "[-6.57252031e-14]\n",
      "[-3.55271368e-15]\n",
      "[-1.77635684e-15]\n",
      "[3.55271368e-15]\n",
      "[-1.77635684e-15]\n",
      "[1.77635684e-15]\n",
      "[1.77635684e-15]\n",
      "[5.32907052e-15]\n",
      "[8.8817842e-15]\n",
      "time: 12701.0965002\n"
     ]
    },
    {
     "name": "stderr",
     "output_type": "stream",
     "text": [
      "C:\\Users\\Ariel Lou\\anaconda3\\lib\\site-packages\\ipykernel_launcher.py:57: DeprecationWarning: time.clock has been deprecated in Python 3.3 and will be removed from Python 3.8: use time.perf_counter or time.process_time instead\n"
     ]
    }
   ],
   "source": [
    "# Experiment Randomisation first compute the log-lottery with uniform distribution:\n",
    "sigma_list = []\n",
    "DAPX_uniform = []\n",
    "r_list =[]\n",
    "reserve_p_list = []\n",
    "p_d_list = []\n",
    "\n",
    "\n",
    "APX_uniform_list = []\n",
    "step =np.linspace(0, 5,50)\n",
    "n = 100000\n",
    "\n",
    "def F(x):\n",
    "   return ((x-1)**3)/((2*x-1)**2) - r**2   \n",
    "\n",
    "\n",
    "def f(x):\n",
    "  return (x * (1 + np.log(k2/(x**2) + 1) - np.log(2)) -u )\n",
    " \n",
    "tic = time.clock()\n",
    "for i in step:\n",
    "  b = 20 - i\n",
    "  a = 22 -b\n",
    "  u = (a+b)/2\n",
    "  sigma = np.sqrt((b-a)**2/12)\n",
    "  \n",
    "  bid_uniform = uniform.rvs(loc=a, scale=b-a,size=n)\n",
    "  r = sigma/u\n",
    "  r_list.append(r)\n",
    "  sigma_list.append(sigma)\n",
    "  #p_d = 1 + 4* (sigma/u)**2\n",
    "  p_d = fsolve(F, [u])\n",
    "  p_d_list.append(p_d)\n",
    "  p_reserve = p_d*u/(2*p_d-1)\n",
    "\n",
    "  opt = auction_exp(bid_uniform,b/2)\n",
    "  #opt = b**2/(4*(b-a))\n",
    "  exp_revenue = auction_exp(bid_uniform,p_reserve)\n",
    "\n",
    "  DAPX_uniform.append((opt/exp_revenue)[0])  \n",
    "\n",
    "  rexp_revenuer_list=[]\n",
    "  k2 = u**2 + sigma**2\n",
    "  pi1 = fsolve(f, [u])\n",
    "  pi2 = 0.5*(k2/pi1 +pi1)\n",
    "  print(f(pi1))\n",
    "  rej_sample = []\n",
    "  rej_sample = rejection_sampling(pi1,pi2)\n",
    "  rexp_revenue_list =[]\n",
    "  for rp_reserve in rej_sample:\n",
    "    rexp_revenue = auction_exp(bid_uniform,rp_reserve)\n",
    "    rexp_revenue_list.append(rexp_revenue)\n",
    "  \n",
    "  APX_uniform_list.append((opt/np.average(rexp_revenue_list))) \n",
    "\n",
    "\n",
    "toc = time.clock()\n",
    "print('time: ' + str(toc-tic))\n"
   ]
  },
  {
   "cell_type": "code",
   "execution_count": null,
   "metadata": {
    "colab": {
     "base_uri": "https://localhost:8080/"
    },
    "executionInfo": {
     "elapsed": 554,
     "status": "ok",
     "timestamp": 1610033768042,
     "user": {
      "displayName": "Yichen Lou",
      "photoUrl": "",
      "userId": "04272552894692249514"
     },
     "user_tz": -60
    },
    "id": "qFHS11jY3Phd",
    "outputId": "593ab856-9cf6-47ff-ad45-befc1314d740"
   },
   "outputs": [],
   "source": [
    "APX_uniform_list"
   ]
  },
  {
   "cell_type": "code",
   "execution_count": null,
   "metadata": {
    "executionInfo": {
     "elapsed": 513,
     "status": "ok",
     "timestamp": 1609973351430,
     "user": {
      "displayName": "Yichen Lou",
      "photoUrl": "",
      "userId": "04272552894692249514"
     },
     "user_tz": -60
    },
    "id": "BSD7Eqwe4cPG"
   },
   "outputs": [],
   "source": [
    "r_list=r_list[:69]\n",
    "sigma_list = sigma_list[:69]\n",
    "p_d_list = p_d_list[:69]\n",
    "DAPX_uniform = DAPX_uniform[:69]\n",
    "APX_uniform_list = APX_uniform_list[:69]"
   ]
  },
  {
   "cell_type": "code",
   "execution_count": null,
   "metadata": {
    "id": "PA67rYxomA_t"
   },
   "outputs": [],
   "source": [
    "import pandas as pd \n",
    "  \n",
    "# creating the DataFrame \n",
    "my_df = { 'r' : r_list[:71],\n",
    "          'DAPX_uniform': DAPX_uniform[:71],\n",
    "         'APX_uniform_list': APX_uniform_list \n",
    "         } \n",
    "df = pd.DataFrame(my_df) \n",
    "  \n",
    "   \n",
    "# saving the DataFrame as a CSV file \n",
    "gfg_csv_data = df.to_csv('result_uniform.csv', index = True) \n",
    "print('\\nCSV String:\\n', gfg_csv_data) \n",
    "#FFA500"
   ]
  },
  {
   "cell_type": "code",
   "execution_count": 28,
   "metadata": {
    "colab": {
     "base_uri": "https://localhost:8080/",
     "height": 592
    },
    "executionInfo": {
     "elapsed": 1018,
     "status": "ok",
     "timestamp": 1610034936038,
     "user": {
      "displayName": "Yichen Lou",
      "photoUrl": "",
      "userId": "04272552894692249514"
     },
     "user_tz": -60
    },
    "id": "etiyfWjyRynJ",
    "outputId": "a6435725-3354-4438-be83-06b759f27163"
   },
   "outputs": [
    {
     "data": {
      "image/png": "[encoded data removed]",
      "text/plain": [
       "<Figure size 1080x720 with 1 Axes>"
      ]
     },
     "metadata": {
      "needs_background": "light"
     },
     "output_type": "display_data"
    }
   ],
   "source": [
    "plt.figure(figsize=(15,10))\n",
    "plt.xlabel(\"r = \\u03C3/u\",fontsize=16)\n",
    "plt.ylabel(\"OPT/REV\",fontsize=16)\n",
    "plt.tick_params(axis='x', labelsize= 14)\n",
    "plt.tick_params(axis='y', labelsize= 14)\n",
    "plt.plot(r_list, APX_uniform_list,color=\"#FFA500\",label=\"APX\")\n",
    "plt.plot(r_list, DAPX_uniform,color=\"green\",label=\"DAPX\")\n",
    "\n",
    "#lower_bound = 1+np.log(1+np.power(r_list,2))\n",
    "#plt.plot(r_list, ratio,color=\"blue\",label=\"worst case rho_d\")\n",
    "#plt.plot(r_list, lower_bound,color=\"skyblue\",label=\"lower bound 1+ln(1+r^2) \")\n",
    "plt.legend(loc=\"upper left\",fontsize = 16)\n",
    "plt.savefig(\"apxuni.png\",bbox_inches='tight')\n",
    "plt.show()"
   ]
  },
  {
   "cell_type": "code",
   "execution_count": null,
   "metadata": {
    "colab": {
     "base_uri": "https://localhost:8080/",
     "height": 265
    },
    "executionInfo": {
     "elapsed": 701,
     "status": "ok",
     "timestamp": 1608240220001,
     "user": {
      "displayName": "Yichen Lou",
      "photoUrl": "",
      "userId": "04272552894692249514"
     },
     "user_tz": -60
    },
    "id": "38odwXXb9vPx",
    "outputId": "a5392882-a0f9-4144-b95e-a11390fef62c"
   },
   "outputs": [],
   "source": [
    "# Experiment Randomisation first compute the log-lottery:\n",
    "\n",
    "a = 6\n",
    "b = 16\n",
    "u = (a+b)/2\n",
    "sigma = np.sqrt((b-a)**2/12)\n",
    "\n",
    "\n",
    "\n",
    "def f(x):\n",
    "  return (x * (1 + np.log(k2/(x**2) + 1) - np.log(2)) -u )\n",
    "\n",
    "\n",
    "root = fsolve(F, [a,b])\n",
    "\n",
    "pi1 = min(root)\n",
    "pi2 = max(root)\n",
    "\n",
    "don = pi2*np.log(pi2/pi1) - (pi2-pi1)\n",
    "x = np.arange(pi1, pi2, 0.05)\n",
    "y = (pi2/x-1)/don\n",
    "plt.axhline((pi2/pi1-1)/don)\n",
    "plt.plot(x,y)\n",
    "plt.show()"
   ]
  },
  {
   "cell_type": "code",
   "execution_count": null,
   "metadata": {
    "id": "u80bXRty9u8b"
   },
   "outputs": [],
   "source": [
    "r = sigma/u\n",
    "def solve_rho(x):\n",
    "   return (1/(x**2))*(2*np.exp(x-1)-1)-1-r**2\n",
    "\n",
    "upper = fsolve(solve_rho, 2)\n",
    "\n",
    "lower = 1 + np.log(1+r**2)\n",
    "\n",
    "print(\"when r = \" + str(r) + \", our upper bound for APX = \" + str(upper)+ \" and  our lower bound = \" + str(lower))          "
   ]
  },
  {
   "cell_type": "code",
   "execution_count": null,
   "metadata": {
    "colab": {
     "base_uri": "https://localhost:8080/"
    },
    "executionInfo": {
     "elapsed": 644,
     "status": "ok",
     "timestamp": 1608244324153,
     "user": {
      "displayName": "Yichen Lou",
      "photoUrl": "",
      "userId": "04272552894692249514"
     },
     "user_tz": -60
    },
    "id": "0b37g-pw_sv3",
    "outputId": "205ea76c-2e9f-4145-a39e-bc9dbe06ace7"
   },
   "outputs": [],
   "source": [
    "root"
   ]
  },
  {
   "cell_type": "code",
   "execution_count": null,
   "metadata": {
    "colab": {
     "base_uri": "https://localhost:8080/",
     "height": 592
    },
    "executionInfo": {
     "elapsed": 5025,
     "status": "ok",
     "timestamp": 1608244319605,
     "user": {
      "displayName": "Yichen Lou",
      "photoUrl": "",
      "userId": "04272552894692249514"
     },
     "user_tz": -60
    },
    "id": "EbIoD3UA-jew",
    "outputId": "1b5c6a25-61b6-431b-f189-834ac82ed14a"
   },
   "outputs": [],
   "source": [
    "#using rejection sampling, get N random price samples\n",
    "####usefullllllll\n",
    "\n",
    "def f(x):\n",
    "  return (x * (1 + np.log(k2/(x**2) + 1) - np.log(2)) -u )\n",
    "\n",
    "N = 10000\n",
    "n = 0\n",
    "#A =(pi2/pi1-1)*(pi2-pi1)/don\n",
    "u = 1\n",
    "sigma = 1\n",
    "\n",
    "k2 = u**2 + sigma**2\n",
    "pi1 = fsolve(f, [u])\n",
    "pi2 = 0.5*(k2/pi1 +pi1)\n",
    "print(pi1, pi2)\n",
    "\n",
    "don = pi2*np.log(pi2/pi1) - (pi2-pi1)\n",
    "env =(pi2/pi1-1)/don\n",
    "rej_sample =[]\n",
    "while(n <= N):\n",
    "  x = uniform.rvs(loc=pi1, scale=pi2-pi1)\n",
    "  a = (pi2/x-1)/don/env\n",
    "  u1 = uniform.rvs()\n",
    "  if (u1 <= a):\n",
    "    rej_sample.append(x)\n",
    "    n += 1\n",
    "\n",
    "don = pi2*np.log(pi2/pi1) - (pi2-pi1)\n",
    "x = np.arange(pi1, pi2, 0.05)\n",
    "y = (pi2/x-1)/don\n"
   ]
  },
  {
   "cell_type": "code",
   "execution_count": null,
   "metadata": {},
   "outputs": [],
   "source": [
    "plt.figure(figsize=(15,10))\n",
    "plt.tick_params(axis='x', labelsize= 14)\n",
    "plt.tick_params(axis='y', labelsize= 14)\n",
    "\n",
    "plt.xlabel(\"x\",fontsize=18)\n",
    "plt.ylabel(\"density\",fontsize=18)\n",
    "\n",
    "plt.hist(rej_sample, color = '#0065bd',normed=True, edgecolor = 'black',bins = 30, label = \"samples density\")\n",
    "plt.plot(x,y,color = 'green',label = \"pdf\")\n",
    "\n",
    "plt.legend(loc=\"upper left\",fontsize = 14,bbox_to_anchor=(0.4,1))\n",
    "plt.savefig(\"rejectionS.png\",bbox_inches='tight')\n",
    "plt.show()\n"
   ]
  },
  {
   "cell_type": "code",
   "execution_count": null,
   "metadata": {
    "colab": {
     "base_uri": "https://localhost:8080/"
    },
    "executionInfo": {
     "elapsed": 2845,
     "status": "ok",
     "timestamp": 1608241869138,
     "user": {
      "displayName": "Yichen Lou",
      "photoUrl": "",
      "userId": "04272552894692249514"
     },
     "user_tz": -60
    },
    "id": "85FCKe1MbdDP",
    "outputId": "9a77c301-83e8-4e27-bda9-98218c3d112e"
   },
   "outputs": [],
   "source": [
    "n = 10000\n",
    "APX_list=[]\n",
    "opt_list = []\n",
    "exp_revenue_list = []\n",
    "bid_uniform = uniform.rvs(loc=a, scale=b-a,size=n)\n",
    "opt = auction_exp(bid_uniform,b/2)\n",
    "for p_reserve in rej_sample:\n",
    "  exp_revenue = auction_exp(bid_uniform,p_reserve)\n",
    "  exp_revenue_list.append(exp_revenue)\n",
    "\n",
    "\n",
    "print('Uniform distribution APX = ' + str(opt/np.average(exp_revenue_list)))\n",
    "\n",
    "#print(\"Theoritical APX_normal:\")\n",
    "#print(b**2/(4*(b-a))/(reserve_p*(1-uniform.cdf(reserve_p,loc=a, scale=b-a))))"
   ]
  },
  {
   "cell_type": "code",
   "execution_count": null,
   "metadata": {
    "colab": {
     "base_uri": "https://localhost:8080/"
    },
    "executionInfo": {
     "elapsed": 905,
     "status": "ok",
     "timestamp": 1607687778663,
     "user": {
      "displayName": "Yichen Lou",
      "photoUrl": "",
      "userId": "04272552894692249514"
     },
     "user_tz": -60
    },
    "id": "_XC2Q-Kal1mg",
    "outputId": "1b67ca94-0b28-4c39-9f9d-d7aec35e6723"
   },
   "outputs": [],
   "source": [
    "# Experiment 1:\n",
    "# random numbers from uniform distribution\n",
    "# Generate 10000 numbers from 0 to 1 (run actuion 10000 times)\n",
    "r = sigma/u\n",
    "\n",
    "def F(x):\n",
    "   return ((x-1)**3)/((2*x-1)**2) - r**2   \n",
    "            \n",
    "\n",
    "p_d =  fsolve(F, [u])\n",
    "\n",
    "# np.isclose(F(x), [ 0.0])\n",
    "\n",
    "\n",
    "data_uniform = uniform.rvs(loc=a, scale=b-a,size=n)\n",
    "#p_d = 1 + 4* (sigma/u)**2\n",
    "reserve_p = p_d*u/(2*p_d-1)\n",
    " \n",
    "#opt = b**2/(4*(b-a)) #opt should also be in the experiment, one is average and another sum of it. \n",
    "opt = auction_exp(data_uniform,b/2)\n",
    "exp_revenue = auction_exp(data_uniform,reserve_p)\n",
    "\n",
    "DAPX = opt/exp_revenue\n",
    "print('worst case robust DAPX = ' + str(p_d))\n",
    "print('Uniform distribution DAPX = ' + str(DAPX))\n",
    "print(\"Theoritically the DAPX_uniform:\")\n",
    "print(b**2/(4*(b-a))/(reserve_p*(1-uniform.cdf(reserve_p,loc=a, scale=b-a))))"
   ]
  },
  {
   "cell_type": "code",
   "execution_count": null,
   "metadata": {
    "colab": {
     "base_uri": "https://localhost:8080/"
    },
    "executionInfo": {
     "elapsed": 728,
     "status": "ok",
     "timestamp": 1607688616038,
     "user": {
      "displayName": "Yichen Lou",
      "photoUrl": "",
      "userId": "04272552894692249514"
     },
     "user_tz": -60
    },
    "id": "0IVdDdMnJhV8",
    "outputId": "9c4069c9-91dc-4c5f-efd7-297d9d3d538b"
   },
   "outputs": [],
   "source": [
    "r = sigma/u\n",
    "r"
   ]
  },
  {
   "cell_type": "code",
   "execution_count": null,
   "metadata": {
    "colab": {
     "base_uri": "https://localhost:8080/"
    },
    "executionInfo": {
     "elapsed": 826,
     "status": "ok",
     "timestamp": 1607689459377,
     "user": {
      "displayName": "Yichen Lou",
      "photoUrl": "",
      "userId": "04272552894692249514"
     },
     "user_tz": -60
    },
    "id": "J_sLZwjvFcHR",
    "outputId": "ee5ddf95-14ec-4804-ab8b-581ec51c8d3b"
   },
   "outputs": [],
   "source": [
    "sum(opt_list)/sum(exp_revenue_list)\n",
    "np.average(opt_list)/np.average(exp_revenue_list)"
   ]
  },
  {
   "cell_type": "code",
   "execution_count": null,
   "metadata": {
    "colab": {
     "base_uri": "https://localhost:8080/"
    },
    "executionInfo": {
     "elapsed": 685,
     "status": "ok",
     "timestamp": 1608243734837,
     "user": {
      "displayName": "Yichen Lou",
      "photoUrl": "",
      "userId": "04272552894692249514"
     },
     "user_tz": -60
    },
    "id": "niwopCVtyViC",
    "outputId": "7246e675-41de-4c3e-fd8c-2a69cfaa9163"
   },
   "outputs": [],
   "source": [
    "sigma"
   ]
  },
  {
   "cell_type": "code",
   "execution_count": null,
   "metadata": {
    "colab": {
     "base_uri": "https://localhost:8080/",
     "height": 592
    },
    "executionInfo": {
     "elapsed": 1048,
     "status": "ok",
     "timestamp": 1608243690084,
     "user": {
      "displayName": "Yichen Lou",
      "photoUrl": "",
      "userId": "04272552894692249514"
     },
     "user_tz": -60
    },
    "id": "tVYq5C_EYL2b",
    "outputId": "6e58d3ac-c630-41c3-96ad-79fb8655224b"
   },
   "outputs": [],
   "source": [
    "plt.figure(figsize=(15,10))\n",
    "plt.plot(r_list, DAPX_norm_list,color=\"green\",marker=\"o\",label=\"DAPX\")\n",
    "plt.plot(r_list, APX_norm_list,color=\"red\",marker=\"o\",label=\"APX\")\n",
    "plt.legend(loc=\"upper left\",fontsize = 15)\n",
    "plt.show()"
   ]
  },
  {
   "cell_type": "code",
   "execution_count": null,
   "metadata": {
    "colab": {
     "base_uri": "https://localhost:8080/"
    },
    "executionInfo": {
     "elapsed": 399,
     "status": "ok",
     "timestamp": 1605882719155,
     "user": {
      "displayName": "Yichen Lou",
      "photoUrl": "",
      "userId": "04272552894692249514"
     },
     "user_tz": -60
    },
    "id": "uEekFgxR_Kev",
    "outputId": "7eb1a8b2-80f2-429d-8d8e-c9b0f93f7ae8"
   },
   "outputs": [],
   "source": [
    "import scipy.special as sc\n",
    "from scipy.optimize import fsolve\n",
    "#not super accurate, but due to the character of cdf and pde maybe also factorial\n",
    "u = 3\n",
    "sigma = 1\n",
    "def F(x):\n",
    "   return [x[0] * (1 + np.log(x[1]/x[0])) - u,\n",
    "           x[0] *(2*x[1]-x[0]) - u**2 - sigma**2]\n",
    "\n",
    "\n",
    "root = fsolve(F, [1.8,4])\n",
    "root\n",
    "# np.isclose(F(x), [ 0.0])"
   ]
  },
  {
   "cell_type": "code",
   "execution_count": null,
   "metadata": {
    "colab": {
     "base_uri": "https://localhost:8080/"
    },
    "executionInfo": {
     "elapsed": 392,
     "status": "ok",
     "timestamp": 1605882765832,
     "user": {
      "displayName": "Yichen Lou",
      "photoUrl": "",
      "userId": "04272552894692249514"
     },
     "user_tz": -60
    },
    "id": "X0h_Xp70EFpk",
    "outputId": "89154472-c42e-4536-cd40-e73aac169641"
   },
   "outputs": [],
   "source": [
    "np.isclose(F(x), [1.49414051, 4.09347574])\n",
    "x= [1.49414051, 4.09347574]\n",
    "x[0] * (1 + np.log(x[1]/x[0])) - u\n",
    "x[0] *(2*x[1]-x[0]) - u**2 - sigma**2"
   ]
  },
  {
   "cell_type": "code",
   "execution_count": null,
   "metadata": {
    "colab": {
     "base_uri": "https://localhost:8080/",
     "height": 265
    },
    "executionInfo": {
     "elapsed": 716,
     "status": "ok",
     "timestamp": 1605882593719,
     "user": {
      "displayName": "Yichen Lou",
      "photoUrl": "",
      "userId": "04272552894692249514"
     },
     "user_tz": -60
    },
    "id": "BDTAAjsFBLj8",
    "outputId": "a90ab9a6-d78b-45d9-95b0-6a8589763769"
   },
   "outputs": [],
   "source": [
    "x = np.arange(1, 5, 0.05)\n",
    "u = 3\n",
    "y = np.exp(u/x-1)*x\n",
    "y1 = ((u**2 + sigma**2)/x +x)*0.5\n",
    "plt.plot(x,y)\n",
    "plt.plot(x,y1)\n",
    "plt.show()"
   ]
  },
  {
   "cell_type": "code",
   "execution_count": null,
   "metadata": {
    "colab": {
     "base_uri": "https://localhost:8080/",
     "height": 265
    },
    "executionInfo": {
     "elapsed": 398,
     "status": "ok",
     "timestamp": 1605882840163,
     "user": {
      "displayName": "Yichen Lou",
      "photoUrl": "",
      "userId": "04272552894692249514"
     },
     "user_tz": -60
    },
    "id": "bXJv2uuM1dRn",
    "outputId": "3af44775-c067-4df5-a6b5-3e3a10762a12"
   },
   "outputs": [],
   "source": [
    "pi2 = root[1]\n",
    "pi1 = root[0]\n",
    "\n",
    "don = pi2*np.log(pi2/pi1) - (pi2-pi1)\n",
    "x = np.arange(pi1, pi2, 0.05)\n",
    "y = (pi2/x-1)/don\n",
    "plt.axhline(np.ceil((pi2/pi1-1)/don))\n",
    "plt.plot(x,y)\n",
    "plt.show()"
   ]
  },
  {
   "cell_type": "code",
   "execution_count": null,
   "metadata": {
    "id": "mMelP478-edc"
   },
   "outputs": [],
   "source": []
  },
  {
   "cell_type": "code",
   "execution_count": null,
   "metadata": {
    "id": "Efmd78Df3cjB"
   },
   "outputs": [],
   "source": [
    "\n",
    "N = 10000\n",
    "n = 0\n",
    "A = np.ceil((pi2/pi1-1)/don)\n",
    "rej_sample =[]\n",
    "while(n <= N):\n",
    "  x = uniform.rvs(loc=pi1, scale=pi2-pi1)\n",
    "  a = (pi2/x-1)/don/(A/(pi2- pi1))\n",
    "  u1 = uniform.rvs()\n",
    "  if (u1 <= a):\n",
    "    rej_sample.append(x)\n",
    "    n += 1\n",
    "\n",
    "plt.hist(rej_sample, color = 'blue', edgecolor = 'black',bins = 30)"
   ]
  },
  {
   "cell_type": "code",
   "execution_count": null,
   "metadata": {
    "colab": {
     "base_uri": "https://localhost:8080/",
     "height": 483
    },
    "executionInfo": {
     "elapsed": 630,
     "status": "ok",
     "timestamp": 1605881277137,
     "user": {
      "displayName": "Yichen Lou",
      "photoUrl": "",
      "userId": "04272552894692249514"
     },
     "user_tz": -60
    },
    "id": "S3vf1WAG-z5g",
    "outputId": "fbafb0a7-d681-4179-8939-7678cb0b5c95"
   },
   "outputs": [],
   "source": [
    "plt.hist(rej_sample, color = 'blue', edgecolor = 'black',bins = 30)"
   ]
  },
  {
   "cell_type": "code",
   "execution_count": null,
   "metadata": {
    "colab": {
     "base_uri": "https://localhost:8080/"
    },
    "executionInfo": {
     "elapsed": 25844,
     "status": "ok",
     "timestamp": 1605883548182,
     "user": {
      "displayName": "Yichen Lou",
      "photoUrl": "",
      "userId": "04272552894692249514"
     },
     "user_tz": -60
    },
    "id": "APJNFzLPFtJ-",
    "outputId": "5c751809-add0-4729-c621-d2ffb588c97e"
   },
   "outputs": [],
   "source": [
    "1np.random.seed(5)\n",
    "n = 10000\n",
    "a = 2\n",
    "b = 10 \n",
    "\n",
    "u = 3\n",
    "sigma = 1\n",
    "\n",
    "data_uniform = uniform.rvs(loc=a, scale=b-a,size=n)\n",
    "\n",
    "p_d = 1 + np.log(1 + (sigma/u)**2)\n",
    "\n",
    " \n",
    "opt = u\n",
    "revenue=0\n",
    "for i in rej_sample:\n",
    "  revenue += auction_exp(data_uniform,i)\n",
    "\n",
    "exp_revenue = revenue/len(rej_sample)\n",
    "\n",
    "APX = opt/exp_revenue\n",
    "print('worst case robust APX upper bound = ' + str(p_d))\n",
    "print('Uniform distribution APX = ' + str(APX))\n"
   ]
  }
 ],
 "metadata": {
  "colab": {
   "collapsed_sections": [],
   "name": "APX_uniform.ipynb",
   "provenance": []
  },
  "kernelspec": {
   "display_name": "Python 3",
   "language": "python",
   "name": "python3"
  },
  "language_info": {
   "codemirror_mode": {
    "name": "ipython",
    "version": 3
   },
   "file_extension": ".py",
   "mimetype": "text/x-python",
   "name": "python",
   "nbconvert_exporter": "python",
   "pygments_lexer": "ipython3",
   "version": "3.7.6"
  }
 },
 "nbformat": 4,
 "nbformat_minor": 1
}
