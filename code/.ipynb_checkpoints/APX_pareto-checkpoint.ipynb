{
 "cells": [
  {
   "cell_type": "code",
   "execution_count": null,
   "metadata": {
    "colab": {
     "base_uri": "https://localhost:8080/",
     "height": 971
    },
    "executionInfo": {
     "elapsed": 1641,
     "status": "error",
     "timestamp": 1610033469840,
     "user": {
      "displayName": "Yichen Lou",
      "photoUrl": "",
      "userId": "04272552894692249514"
     },
     "user_tz": -60
    },
    "id": "f_0HUItCQhIt",
    "outputId": "59d06310-72c7-46c9-8476-a4e74a834df3"
   },
   "outputs": [],
   "source": [
    "from google.colab import drive\n",
    "drive.mount('/content/drive/', force_remount=True)\n",
    "%cd 'drive/My Drive/Thesis'"
   ]
  },
  {
   "cell_type": "code",
   "execution_count": 1,
   "metadata": {
    "executionInfo": {
     "elapsed": 1419,
     "status": "ok",
     "timestamp": 1610012634377,
     "user": {
      "displayName": "Yichen Lou",
      "photoUrl": "",
      "userId": "04272552894692249514"
     },
     "user_tz": -60
    },
    "id": "ZIKZTpsFQbXi"
   },
   "outputs": [],
   "source": [
    "%load_ext autoreload\n",
    "%autoreload 2\n",
    "import numpy as np\n",
    "import matplotlib.pyplot as plt\n",
    "from sklearn.datasets import make_moons\n",
    "# import uniform distribution\n",
    "from scipy.stats import uniform\n",
    "from scipy.stats import binom\n",
    "from scipy.stats import norm\n",
    "import scipy.special as sc\n",
    "import scipy.optimize\n",
    "from scipy.optimize import fsolve\n",
    "from scipy.stats import pareto\n",
    "import time\n",
    "np.random.seed(5)"
   ]
  },
  {
   "cell_type": "code",
   "execution_count": 2,
   "metadata": {
    "executionInfo": {
     "elapsed": 508,
     "status": "ok",
     "timestamp": 1610012635577,
     "user": {
      "displayName": "Yichen Lou",
      "photoUrl": "",
      "userId": "04272552894692249514"
     },
     "user_tz": -60
    },
    "id": "srAIADb-5G4q"
   },
   "outputs": [],
   "source": [
    "def auction_exp(data_auction, p):\n",
    "    \"\"\"Train a normalizing flow model with maximum likelihood.\n",
    "\n",
    "    Args:\n",
    "        model: normalizing flow model. Flow or StackedFlows\n",
    "        dataset: dataset containing data to fit. Dataset\n",
    "        batch_size: number of samples per batch. int\n",
    "        max_epochs: number of training epochs. int\n",
    "        frequency: frequency for plotting density visualization. int\n",
    "        \n",
    "    Return:\n",
    "        model: trained model. Flow or StackedFlows\n",
    "        losses: loss evolution during training. list of floats\n",
    "    \"\"\"\n",
    "    revenue = 0\n",
    "    for bid in data_auction:\n",
    "        if bid >= p:\n",
    "          #change the bidder with price p\n",
    "          revenue += p\n",
    "    \n",
    "    revenue = revenue/len(data_auction)\n",
    "    return revenue"
   ]
  },
  {
   "cell_type": "code",
   "execution_count": 3,
   "metadata": {
    "executionInfo": {
     "elapsed": 498,
     "status": "ok",
     "timestamp": 1610012637916,
     "user": {
      "displayName": "Yichen Lou",
      "photoUrl": "",
      "userId": "04272552894692249514"
     },
     "user_tz": -60
    },
    "id": "gYqiRUBNNilX"
   },
   "outputs": [],
   "source": [
    "def rejection_sampling(pi1, pi2):\n",
    "\n",
    "  # def f(x):\n",
    "  #   return [x[0] * (1 + np.log(x[1]/x[0])) - u,\n",
    "  #           x[0] *(2*x[1]-x[0]) - u**2 - sigma**2]\n",
    "\n",
    "\n",
    "  # root = fsolve(f, [ini1,ini2])\n",
    "    \n",
    "  # pi1 = min(root)\n",
    "  # pi2 = max(root)\n",
    "  #using rejection sampling, get N random price samples\n",
    "  N = 10000\n",
    "  n = 0\n",
    "  #A =(pi2/pi1-1)*(pi2-pi1)/don\n",
    "  don = pi2*np.log(pi2/pi1) - (pi2-pi1)\n",
    "  env =(pi2/pi1-1)/don\n",
    "  rej_sample =[]\n",
    "  while(n <= N):\n",
    "    x = uniform.rvs(loc=pi1, scale=pi2-pi1)\n",
    "    a = (pi2/x-1)/don/env\n",
    "    u1 = uniform.rvs()\n",
    "    if (u1 <= a):\n",
    "      rej_sample.append(x)\n",
    "      n += 1\n",
    "  return rej_sample"
   ]
  },
  {
   "cell_type": "code",
   "execution_count": 16,
   "metadata": {
    "colab": {
     "base_uri": "https://localhost:8080/"
    },
    "executionInfo": {
     "elapsed": 11818706,
     "status": "ok",
     "timestamp": 1610032567301,
     "user": {
      "displayName": "Yichen Lou",
      "photoUrl": "",
      "userId": "04272552894692249514"
     },
     "user_tz": -60
    },
    "id": "s7Od-QEBOqjW",
    "outputId": "c19f5ff1-99c6-425c-9099-cc1e0770a0b2"
   },
   "outputs": [
    {
     "name": "stderr",
     "output_type": "stream",
     "text": [
      "C:\\Users\\Ariel Lou\\anaconda3\\lib\\site-packages\\ipykernel_launcher.py:20: DeprecationWarning: time.clock has been deprecated in Python 3.3 and will be removed from Python 3.8: use time.perf_counter or time.process_time instead\n"
     ]
    },
    {
     "name": "stdout",
     "output_type": "stream",
     "text": [
      "[-6.77626358e-20]\n",
      "[0.]\n",
      "[0.]\n",
      "[0.]\n",
      "[-1.94289029e-16]\n",
      "[6.66133815e-16]\n",
      "[-6.10622664e-16]\n",
      "[0.]\n",
      "[2.22044605e-16]\n",
      "[0.]\n",
      "[0.]\n",
      "[-2.22044605e-16]\n",
      "[4.4408921e-16]\n",
      "[0.]\n",
      "[-2.22044605e-15]\n",
      "[0.]\n",
      "[0.]\n",
      "[6.66133815e-16]\n",
      "[-4.4408921e-16]\n",
      "[2.66453526e-15]\n",
      "[0.]\n",
      "[4.21884749e-15]\n",
      "[0.]\n",
      "[3.10862447e-15]\n",
      "[8.8817842e-16]\n",
      "[2.22044605e-15]\n",
      "[8.8817842e-16]\n",
      "[1.33226763e-15]\n",
      "[-1.77635684e-15]\n",
      "[8.8817842e-16]\n",
      "[0.]\n",
      "[4.4408921e-16]\n",
      "[0.]\n",
      "[0.]\n",
      "[0.]\n",
      "[0.]\n",
      "[0.]\n",
      "[-2.22044605e-16]\n",
      "[0.]\n",
      "[2.22044605e-16]\n",
      "[0.]\n",
      "[0.]\n",
      "[0.]\n",
      "[0.]\n",
      "[7.10542736e-15]\n",
      "[0.]\n",
      "[0.]\n",
      "[0.]\n",
      "[-3.55271368e-15]\n",
      "[-2.22044605e-16]\n",
      "[3.55271368e-15]\n",
      "[0.]\n",
      "[3.55271368e-15]\n",
      "[0.]\n",
      "[3.55271368e-15]\n",
      "[0.]\n",
      "[0.]\n",
      "[0.]\n",
      "[0.]\n",
      "[-2.22044605e-16]\n",
      "[0.]\n",
      "[2.22044605e-16]\n",
      "[-7.10542736e-15]\n",
      "[2.22044605e-16]\n",
      "[7.10542736e-15]\n",
      "[0.]\n",
      "[0.]\n",
      "[0.]\n",
      "[7.10542736e-15]\n",
      "[2.22044605e-16]\n",
      "[7.10542736e-15]\n",
      "[0.]\n",
      "[0.]\n",
      "[0.]\n",
      "[-7.10542736e-15]\n",
      "[1.02140518e-14]\n",
      "[-1.42108547e-14]\n",
      "[8.65973959e-15]\n",
      "[7.10542736e-15]\n",
      "[7.32747196e-15]\n",
      "[1.42108547e-14]\n",
      "[5.99520433e-15]\n",
      "[0.]\n",
      "[5.32907052e-15]\n",
      "[0.]\n",
      "[4.21884749e-15]\n",
      "[0.]\n",
      "[3.77475828e-15]\n",
      "[1.42108547e-14]\n",
      "[3.33066907e-15]\n",
      "[-1.42108547e-14]\n",
      "[2.66453526e-15]\n",
      "[-1.42108547e-14]\n",
      "[2.44249065e-15]\n",
      "[-1.42108547e-14]\n",
      "[2.22044605e-15]\n",
      "[-2.84217094e-14]\n",
      "[1.77635684e-15]\n",
      "[0.]\n",
      "[1.55431223e-15]\n",
      "time: 10388.988658800023\n"
     ]
    },
    {
     "name": "stderr",
     "output_type": "stream",
     "text": [
      "C:\\Users\\Ariel Lou\\anaconda3\\lib\\site-packages\\ipykernel_launcher.py:56: DeprecationWarning: time.clock has been deprecated in Python 3.3 and will be removed from Python 3.8: use time.perf_counter or time.process_time instead\n"
     ]
    }
   ],
   "source": [
    "# Experiment Randomisation first compute the log-lottery with Pareto(1) distribution:\n",
    "sigma_list = []\n",
    "DAPX_pareto = []\n",
    "r_list =[]\n",
    "reserve_p_list = []\n",
    "p_d_list = []\n",
    "c_list=[]\n",
    "\n",
    "APX_pareto = []\n",
    "\n",
    "n = 10000\n",
    "step = np.linspace(0.01,10,50)\n",
    "def F(x):\n",
    "   return ((x-1)**3)/((2*x-1)**2) - r**2   \n",
    "\n",
    "\n",
    "def f(x):\n",
    "  return (x * (1 + np.log(k2/(x**2) + 1) - np.log(2)) -u )\n",
    " \n",
    "tic = time.clock()\n",
    "for i in step:\n",
    "    r = i\n",
    "    c = 1+np.sqrt(1+1/(r**2))\n",
    "    c_list.append(c)\n",
    "    u, var = pareto.stats(c, moments='mv')\n",
    "    sigma = np.sqrt(var)\n",
    "    bid_pareto= pareto.rvs(c,size=n)\n",
    "\n",
    "    r = sigma/u\n",
    "    r_list.append(r)\n",
    "\n",
    "    #p_d = 1 + 4* (sigma/u)**2\n",
    "    p_d = fsolve(F, [u-0.1])\n",
    "    print(F(p_d))\n",
    "    p_d_list.append(p_d)\n",
    "    reserve_p = p_d*u/(2*p_d-1)\n",
    "    reserve_p_list.append(reserve_p)\n",
    "    opt = 1\n",
    "    exp_revenue = auction_exp(bid_pareto,reserve_p)\n",
    "\n",
    "    DAPX_pareto.append((opt/exp_revenue)[0])  \n",
    "    k2 = u**2 + sigma**2\n",
    "    pi1 = fsolve(f, [u-0.1])\n",
    "    pi2 = 0.5*(k2/pi1 +pi1)\n",
    "    print(f(pi1))\n",
    "    rej_sample = []\n",
    "    rej_sample = rejection_sampling(pi1,pi2)\n",
    "    rexp_revenue_list = []\n",
    "    for rp_reserve in rej_sample:\n",
    "        rexp_revenue = auction_exp(bid_pareto,rp_reserve)\n",
    "        rexp_revenue_list.append(rexp_revenue)\n",
    "  \n",
    "    APX_pareto.append((opt/np.average(rexp_revenue_list))) \n",
    "\n",
    "\n",
    "toc = time.clock()\n",
    "print('time: ' + str(toc-tic))"
   ]
  },
  {
   "cell_type": "code",
   "execution_count": 15,
   "metadata": {},
   "outputs": [
    {
     "name": "stdout",
     "output_type": "stream",
     "text": [
      "[0.]\n",
      "[-2.28631133e-17]\n"
     ]
    },
    {
     "data": {
      "text/plain": [
       "array([1.04942648])"
      ]
     },
     "execution_count": 15,
     "metadata": {},
     "output_type": "execute_result"
    }
   ],
   "source": [
    "pi1 = fsolve(f, [u-0.1])\n",
    "print(f(pi1))\n",
    "p_d = fsolve(F, [u])\n",
    "print(F(p_d))\n",
    "p_d"
   ]
  },
  {
   "cell_type": "code",
   "execution_count": 18,
   "metadata": {
    "colab": {
     "base_uri": "https://localhost:8080/"
    },
    "executionInfo": {
     "elapsed": 554,
     "status": "ok",
     "timestamp": 1610033768042,
     "user": {
      "displayName": "Yichen Lou",
      "photoUrl": "",
      "userId": "04272552894692249514"
     },
     "user_tz": -60
    },
    "id": "qFHS11jY3Phd",
    "outputId": "593ab856-9cf6-47ff-ad45-befc1314d740"
   },
   "outputs": [
    {
     "data": {
      "image/png": "[encoded data removed]",
      "text/plain": [
       "<Figure size 1080x720 with 1 Axes>"
      ]
     },
     "metadata": {
      "needs_background": "light"
     },
     "output_type": "display_data"
    }
   ],
   "source": [
    "plt.figure(figsize=(15,10))\n",
    "plt.tick_params(axis='x', labelsize= 14)\n",
    "plt.tick_params(axis='y', labelsize= 14)\n",
    "plt.xlabel(\"r = \\u03C3/u\",fontsize=16)\n",
    "plt.ylabel(\"OPT/REV\",fontsize=16)\n",
    "#plt.plot(r_list, APX_pareto,color=\"#FFA500\",label=\"APX\")\n",
    "plt.plot(r_list, DAPX_pareto,color=\"green\",label=\"DAPX\")\n",
    "\n",
    "#lower_bound = 1+np.log(1+np.power(r_list,2))\n",
    "#plt.plot(r_list, ratio,color=\"blue\",label=\"worst case rho_d\")\n",
    "#plt.plot(r_list, lower_bound,color=\"skyblue\",label=\"lower bound 1+ln(1+r^2) \")\n",
    "plt.legend(loc=\"upper left\",fontsize = 16)\n",
    "#plt.savefig(\"apxpareto.png\",bbox_inches='tight')\n",
    "plt.show()"
   ]
  },
  {
   "cell_type": "code",
   "execution_count": null,
   "metadata": {
    "id": "PA67rYxomA_t"
   },
   "outputs": [],
   "source": [
    "import pandas as pd \n",
    "  \n",
    "# creating the DataFrame \n",
    "my_df = { 'r' : r_list[:71],\n",
    "          'DAPX_uniform': DAPX_uniform[:71],\n",
    "         'APX_uniform_list': APX_uniform_list \n",
    "         } \n",
    "df = pd.DataFrame(my_df) \n",
    "  \n",
    "   \n",
    "# saving the DataFrame as a CSV file \n",
    "gfg_csv_data = df.to_csv('result_uniform.csv', index = True) \n",
    "print('\\nCSV String:\\n', gfg_csv_data) "
   ]
  },
  {
   "cell_type": "code",
   "execution_count": 43,
   "metadata": {},
   "outputs": [
    {
     "name": "stderr",
     "output_type": "stream",
     "text": [
      "C:\\Users\\Ariel Lou\\anaconda3\\lib\\site-packages\\ipykernel_launcher.py:20: DeprecationWarning: time.clock has been deprecated in Python 3.3 and will be removed from Python 3.8: use time.perf_counter or time.process_time instead\n"
     ]
    },
    {
     "name": "stdout",
     "output_type": "stream",
     "text": [
      "[2.22044605e-16]\n",
      "[-1.35525272e-20]\n",
      "[1.11022302e-15]\n",
      "[2.77555756e-17]\n",
      "[-4.4408921e-16]\n",
      "[0.]\n",
      "[0.]\n",
      "[5.55111512e-17]\n",
      "[-1.33226763e-15]\n",
      "[0.]\n",
      "[0.]\n",
      "[0.]\n",
      "[-8.8817842e-16]\n",
      "[0.]\n",
      "[0.]\n",
      "[6.43929354e-15]\n",
      "[0.]\n",
      "[1.99840144e-15]\n",
      "[8.8817842e-16]\n",
      "[7.77156117e-16]\n",
      "[0.]\n",
      "[2.22044605e-16]\n",
      "[0.]\n",
      "[1.11022302e-16]\n",
      "[-1.77635684e-15]\n",
      "[1.11022302e-16]\n",
      "[1.77635684e-15]\n",
      "[0.]\n",
      "[0.]\n",
      "[0.]\n",
      "[0.]\n",
      "[1.11022302e-16]\n",
      "[1.77635684e-15]\n",
      "[1.11022302e-16]\n",
      "[0.]\n",
      "[-1.11022302e-16]\n",
      "[3.55271368e-15]\n",
      "[0.]\n",
      "[-3.55271368e-15]\n",
      "[-1.11022302e-16]\n",
      "[3.55271368e-15]\n",
      "[-1.11022302e-16]\n",
      "[3.55271368e-15]\n",
      "[0.]\n",
      "[-3.55271368e-15]\n",
      "[-2.22044605e-16]\n",
      "[3.55271368e-15]\n",
      "[-2.22044605e-16]\n",
      "[0.]\n",
      "[1.11022302e-16]\n",
      "[3.55271368e-15]\n",
      "[1.11022302e-16]\n",
      "[0.]\n",
      "[1.11022302e-16]\n",
      "[0.]\n",
      "[-1.11022302e-16]\n",
      "[0.]\n",
      "[1.11022302e-16]\n",
      "[0.]\n",
      "[0.]\n",
      "[0.]\n",
      "[-1.57651669e-14]\n",
      "[7.10542736e-15]\n",
      "[-9.2148511e-15]\n",
      "[0.]\n",
      "[-5.44009282e-15]\n",
      "[7.10542736e-15]\n",
      "[-3.44169138e-15]\n",
      "[0.]\n",
      "[7.77156117e-15]\n",
      "[-7.10542736e-15]\n",
      "[6.66133815e-15]\n",
      "[-7.10542736e-15]\n",
      "[5.55111512e-15]\n",
      "[7.10542736e-15]\n",
      "[4.88498131e-15]\n",
      "[-7.10542736e-15]\n",
      "[3.88578059e-15]\n",
      "[1.42108547e-14]\n",
      "[3.44169138e-15]\n",
      "[-1.42108547e-14]\n",
      "[2.88657986e-15]\n",
      "[1.42108547e-14]\n",
      "[2.33146835e-15]\n",
      "[0.]\n",
      "[2.22044605e-15]\n",
      "[-1.42108547e-14]\n",
      "[1.88737914e-15]\n",
      "[0.]\n",
      "[1.44328993e-15]\n",
      "[0.]\n",
      "[1.55431223e-15]\n",
      "[-1.42108547e-14]\n",
      "[1.11022302e-15]\n",
      "[0.]\n",
      "[9.99200722e-16]\n",
      "[-1.42108547e-14]\n",
      "[8.8817842e-16]\n",
      "[0.]\n",
      "[9.99200722e-16]\n",
      "time: 10184.30322219999\n"
     ]
    },
    {
     "name": "stderr",
     "output_type": "stream",
     "text": [
      "C:\\Users\\Ariel Lou\\anaconda3\\lib\\site-packages\\ipykernel_launcher.py:56: DeprecationWarning: time.clock has been deprecated in Python 3.3 and will be removed from Python 3.8: use time.perf_counter or time.process_time instead\n"
     ]
    }
   ],
   "source": [
    "# Experiment Randomisation first compute the log-lottery with Pareto(0) distribution:\n",
    "sigma_list = []\n",
    "DAPX_pareto0 = []\n",
    "r_list0 =[]\n",
    "reserve_p_list = []\n",
    "p_d_list = []\n",
    "c_list=[]\n",
    "opt_revenue =[]\n",
    "APX_pareto0 = []\n",
    "\n",
    "n = 10000\n",
    "step = np.linspace(1.0001, 10, 50)\n",
    "def F(x):\n",
    "   return ((x-1)**3)/((2*x-1)**2) - r**2   \n",
    "\n",
    "\n",
    "def f(x):\n",
    "  return (x * (1 + np.log(k2/(x**2) + 1) - np.log(2)) -u )\n",
    " \n",
    "tic = time.clock()\n",
    "for i in step:\n",
    "    \n",
    "    c = 2*i**2/(i**2-1)\n",
    "    c_list.append(c)\n",
    "    u, var = pareto.stats(c, moments='mv')\n",
    "    sigma = np.sqrt(var)\n",
    "    bid_pareto= pareto.rvs(c,size=n)\n",
    "    u = u-1\n",
    "    r = sigma/u\n",
    "    r_list0.append(r)\n",
    "\n",
    "    p_d = fsolve(F, [u+1])\n",
    "    print(F(p_d))\n",
    "    p_d_list.append(p_d)\n",
    "    reserve_p = p_d*u/(2*p_d-1)\n",
    "    reserve_p_list.append(reserve_p)\n",
    "    opt_p = 1/(c-1)\n",
    "    opt_revenue = auction_exp(bid_pareto-1,opt_p)\n",
    "    exp_revenue = auction_exp(bid_pareto-1,reserve_p)\n",
    "\n",
    "    DAPX_pareto0.append((opt_revenue/exp_revenue)[0])  \n",
    "    k2 = u**2 + sigma**2\n",
    "    pi1 = fsolve(f, [u-0.1])\n",
    "    pi2 = 0.5*(k2/pi1 +pi1)\n",
    "    print(f(pi1))\n",
    "    rej_sample = []\n",
    "    rej_sample = rejection_sampling(pi1,pi2)\n",
    "    rexp_revenue_list = []\n",
    "    for rp_reserve in rej_sample:\n",
    "        rexp_revenue = auction_exp(bid_pareto-1,rp_reserve)\n",
    "        rexp_revenue_list.append(rexp_revenue)\n",
    "  \n",
    "    APX_pareto0.append((opt_revenue/np.average(rexp_revenue_list))) \n",
    "\n",
    "\n",
    "toc = time.clock()\n",
    "print('time: ' + str(toc-tic))"
   ]
  },
  {
   "cell_type": "code",
   "execution_count": 42,
   "metadata": {},
   "outputs": [
    {
     "name": "stdout",
     "output_type": "stream",
     "text": [
      "[2.22044605e-16]\n",
      "[1.11022302e-15]\n",
      "[-4.4408921e-16]\n",
      "[0.]\n",
      "[-1.33226763e-15]\n",
      "[0.]\n",
      "[-8.8817842e-16]\n",
      "[0.]\n",
      "[0.]\n",
      "[8.8817842e-16]\n",
      "[0.]\n",
      "[0.]\n",
      "[-1.77635684e-15]\n",
      "[1.77635684e-15]\n",
      "[0.]\n",
      "[0.]\n",
      "[1.77635684e-15]\n",
      "[0.]\n",
      "[3.55271368e-15]\n",
      "[-3.55271368e-15]\n",
      "[3.55271368e-15]\n",
      "[3.55271368e-15]\n",
      "[-3.55271368e-15]\n",
      "[3.55271368e-15]\n",
      "[0.]\n",
      "[3.55271368e-15]\n",
      "[0.]\n",
      "[0.]\n",
      "[0.]\n",
      "[0.]\n",
      "[0.]\n",
      "[7.10542736e-15]\n",
      "[0.]\n",
      "[7.10542736e-15]\n",
      "[0.]\n",
      "[-7.10542736e-15]\n",
      "[-7.10542736e-15]\n",
      "[7.10542736e-15]\n",
      "[-7.10542736e-15]\n",
      "[1.42108547e-14]\n",
      "[-1.42108547e-14]\n",
      "[1.42108547e-14]\n",
      "[0.]\n",
      "[-1.42108547e-14]\n",
      "[0.]\n",
      "[0.]\n",
      "[-1.42108547e-14]\n",
      "[0.]\n",
      "[-1.42108547e-14]\n",
      "[0.]\n"
     ]
    }
   ],
   "source": [
    "\n",
    "for i in np.linspace(1.0001, 10, 50):\n",
    "    c = 2*i**2/(i**2-1)\n",
    "    u, var = pareto.stats(c, moments='mv')\n",
    "    sigma = np.sqrt(var)\n",
    "    bid_pareto= pareto.rvs(c,size=n)\n",
    "    u = u-1\n",
    "    r = sigma/u\n",
    "    r_list0.append(r)\n",
    "\n",
    "    p_d = fsolve(F, [u+1])\n",
    "    print(F(p_d))\n"
   ]
  },
  {
   "cell_type": "code",
   "execution_count": 44,
   "metadata": {},
   "outputs": [
    {
     "data": {
      "image/png": "[encoded data removed]",
      "text/plain": [
       "<Figure size 1080x720 with 1 Axes>"
      ]
     },
     "metadata": {
      "needs_background": "light"
     },
     "output_type": "display_data"
    }
   ],
   "source": [
    "plt.figure(figsize=(15,10))\n",
    "plt.tick_params(axis='x', labelsize= 14)\n",
    "plt.tick_params(axis='y', labelsize= 14)\n",
    "plt.xlabel(\"r = \\u03C3/u\",fontsize=16)\n",
    "plt.ylabel(\"OPT/REV\",fontsize=16)\n",
    "plt.plot(r_list, APX_pareto,color=\"#FFA500\",label=\"APX\")\n",
    "plt.plot(r_list, DAPX_pareto,color=\"green\",label=\"DAPX\")\n",
    "\n",
    "#lower_bound = 1+np.log(1+np.power(r_list,2))\n",
    "#plt.plot(r_list, ratio,color=\"blue\",label=\"worst case rho_d\")\n",
    "#plt.plot(r_list, lower_bound,color=\"skyblue\",label=\"lower bound 1+ln(1+r^2) \")\n",
    "plt.legend(loc=\"upper left\",fontsize = 16)\n",
    "plt.savefig(\"apxpareto0.png\",bbox_inches='tight')\n",
    "plt.show()"
   ]
  }
 ],
 "metadata": {
  "colab": {
   "collapsed_sections": [],
   "name": "APX_uniform.ipynb",
   "provenance": []
  },
  "kernelspec": {
   "display_name": "Python 3",
   "language": "python",
   "name": "python3"
  },
  "language_info": {
   "codemirror_mode": {
    "name": "ipython",
    "version": 3
   },
   "file_extension": ".py",
   "mimetype": "text/x-python",
   "name": "python",
   "nbconvert_exporter": "python",
   "pygments_lexer": "ipython3",
   "version": "3.7.6"
  }
 },
 "nbformat": 4,
 "nbformat_minor": 1
}
