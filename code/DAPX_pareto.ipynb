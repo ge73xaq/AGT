{
 "cells": [
  {
   "cell_type": "code",
   "execution_count": null,
   "metadata": {
    "colab": {
     "base_uri": "https://localhost:8080/"
    },
    "executionInfo": {
     "elapsed": 26755,
     "status": "ok",
     "timestamp": 1611743505273,
     "user": {
      "displayName": "Yichen Lou",
      "photoUrl": "",
      "userId": "04272552894692249514"
     },
     "user_tz": -60
    },
    "id": "f_0HUItCQhIt",
    "outputId": "bc94307b-d89d-41de-88fa-809b70264a66"
   },
   "outputs": [
    {
     "name": "stdout",
     "output_type": "stream",
     "text": [
      "Mounted at /content/drive/\n",
      "/content/drive/My Drive/Thesis\n"
     ]
    }
   ],
   "source": [
    "from google.colab import drive\n",
    "drive.mount('/content/drive/', force_remount=True)\n",
    "%cd 'drive/My Drive/Thesis'"
   ]
  },
  {
   "cell_type": "code",
   "execution_count": 1,
   "metadata": {
    "id": "ZIKZTpsFQbXi"
   },
   "outputs": [],
   "source": [
    "%load_ext autoreload\n",
    "%autoreload 2\n",
    "import numpy as np\n",
    "import matplotlib.pyplot as plt\n",
    "from sklearn.datasets import make_moons\n",
    "# import uniform distribution\n",
    "from scipy.stats import uniform\n",
    "from scipy.stats import binom\n",
    "import scipy.special as sc\n",
    "from scipy.optimize import fsolve\n",
    "from scipy.stats import pareto"
   ]
  },
  {
   "cell_type": "code",
   "execution_count": 15,
   "metadata": {
    "id": "srAIADb-5G4q"
   },
   "outputs": [],
   "source": [
    "def auction_exp(data_auction, p):\n",
    "    \"\"\"Train a normalizing flow model with maximum likelihood.\n",
    "\n",
    "    Args:\n",
    "        model: normalizing flow model. Flow or StackedFlows\n",
    "        dataset: dataset containing data to fit. Dataset\n",
    "        batch_size: number of samples per batch. int\n",
    "        max_epochs: number of training epochs. int\n",
    "        frequency: frequency for plotting density visualization. int\n",
    "        \n",
    "    Return:\n",
    "        model: trained model. Flow or StackedFlows\n",
    "        losses: loss evolution during training. list of floats\n",
    "    \"\"\"\n",
    "    revenue = 0\n",
    "    for bid in data_auction:\n",
    "        if bid >= p:\n",
    "          #change the bidder with price p\n",
    "          revenue += p\n",
    "    \n",
    "    revenue = revenue/len(data_auction)\n",
    "    return revenue"
   ]
  },
  {
   "cell_type": "code",
   "execution_count": null,
   "metadata": {
    "colab": {
     "base_uri": "https://localhost:8080/"
    },
    "executionInfo": {
     "elapsed": 2948,
     "status": "ok",
     "timestamp": 1609760320480,
     "user": {
      "displayName": "Yichen Lou",
      "photoUrl": "",
      "userId": "04272552894692249514"
     },
     "user_tz": -60
    },
    "id": "NKJNAPgCzYGz",
    "outputId": "db7babf2-6edd-4b26-f722-2636f514a239"
   },
   "outputs": [
    {
     "name": "stdout",
     "output_type": "stream",
     "text": [
      "u =1.0526315789473684\n",
      "0.05547855544155052\n",
      "r = 0.052704627669472995\n",
      "[1.17103387]\n",
      "[0.91848362]\n",
      "worst case robust DAPX = [1.17103387]\n",
      "pareto distribution DAPX = [1.08875105]\n",
      "using mean DAPX = 2.6457163068032354\n",
      "Theoritically the DAPX_pareto:\n"
     ]
    }
   ],
   "source": [
    "# Experiment pareto distribution:\n",
    "# for x>=1 , c>2.\n",
    "np.random.seed(5)\n",
    "n = 1000000\n",
    "c = 20\n",
    "u, var = pareto.stats(c, moments='mv')\n",
    "sigma  = np.sqrt(var)\n",
    "print('u ='+ str(u))\n",
    "print(sigma)\n",
    "#not super accurate, but due to the character of cdf and pde maybe also factorial\n",
    "r = sigma/u\n",
    "print('r = ' + str(r))\n",
    "def F(x):\n",
    "   return ((x-1)**3)/((2*x-1)**2) - r**2   \n",
    "            \n",
    "\n",
    "p_d =  fsolve(F, [u])\n",
    "print(p_d)\n",
    "# np.isclose(F(x), [ 0.0])\n",
    "\n",
    "\n",
    "bid_pareto = pareto.rvs(c,size=n)\n",
    "#p_d = 1 + 4* (sigma/u)**2\n",
    "reserve_p = p_d*u/(2*p_d-1)\n",
    "print(reserve_p) \n",
    " #opt should also be in the experiment, one is average and another sum of it. \n",
    "opt = 1\n",
    "exp_revenue = auction_exp(bid_pareto,reserve_p)\n",
    "u_revenue = auction_exp(bid_pareto,u)\n",
    "DAPX_u = opt/u_revenue\n",
    "DAPX = opt/exp_revenue\n",
    "print('worst case robust DAPX = ' + str(p_d))\n",
    "print('pareto distribution DAPX = ' + str(DAPX))\n",
    "print('using mean DAPX = ' + str(DAPX_u))\n",
    "print(\"Theoritically the DAPX_pareto:\")\n"
   ]
  },
  {
   "cell_type": "code",
   "execution_count": null,
   "metadata": {
    "colab": {
     "base_uri": "https://localhost:8080/",
     "height": 283
    },
    "executionInfo": {
     "elapsed": 747,
     "status": "ok",
     "timestamp": 1609760489469,
     "user": {
      "displayName": "Yichen Lou",
      "photoUrl": "",
      "userId": "04272552894692249514"
     },
     "user_tz": -60
    },
    "id": "inPRGLDIaE-w",
    "outputId": "a0536891-9af5-45e4-cfe9-707680701a76"
   },
   "outputs": [
    {
     "data": {
      "text/plain": [
       "[<matplotlib.lines.Line2D at 0x7f5c8597ae10>]"
      ]
     },
     "execution_count": 47,
     "metadata": {
      "tags": []
     },
     "output_type": "execute_result"
    },
    {
     "data": {
      "image/png": "[encoded data removed]",
      "text/plain": [
       "<Figure size 432x288 with 1 Axes>"
      ]
     },
     "metadata": {
      "needs_background": "light",
      "tags": []
     },
     "output_type": "display_data"
    }
   ],
   "source": [
    "\n",
    "b_list = np.arange(2.1, 50, 0.5)\n",
    "reserve_p_list = []\n",
    "\n",
    "for b in b_list:\n",
    "  u, var = pareto.stats(b, moments='mv')\n",
    "  sigma = np.sqrt(var)\n",
    "  r = sigma/u\n",
    "  p_d =  fsolve(F, [u])\n",
    "\n",
    "  reserve_p_list.append(p_d*u/(2*p_d-1))\n",
    "\n",
    "\n",
    "plt.plot(b_list, reserve_p_list,color=\"green\",label=\"reverse price VS parameter b\")\n",
    "\n"
   ]
  },
  {
   "cell_type": "code",
   "execution_count": null,
   "metadata": {
    "id": "mripVT_5o6iH"
   },
   "outputs": [],
   "source": [
    "# Experiment pareto distribution:\n",
    "# for x>=1 , c>2.\n",
    "def F(x):\n",
    "   return ((x-1)**3)/((2*x-1)**2) - r**2   \n",
    "sigma_list = []\n",
    "DAPX_pareto = []\n",
    "r_list =[]\n",
    "reserve_p_list = []\n",
    "p_d_list = []\n",
    "c_list = []\n",
    "step1 = np.arange(0, 0.01, 0.001)\n",
    "step1 = np.arange(0.01, 0.5, 0.01)\n",
    "step2 = np.arange(0.5, 1, 0.1)\n",
    "step = np.concatenate((step1, step2))\n",
    "n = 100000\n",
    "for i in step:\n",
    "  c = 2.001 + i\n",
    "  c_list.append(c)\n",
    "  u, var = pareto.stats(c, moments='mv')\n",
    "  sigma = np.sqrt(var)\n",
    "  data_pareto= pareto.rvs(c,size=n)\n",
    "\n",
    "  r = sigma/u\n",
    "  r_list.append(r)\n",
    "\n",
    "  #p_d = 1 + 4* (sigma/u)**2\n",
    "  p_d = fsolve(F, [u])\n",
    "  p_d_list.append(p_d)\n",
    "  reserve_p = p_d*u/(2*p_d-1)\n",
    "  reserve_p_list.append(reserve_p)\n",
    "  opt = 1\n",
    "  exp_revenue = auction_exp(data_pareto,reserve_p)\n",
    "\n",
    "  DAPX_pareto.append((opt/exp_revenue)[0])  "
   ]
  },
  {
   "cell_type": "code",
   "execution_count": 27,
   "metadata": {
    "id": "pMUfaO0B437Q"
   },
   "outputs": [],
   "source": [
    "# Experiment pareto distribution:\n",
    "# for x>=1 , c>2.\n",
    "def F(x):\n",
    "   return ((x-1)**3)/((2*x-1)**2) - r**2   \n",
    "\n",
    "def FC(x):\n",
    "   return  r**2 - 1/(x*(x-2))   \n",
    "\n",
    "\n",
    "sigma_list = []\n",
    "DAPX_pareto = []\n",
    "r_list =[]\n",
    "reserve_p_list = []\n",
    "p_d_list = []\n",
    "c_list = []\n",
    "step = np.linspace(0.01,10,50)\n",
    "\n",
    "n = 100000\n",
    "for i in step:\n",
    "  r = i\n",
    "  c = 1+np.sqrt(1+1/(r**2))\n",
    "  c_list.append(c)\n",
    "  u, var = pareto.stats(c, moments='mv')\n",
    "  sigma = np.sqrt(var)\n",
    "  data_pareto= pareto.rvs(c,size=n)\n",
    "\n",
    "  r = sigma/u\n",
    "  r_list.append(r)\n",
    "\n",
    "  #p_d = 1 + 4* (sigma/u)**2\n",
    "  p_d = fsolve(F, [u])\n",
    "  p_d_list.append(p_d)\n",
    "  reserve_p = p_d*u/(2*p_d-1)\n",
    "  reserve_p_list.append(reserve_p)\n",
    "  opt = 1\n",
    "  exp_revenue = auction_exp(data_pareto,reserve_p)\n",
    "\n",
    "  DAPX_pareto.append((opt/exp_revenue)[0])  "
   ]
  },
  {
   "cell_type": "code",
   "execution_count": 28,
   "metadata": {
    "colab": {
     "base_uri": "https://localhost:8080/",
     "height": 625
    },
    "executionInfo": {
     "elapsed": 992,
     "status": "ok",
     "timestamp": 1611686860716,
     "user": {
      "displayName": "Yichen Lou",
      "photoUrl": "",
      "userId": "04272552894692249514"
     },
     "user_tz": -60
    },
    "id": "vX84c0IGkK3-",
    "outputId": "4f367d0e-fc57-42c9-8e91-7f701253150c"
   },
   "outputs": [
    {
     "data": {
      "image/png": "[encoded data removed]",
      "text/plain": [
       "<Figure size 1440x720 with 1 Axes>"
      ]
     },
     "metadata": {
      "needs_background": "light"
     },
     "output_type": "display_data"
    }
   ],
   "source": [
    "# create figure and axis objects with subplots()\n",
    "fig,ax = plt.subplots(figsize=(20, 10))\n",
    "ax.tick_params(axis='x', labelsize= 14)\n",
    "ax.tick_params(axis='y', labelsize= 14)\n",
    "# make a plot\n",
    "#ax.bar(r_list, DAPX_uniform, width = 0.005)\n",
    "ax.plot(r_list, DAPX_pareto,color=\"green\",marker=\"o\",label=\"Experimental DAPX\")\n",
    "#ax.plot(polyline,  model(polyline),color=\"cadetblue\")\n",
    "# set x-axis label\n",
    "ax.set_xlabel(\"r = \\u03C3/u\",fontsize=14)\n",
    "# set y-axis label\n",
    "ax.set_ylabel(\"DAPX_Pareto(1)\",fontsize=14)\n",
    "ax.set_ylim(1,1.16)\n",
    "#ax.axhline(1,color=\"red\")\n",
    "# twin object for two different y-axis on the sample plot\n",
    "#ax2=ax.twinx()\n",
    "# make a plot with different y-axis using second axis object\n",
    "#ax.plot(r_list, p_d_list,color=\"blue\",marker=\"o\",label=\"Theoritical \\u03C1_D\")\n",
    "\n",
    "plt.legend(loc=\"upper left\",fontsize = 15)\n",
    "plt.savefig(\"pareto_dapx2.png\",bbox_inches='tight')\n",
    "plt.show()\n"
   ]
  },
  {
   "cell_type": "code",
   "execution_count": 9,
   "metadata": {},
   "outputs": [
    {
     "data": {
      "text/plain": [
       "50"
      ]
     },
     "execution_count": 9,
     "metadata": {},
     "output_type": "execute_result"
    }
   ],
   "source": [
    "len(r_list)"
   ]
  },
  {
   "cell_type": "code",
   "execution_count": null,
   "metadata": {
    "colab": {
     "base_uri": "https://localhost:8080/",
     "height": 823
    },
    "executionInfo": {
     "elapsed": 692,
     "status": "error",
     "timestamp": 1611594659621,
     "user": {
      "displayName": "Yichen Lou",
      "photoUrl": "",
      "userId": "04272552894692249514"
     },
     "user_tz": -60
    },
    "id": "C5avvixQ-kIz",
    "outputId": "42da4033-25c0-449e-9d68-d24fd4b2045b"
   },
   "outputs": [
    {
     "ename": "NameError",
     "evalue": "ignored",
     "output_type": "error",
     "traceback": [
      "\u001b[0;31m---------------------------------------------------------------------------\u001b[0m",
      "\u001b[0;31mNameError\u001b[0m                                 Traceback (most recent call last)",
      "\u001b[0;32m<ipython-input-4-36a956bad496>\u001b[0m in \u001b[0;36m<module>\u001b[0;34m()\u001b[0m\n\u001b[1;32m      3\u001b[0m \u001b[0;31m# make a plot\u001b[0m\u001b[0;34m\u001b[0m\u001b[0;34m\u001b[0m\u001b[0;34m\u001b[0m\u001b[0m\n\u001b[1;32m      4\u001b[0m \u001b[0;31m#ax.bar(r_list, DAPX_uniform, width = 0.005)\u001b[0m\u001b[0;34m\u001b[0m\u001b[0;34m\u001b[0m\u001b[0;34m\u001b[0m\u001b[0m\n\u001b[0;32m----> 5\u001b[0;31m \u001b[0max\u001b[0m\u001b[0;34m.\u001b[0m\u001b[0mplot\u001b[0m\u001b[0;34m(\u001b[0m\u001b[0mr_list\u001b[0m\u001b[0;34m,\u001b[0m \u001b[0mDAPX_pareto\u001b[0m\u001b[0;34m,\u001b[0m\u001b[0mcolor\u001b[0m\u001b[0;34m=\u001b[0m\u001b[0;34m\"royalblue\"\u001b[0m\u001b[0;34m)\u001b[0m\u001b[0;34m\u001b[0m\u001b[0;34m\u001b[0m\u001b[0m\n\u001b[0m\u001b[1;32m      6\u001b[0m \u001b[0;31m#ax.plot(polyline,  model(polyline),color=\"cadetblue\")\u001b[0m\u001b[0;34m\u001b[0m\u001b[0;34m\u001b[0m\u001b[0;34m\u001b[0m\u001b[0m\n\u001b[1;32m      7\u001b[0m \u001b[0;31m# set x-axis label\u001b[0m\u001b[0;34m\u001b[0m\u001b[0;34m\u001b[0m\u001b[0;34m\u001b[0m\u001b[0m\n",
      "\u001b[0;31mNameError\u001b[0m: name 'r_list' is not defined"
     ]
    },
    {
     "data": {
      "image/png": "[encoded data removed]",
      "text/plain": [
       "<Figure size 1440x720 with 1 Axes>"
      ]
     },
     "metadata": {
      "needs_background": "light",
      "tags": []
     },
     "output_type": "display_data"
    }
   ],
   "source": [
    "# create figure and axis objects with subplots()\n",
    "fig,ax = plt.subplots(figsize=(20, 10))\n",
    "# make a plot\n",
    "#ax.bar(r_list, DAPX_uniform, width = 0.005)\n",
    "ax.plot(r_list, DAPX_pareto,color=\"green\",marker=\"o\",label=\"Experimental DAPX\")\n",
    "#ax.plot(polyline,  model(polyline),color=\"cadetblue\")\n",
    "# set x-axis label\n",
    "ax.set_xlabel(\"r = \\u03C3/u\",fontsize=14)\n",
    "# set y-axis label\n",
    "ax.set_ylabel(\"Robust ratio value\",fontsize=14)\n",
    "#ax.set_ylim(1,3)\n",
    "#ax.axhline(1,color=\"red\")\n",
    "# twin object for two different y-axis on the sample plot\n",
    "#ax2=ax.twinx()\n",
    "# make a plot with different y-axis using second axis object\n",
    "#ax.plot(r_list, p_d_list,color=\"blue\",marker=\"o\",label=\"Theoritical \\u03C1_D\")\n",
    "#ax2.set_ylabel(\"p_d\",color=\"blue\",fontsize=14)\n",
    "#ax2.axhline(0,color=\"red\")\n",
    "#plt.title('simulation'+ '  u =' +str(u)+' with different standard deviation ')\n",
    "plt.legend(loc=\"upper left\",fontsize = 15,bbox_to_anchor=(0,1))\n",
    "plt.savefig(\"pareto_dapx_s.png\")\n",
    "plt.show()\n"
   ]
  },
  {
   "cell_type": "code",
   "execution_count": null,
   "metadata": {
    "colab": {
     "base_uri": "https://localhost:8080/",
     "height": 625
    },
    "executionInfo": {
     "elapsed": 1098,
     "status": "ok",
     "timestamp": 1611270380275,
     "user": {
      "displayName": "Yichen Lou",
      "photoUrl": "",
      "userId": "04272552894692249514"
     },
     "user_tz": -60
    },
    "id": "kIWy7iNnbmIu",
    "outputId": "cb5deb39-3515-4edc-e0ee-7bbd7165dea2"
   },
   "outputs": [
    {
     "data": {
      "image/png": "[encoded data removed]",
      "text/plain": [
       "<Figure size 1800x720 with 2 Axes>"
      ]
     },
     "metadata": {
      "needs_background": "light",
      "tags": []
     },
     "output_type": "display_data"
    }
   ],
   "source": [
    "# create figure and axis objects with subplots()\n",
    "fig, (ax1, ax2)  = plt.subplots(1, 2,figsize=(25, 10))\n",
    "# make a plot\n",
    "\n",
    "ax1.plot(r_list, DAPX_pareto,color=\"green\",marker=\"o\",label=\"experiment result\")\n",
    "ax1.set_xlabel(\"r\",fontsize=14)\n",
    "ax1.set_ylabel(\"DAPX_pareto\",color=\"red\",fontsize=14)\n",
    "ax1.plot(r_list, p_d_list,color=\"blue\",marker=\"o\",label=\"Numerical solution\")\n",
    "\n",
    "ax2.plot(c_list, DAPX_pareto,color=\"green\",marker=\"o\",label=\"experiment result\")\n",
    "ax2.set_xlabel(\"c\",fontsize=14)\n",
    "ax2.set_ylabel(\"DAPX_pareto\",color=\"red\",fontsize=14)\n",
    "ax2.plot(c_list, p_d_list,color=\"blue\",marker=\"o\",label=\"Numerical solution\")\n",
    "\n",
    "plt.title('simulation'+ 'with different c values')\n",
    "\n",
    "ax1.legend(loc=\"upper left\",fontsize = 15)\n",
    "ax2.legend(loc=\"upper left\",fontsize = 15)\n",
    "\n",
    "plt.show()\n"
   ]
  },
  {
   "cell_type": "code",
   "execution_count": null,
   "metadata": {
    "colab": {
     "base_uri": "https://localhost:8080/"
    },
    "executionInfo": {
     "elapsed": 2699,
     "status": "ok",
     "timestamp": 1611748978257,
     "user": {
      "displayName": "Yichen Lou",
      "photoUrl": "",
      "userId": "04272552894692249514"
     },
     "user_tz": -60
    },
    "id": "JGC6EGSf_DpD",
    "outputId": "f68b5367-b2ff-4ccf-daa8-b348349838bd"
   },
   "outputs": [
    {
     "name": "stdout",
     "output_type": "stream",
     "text": [
      "r = 0.9999999174596359\n",
      "[-1.11022302e-16]\n",
      "[5.466024e-11]\n",
      "worst case robust DAPX = [5.86453584]\n",
      "pareto distribution DAPX = [1.16382319]\n",
      "Theoritically the DAPX_pareto:\n"
     ]
    }
   ],
   "source": [
    "# Experiment different pareto distribution:\n",
    "# for x>=0 , c>2, so we have mean and standard deviation the variable is x - 1\n",
    "np.random.seed(5)\n",
    "n = 1000000\n",
    "c = 10000000000\n",
    "u, var = pareto.stats(c, moments='mv')\n",
    "sigma = np.sqrt(var)\n",
    "#not super accurate, but due to the character of cdf and pde maybe also factorial\n",
    "r = sigma/(u-1)\n",
    "print('r = ' + str(r))\n",
    "def F(x):\n",
    "   return ((x-1)**3)/((2*x-1)**2) - r**2   \n",
    "            \n",
    "\n",
    "p_d =  fsolve(F, [u])\n",
    "print(F(p_d))\n",
    "# np.isclose(F(x), [ 0.0])\n",
    "\n",
    "\n",
    "bid_pareto = pareto.rvs(c,size=n)\n",
    "#p_d = 1 + 4* (sigma/u)**2\n",
    "opt_p = 1/(c-1)\n",
    "reserve_p = p_d*(u-1)/(2*p_d-1)\n",
    "print(reserve_p) \n",
    "\n",
    "opt_revenue = auction_exp(bid_pareto-1,opt_p)\n",
    "exp_revenue = auction_exp(bid_pareto-1,reserve_p)\n",
    "\n",
    "DAPX = opt_revenue/exp_revenue\n",
    "print('worst case robust DAPX = ' + str(p_d))\n",
    "print('pareto distribution DAPX = ' + str(DAPX))\n",
    "print(\"Theoritically the DAPX_pareto:\")\n"
   ]
  },
  {
   "cell_type": "code",
   "execution_count": 4,
   "metadata": {
    "id": "O2d3iqMRNW8I"
   },
   "outputs": [],
   "source": [
    "# Experiment different pareto distribution with change in c\n",
    "# for x>=0 , c>2.\n",
    "sigma_list = []\n",
    "DAPX_pareto = []\n",
    "r_list =[]\n",
    "reserve_p_list = []\n",
    "p_d_list = []\n",
    "c_list = []\n",
    "step = np.arange(0, 1, 0.01)\n",
    "def F(x):\n",
    "   return ((x-1)**3)/((2*x-1)**2) - r**2   \n",
    "            \n",
    "n = 100000\n",
    "for i in step:\n",
    "  c = 2.01 + i\n",
    "  c_list.append(c)\n",
    "  u, var = pareto.stats(c, moments='mv')\n",
    "  sigma = np.sqrt(var)\n",
    "  bid_pareto= pareto.rvs(c,size=n)\n",
    "\n",
    "  r = sigma/(u-1)\n",
    "  r_list.append(r)\n",
    "\n",
    "  #p_d = 1 + 4* (sigma/u)**2\n",
    "  p_d = fsolve(F, [u])\n",
    "  #print(F(p_d))\n",
    "  p_d_list.append(p_d)\n",
    "  reserve_p = p_d*(u-1)/(2*p_d-1)\n",
    "  reserve_p_list.append(reserve_p)\n",
    "  opt_p = 1/(c-1)\n",
    "  opt_revenue = auction_exp(bid_pareto-1,opt_p)\n",
    "  exp_revenue = auction_exp(bid_pareto - 1,reserve_p)\n",
    "  #print(exp_revenue)\n",
    "  DAPX_pareto.append(opt_revenue/exp_revenue)  "
   ]
  },
  {
   "cell_type": "code",
   "execution_count": 28,
   "metadata": {
    "id": "SOiKooukM8z_"
   },
   "outputs": [
    {
     "name": "stdout",
     "output_type": "stream",
     "text": [
      "[2.22044605e-16]\n",
      "[1.11022302e-15]\n",
      "[-4.4408921e-16]\n",
      "[0.]\n",
      "[-1.33226763e-15]\n",
      "[0.]\n",
      "[-8.8817842e-16]\n",
      "[0.]\n",
      "[0.]\n",
      "[8.8817842e-16]\n",
      "[0.]\n",
      "[0.]\n",
      "[-1.77635684e-15]\n",
      "[1.77635684e-15]\n",
      "[0.]\n",
      "[0.]\n",
      "[1.77635684e-15]\n",
      "[0.]\n",
      "[3.55271368e-15]\n",
      "[-3.55271368e-15]\n",
      "[3.55271368e-15]\n",
      "[3.55271368e-15]\n",
      "[-3.55271368e-15]\n",
      "[3.55271368e-15]\n",
      "[0.]\n",
      "[3.55271368e-15]\n",
      "[0.]\n",
      "[0.]\n",
      "[0.]\n",
      "[0.]\n",
      "[0.]\n",
      "[7.10542736e-15]\n",
      "[0.]\n",
      "[7.10542736e-15]\n",
      "[0.]\n",
      "[-7.10542736e-15]\n",
      "[-7.10542736e-15]\n",
      "[7.10542736e-15]\n",
      "[-7.10542736e-15]\n",
      "[1.42108547e-14]\n",
      "[-1.42108547e-14]\n",
      "[1.42108547e-14]\n",
      "[0.]\n",
      "[-1.42108547e-14]\n",
      "[0.]\n",
      "[0.]\n",
      "[-1.42108547e-14]\n",
      "[0.]\n",
      "[-1.42108547e-14]\n",
      "[0.]\n"
     ]
    }
   ],
   "source": [
    "# Experiment different pareto distribution with change in r\n",
    "# for x>=0 , c>2.\n",
    "def F(x):\n",
    "   return ((x-1)**3)/((2*x-1)**2) - r**2  \n",
    "sigma_list = []\n",
    "DAPX_pareto = []\n",
    "r_list =[]\n",
    "reserve_p_list = []\n",
    "p_d_list = []\n",
    "c_list = []\n",
    "opt_p_list = []\n",
    "opt_revenue_list = []\n",
    "exp_revenue_list =[]\n",
    "step = np.linspace(1.0001, 10, 50)\n",
    "n = 1000000\n",
    "for i in step:\n",
    "  c = 2*i**2/(i**2-1)\n",
    "  c_list.append(c)\n",
    "  u, var = pareto.stats(c, moments='mv')\n",
    "  sigma = np.sqrt(var)\n",
    "  bid_pareto= pareto.rvs(c,size=n)\n",
    "\n",
    "  r = sigma/(u-1)\n",
    "  r_list.append(r)\n",
    "\n",
    "  #p_d = 1 + 4* (sigma/u)**2\n",
    "  p_d = fsolve(F, [u])\n",
    "  print(F(p_d))\n",
    "  p_d_list.append(p_d)\n",
    "  reserve_p = p_d*(u-1)/(2*p_d-1)\n",
    "  reserve_p_list.append(reserve_p)\n",
    "  opt_p = 1/(c-1)\n",
    "  opt_p_list.append(opt_p)\n",
    "  opt_revenue = auction_exp(bid_pareto-1,opt_p)\n",
    "  opt_revenue_list.append(opt_revenue)\n",
    "  exp_revenue = auction_exp(bid_pareto-1,reserve_p)\n",
    "  exp_revenue_list.append(exp_revenue)\n",
    "  #print(exp_revenue)\n",
    "  DAPX_pareto.append(opt_revenue/exp_revenue)  "
   ]
  },
  {
   "cell_type": "code",
   "execution_count": null,
   "metadata": {
    "colab": {
     "base_uri": "https://localhost:8080/",
     "height": 610
    },
    "executionInfo": {
     "elapsed": 821,
     "status": "ok",
     "timestamp": 1611744178911,
     "user": {
      "displayName": "Yichen Lou",
      "photoUrl": "",
      "userId": "04272552894692249514"
     },
     "user_tz": -60
    },
    "id": "9R1Vl_MpRIJy",
    "outputId": "7241a138-8cd0-46c6-bbff-86931ff7c3a8"
   },
   "outputs": [
    {
     "data": {
      "image/png": "[encoded data removed]",
      "text/plain": [
       "<Figure size 1440x720 with 1 Axes>"
      ]
     },
     "metadata": {
      "needs_background": "light",
      "tags": []
     },
     "output_type": "display_data"
    }
   ],
   "source": [
    "# create figure and axis objects with subplots()\n",
    "x = np.arange(2.01, 5, 0.01)\n",
    "fig,ax = plt.subplots(figsize=(20, 10))\n",
    "# make a plot\n",
    "ax.plot(x, np.sqrt(x/(x-2)),color=\"green\",marker=\"o\",label=\"experiment result\")\n",
    "# set x-axis label\n",
    "ax.set_xlabel(\"c\",fontsize=14)\n",
    "# set y-axis label\n",
    "ax.set_ylabel(\"r\",color=\"red\",fontsize=14)\n",
    "plt.legend(loc=\"upper left\",fontsize = 15)\n",
    "\n",
    "plt.show()"
   ]
  },
  {
   "cell_type": "code",
   "execution_count": 30,
   "metadata": {
    "colab": {
     "base_uri": "https://localhost:8080/",
     "height": 618
    },
    "executionInfo": {
     "elapsed": 1191,
     "status": "ok",
     "timestamp": 1611744209634,
     "user": {
      "displayName": "Yichen Lou",
      "photoUrl": "",
      "userId": "04272552894692249514"
     },
     "user_tz": -60
    },
    "id": "n4fRlgrfOMPg",
    "outputId": "9b38fc1a-c4b7-4609-8832-5d31073198dc"
   },
   "outputs": [
    {
     "data": {
      "image/png": "[encoded data removed]",
      "text/plain": [
       "<Figure size 1440x720 with 1 Axes>"
      ]
     },
     "metadata": {
      "needs_background": "light"
     },
     "output_type": "display_data"
    }
   ],
   "source": [
    "# create figure and axis objects with subplots()\n",
    "fig,ax = plt.subplots(figsize=(20, 10))\n",
    "# make a plot\n",
    "ax.plot(r_list, DAPX_pareto,color=\"green\",marker=\"o\",label=\"Experimental DAPX\")\n",
    "# set x-axis label\n",
    "ax.set_xlabel(\"r = \\u03C3/u\",fontsize=16)\n",
    "# set y-axis label\n",
    "ax.set_ylabel(\"DAPX_Pareto(0)\",fontsize=16)\n",
    "#ax.set_ylim(0.5,8)\n",
    "ax.plot(r_list, p_d_list,color=\"blue\",marker=\"o\",label=\"Theoritical \\u03C1_D\")\n",
    "ax.tick_params(axis='x', labelsize= 14)\n",
    "ax.tick_params(axis='y', labelsize= 14)\n",
    "\n",
    "plt.legend(loc=\"upper left\",fontsize = 16)\n",
    "plt.savefig(\"pareto_dapx_r_large.png\",bbox_inches='tight')\n",
    "plt.show()\n"
   ]
  },
  {
   "cell_type": "code",
   "execution_count": null,
   "metadata": {
    "colab": {
     "base_uri": "https://localhost:8080/"
    },
    "executionInfo": {
     "elapsed": 481,
     "status": "ok",
     "timestamp": 1611747372656,
     "user": {
      "displayName": "Yichen Lou",
      "photoUrl": "",
      "userId": "04272552894692249514"
     },
     "user_tz": -60
    },
    "id": "FRM1kGp6YkAc",
    "outputId": "f35fdda9-050a-48f6-d610-8c1f4f41f619"
   },
   "outputs": [
    {
     "name": "stdout",
     "output_type": "stream",
     "text": [
      "\n",
      "CSV String:\n",
      " None\n"
     ]
    }
   ],
   "source": [
    "import pandas as pd \n",
    "  \n",
    "# creating the DataFrame \n",
    "my_df = { 'r' : r_list,\n",
    "          'opt_revenue_list': opt_revenue_list,\n",
    "         'exp_revenue_list': exp_revenue_list \n",
    "         } \n",
    "df = pd.DataFrame(my_df) \n",
    "  \n",
    "   \n",
    "# saving the DataFrame as a CSV file \n",
    "gfg_csv_data = df.to_csv('pareto.csv', index = True) \n",
    "print('\\nCSV String:\\n', gfg_csv_data) \n"
   ]
  },
  {
   "cell_type": "code",
   "execution_count": 3,
   "metadata": {
    "colab": {
     "base_uri": "https://localhost:8080/",
     "height": 614
    },
    "executionInfo": {
     "elapsed": 1328,
     "status": "ok",
     "timestamp": 1611748543110,
     "user": {
      "displayName": "Yichen Lou",
      "photoUrl": "",
      "userId": "04272552894692249514"
     },
     "user_tz": -60
    },
    "id": "xBu53JXOPE3j",
    "outputId": "09a07a10-2c9b-474f-ce0e-6d3355137be3"
   },
   "outputs": [
    {
     "name": "stdout",
     "output_type": "stream",
     "text": [
      "[2.22044605e-16]\n",
      "[0.]\n",
      "[6.66133815e-16]\n",
      "[0.]\n",
      "[2.22044605e-16]\n",
      "[0.]\n",
      "[0.]\n",
      "[-4.4408921e-16]\n",
      "[-8.8817842e-16]\n",
      "[4.4408921e-16]\n",
      "[0.]\n",
      "[0.]\n",
      "[0.]\n",
      "[0.]\n",
      "[0.]\n",
      "[0.]\n",
      "[8.8817842e-16]\n",
      "[0.]\n",
      "[0.]\n",
      "[-1.77635684e-15]\n",
      "[-1.77635684e-15]\n",
      "[0.]\n",
      "[-1.77635684e-15]\n",
      "[0.]\n",
      "[0.]\n",
      "[1.77635684e-15]\n",
      "[-1.77635684e-15]\n",
      "[1.77635684e-15]\n",
      "[-1.77635684e-15]\n",
      "[0.]\n",
      "[-1.77635684e-15]\n",
      "[0.]\n",
      "[0.]\n",
      "[0.]\n",
      "[3.55271368e-15]\n",
      "[0.]\n",
      "[0.]\n",
      "[0.]\n",
      "[0.]\n",
      "[0.]\n",
      "[0.]\n",
      "[0.]\n",
      "[-3.55271368e-15]\n",
      "[-3.55271368e-15]\n",
      "[3.55271368e-15]\n",
      "[-3.55271368e-15]\n",
      "[3.55271368e-15]\n",
      "[0.]\n",
      "[0.]\n",
      "[0.]\n",
      "[0.]\n",
      "[7.10542736e-15]\n",
      "[1.42108547e-14]\n",
      "[0.]\n",
      "[0.]\n",
      "[0.]\n",
      "[0.]\n",
      "[1.42108547e-14]\n",
      "[-7.10542736e-15]\n",
      "[7.10542736e-15]\n",
      "[1.42108547e-14]\n",
      "[0.]\n",
      "[0.]\n",
      "[-1.42108547e-14]\n",
      "[0.]\n",
      "[1.42108547e-14]\n",
      "[0.]\n",
      "[-7.10542736e-15]\n",
      "[0.]\n",
      "[0.]\n",
      "[-7.10542736e-15]\n",
      "[-7.10542736e-15]\n",
      "[0.]\n",
      "[0.]\n",
      "[1.42108547e-14]\n",
      "[0.]\n",
      "[0.]\n",
      "[0.]\n",
      "[0.]\n",
      "[0.]\n",
      "[1.42108547e-14]\n",
      "[-1.42108547e-14]\n",
      "[-1.42108547e-14]\n",
      "[-1.42108547e-14]\n",
      "[0.]\n",
      "[1.42108547e-14]\n",
      "[0.]\n",
      "[0.]\n",
      "[-1.42108547e-14]\n",
      "[0.]\n",
      "[-1.42108547e-14]\n",
      "[0.]\n",
      "[-2.84217094e-14]\n",
      "[0.]\n",
      "[-1.42108547e-14]\n",
      "[-2.84217094e-14]\n",
      "[0.]\n",
      "[0.]\n",
      "[0.]\n",
      "[-1.42108547e-14]\n",
      "[-1.42108547e-14]\n",
      "[0.]\n",
      "[0.]\n",
      "[-1.42108547e-14]\n",
      "[-1.42108547e-14]\n",
      "[-2.84217094e-14]\n",
      "[-5.68434189e-14]\n",
      "[-2.84217094e-14]\n",
      "[0.]\n",
      "[0.]\n",
      "[-2.84217094e-14]\n",
      "[0.]\n",
      "[0.]\n",
      "[0.]\n",
      "[0.]\n",
      "[0.]\n",
      "[0.]\n",
      "[0.]\n",
      "[0.]\n",
      "[0.]\n",
      "[2.84217094e-14]\n",
      "[0.]\n",
      "[-2.84217094e-14]\n",
      "[0.]\n",
      "[0.]\n",
      "[2.84217094e-14]\n",
      "[0.]\n",
      "[2.84217094e-14]\n",
      "[0.]\n",
      "[0.]\n",
      "[0.]\n",
      "[2.84217094e-14]\n",
      "[-2.84217094e-14]\n",
      "[2.84217094e-14]\n",
      "[0.]\n",
      "[-2.84217094e-14]\n",
      "[-2.84217094e-14]\n",
      "[-2.84217094e-14]\n",
      "[2.84217094e-14]\n",
      "[2.84217094e-14]\n",
      "[-2.84217094e-14]\n",
      "[-2.84217094e-14]\n",
      "[-2.84217094e-14]\n",
      "[0.]\n",
      "[2.84217094e-14]\n",
      "[2.84217094e-14]\n",
      "[0.]\n",
      "[-5.68434189e-14]\n",
      "[0.]\n",
      "[2.84217094e-14]\n",
      "[0.]\n",
      "[-2.84217094e-14]\n",
      "[0.]\n",
      "[5.68434189e-14]\n",
      "[0.]\n",
      "[-5.68434189e-14]\n",
      "[-5.68434189e-14]\n",
      "[0.]\n",
      "[5.68434189e-14]\n",
      "[0.]\n",
      "[0.]\n",
      "[0.]\n",
      "[0.]\n",
      "[5.68434189e-14]\n",
      "[-5.68434189e-14]\n",
      "[-5.68434189e-14]\n",
      "[5.68434189e-14]\n",
      "[0.]\n",
      "[0.]\n",
      "[0.]\n",
      "[0.]\n",
      "[0.]\n",
      "[5.68434189e-14]\n",
      "[0.]\n",
      "[0.]\n",
      "[0.]\n",
      "[0.]\n",
      "[0.]\n",
      "[0.]\n",
      "[0.]\n",
      "[0.]\n",
      "[-5.68434189e-14]\n",
      "[-5.68434189e-14]\n",
      "[-5.68434189e-14]\n",
      "[-5.68434189e-14]\n",
      "[0.]\n",
      "[-5.68434189e-14]\n",
      "[5.68434189e-14]\n",
      "[5.68434189e-14]\n",
      "[5.68434189e-14]\n",
      "[0.]\n",
      "[-5.68434189e-14]\n",
      "[0.]\n",
      "[0.]\n",
      "[-5.68434189e-14]\n",
      "[5.68434189e-14]\n",
      "[5.68434189e-14]\n",
      "[0.]\n",
      "[5.68434189e-14]\n",
      "[0.]\n",
      "[5.68434189e-14]\n",
      "[0.]\n",
      "[0.]\n",
      "[-5.68434189e-14]\n",
      "[0.]\n",
      "[0.]\n",
      "[1.13686838e-13]\n",
      "[0.]\n",
      "[-5.68434189e-14]\n",
      "[5.68434189e-14]\n",
      "[0.]\n",
      "[0.]\n",
      "[0.]\n",
      "[0.]\n",
      "[0.]\n",
      "[0.]\n",
      "[5.68434189e-14]\n",
      "[0.]\n",
      "[-5.68434189e-14]\n",
      "[0.]\n",
      "[0.]\n",
      "[1.13686838e-13]\n",
      "[0.]\n",
      "[0.]\n",
      "[0.]\n",
      "[1.13686838e-13]\n",
      "[0.]\n",
      "[0.]\n",
      "[0.]\n",
      "[0.]\n",
      "[-1.13686838e-13]\n",
      "[1.13686838e-13]\n",
      "[0.]\n",
      "[0.]\n",
      "[1.13686838e-13]\n",
      "[1.13686838e-13]\n",
      "[0.]\n",
      "[0.]\n",
      "[0.]\n",
      "[-1.13686838e-13]\n",
      "[0.]\n",
      "[0.]\n",
      "[0.]\n",
      "[0.]\n",
      "[0.]\n",
      "[-1.13686838e-13]\n",
      "[1.13686838e-13]\n",
      "[1.13686838e-13]\n",
      "[1.13686838e-13]\n",
      "[0.]\n",
      "[1.13686838e-13]\n",
      "[1.13686838e-13]\n",
      "[1.13686838e-13]\n",
      "[-1.13686838e-13]\n",
      "[0.]\n",
      "[-1.13686838e-13]\n",
      "[0.]\n",
      "[-1.13686838e-13]\n",
      "[0.]\n",
      "[1.13686838e-13]\n",
      "[0.]\n",
      "[0.]\n",
      "[0.]\n",
      "[0.]\n",
      "[0.]\n",
      "[1.13686838e-13]\n",
      "[1.13686838e-13]\n",
      "[0.]\n",
      "[0.]\n",
      "[-1.13686838e-13]\n",
      "[-1.13686838e-13]\n",
      "[0.]\n",
      "[2.27373675e-13]\n",
      "[0.]\n",
      "[0.]\n",
      "[0.]\n",
      "[0.]\n",
      "[0.]\n",
      "[0.]\n",
      "[1.13686838e-13]\n",
      "[0.]\n",
      "[1.13686838e-13]\n",
      "[0.]\n",
      "[0.]\n",
      "[0.]\n",
      "[-1.13686838e-13]\n",
      "[0.]\n",
      "[-1.13686838e-13]\n",
      "[0.]\n",
      "[0.]\n",
      "[0.]\n",
      "[-1.13686838e-13]\n"
     ]
    },
    {
     "name": "stderr",
     "output_type": "stream",
     "text": [
      "C:\\Users\\Ariel Lou\\anaconda3\\lib\\site-packages\\ipykernel_launcher.py:19: RuntimeWarning: overflow encountered in double_scalars\n",
      "C:\\Users\\Ariel Lou\\anaconda3\\lib\\site-packages\\ipykernel_launcher.py:20: RuntimeWarning: overflow encountered in double_scalars\n",
      "C:\\Users\\Ariel Lou\\anaconda3\\lib\\site-packages\\ipykernel_launcher.py:20: RuntimeWarning: invalid value encountered in true_divide\n"
     ]
    },
    {
     "name": "stdout",
     "output_type": "stream",
     "text": [
      "[-1.13686838e-13]\n",
      "[0.]\n",
      "[1.13686838e-13]\n",
      "[-1.13686838e-13]\n",
      "[0.]\n",
      "[-1.13686838e-13]\n",
      "[0.]\n",
      "[0.]\n",
      "[1.13686838e-13]\n",
      "[0.]\n",
      "[0.]\n",
      "[1.13686838e-13]\n",
      "[0.]\n",
      "[0.]\n",
      "[0.]\n",
      "[1.13686838e-13]\n",
      "[0.]\n",
      "[0.]\n",
      "[-1.13686838e-13]\n",
      "[1.13686838e-13]\n",
      "[0.]\n",
      "[1.13686838e-13]\n",
      "[1.13686838e-13]\n",
      "[0.]\n",
      "[0.]\n",
      "[0.]\n",
      "[0.]\n",
      "[2.27373675e-13]\n",
      "[-2.27373675e-13]\n",
      "[-2.27373675e-13]\n",
      "[0.]\n",
      "[2.27373675e-13]\n",
      "[0.]\n",
      "[0.]\n",
      "[0.]\n",
      "[0.]\n",
      "[2.27373675e-13]\n",
      "[0.]\n",
      "[2.27373675e-13]\n",
      "[0.]\n",
      "[0.]\n",
      "[0.]\n",
      "[2.27373675e-13]\n",
      "[0.]\n",
      "[0.]\n",
      "[0.]\n",
      "[2.27373675e-13]\n",
      "[0.]\n",
      "[2.27373675e-13]\n",
      "[0.]\n",
      "[0.]\n",
      "[0.]\n",
      "[0.]\n",
      "[2.27373675e-13]\n",
      "[2.27373675e-13]\n",
      "[0.]\n",
      "[0.]\n",
      "[0.]\n",
      "[0.]\n",
      "[-2.27373675e-13]\n",
      "[-2.27373675e-13]\n",
      "[0.]\n",
      "[0.]\n",
      "[0.]\n",
      "[2.27373675e-13]\n",
      "[-2.27373675e-13]\n",
      "[0.]\n",
      "[2.27373675e-13]\n",
      "[0.]\n",
      "[-2.27373675e-13]\n",
      "[0.]\n",
      "[0.]\n",
      "[2.27373675e-13]\n",
      "[0.]\n",
      "[0.]\n",
      "[2.27373675e-13]\n",
      "[2.27373675e-13]\n",
      "[0.]\n",
      "[0.]\n",
      "[0.]\n",
      "[0.]\n",
      "[0.]\n",
      "[0.]\n",
      "[0.]\n",
      "[-2.27373675e-13]\n",
      "[0.]\n",
      "[0.]\n",
      "[-2.27373675e-13]\n",
      "[0.]\n",
      "[0.]\n",
      "[0.]\n",
      "[0.]\n",
      "[0.]\n",
      "[-2.27373675e-13]\n",
      "[0.]\n",
      "[-2.27373675e-13]\n",
      "[0.]\n",
      "[-2.27373675e-13]\n",
      "[-2.27373675e-13]\n",
      "[2.27373675e-13]\n",
      "[0.]\n",
      "[4.54747351e-13]\n",
      "[-2.27373675e-13]\n",
      "[0.]\n",
      "[2.27373675e-13]\n",
      "[0.]\n",
      "[2.27373675e-13]\n",
      "[-2.27373675e-13]\n",
      "[0.]\n",
      "[-2.27373675e-13]\n",
      "[0.]\n",
      "[-4.54747351e-13]\n",
      "[-2.27373675e-13]\n",
      "[4.54747351e-13]\n",
      "[4.54747351e-13]\n",
      "[2.27373675e-13]\n",
      "[-2.27373675e-13]\n",
      "[2.27373675e-13]\n",
      "[0.]\n",
      "[0.]\n",
      "[0.]\n",
      "[0.]\n",
      "[-2.27373675e-13]\n",
      "[-2.27373675e-13]\n",
      "[0.]\n",
      "[4.54747351e-13]\n",
      "[0.]\n",
      "[2.27373675e-13]\n",
      "[0.]\n",
      "[-2.27373675e-13]\n",
      "[4.54747351e-13]\n",
      "[2.27373675e-13]\n",
      "[0.]\n",
      "[0.]\n",
      "[2.27373675e-13]\n",
      "[-4.54747351e-13]\n",
      "[0.]\n",
      "[0.]\n",
      "[0.]\n",
      "[0.]\n",
      "[0.]\n",
      "[0.]\n",
      "[0.]\n",
      "[-2.27373675e-13]\n",
      "[-2.27373675e-13]\n",
      "[-4.54747351e-13]\n",
      "[-2.27373675e-13]\n",
      "[-2.27373675e-13]\n",
      "[-2.27373675e-13]\n",
      "[-2.27373675e-13]\n",
      "[0.]\n",
      "[-2.27373675e-13]\n",
      "[0.]\n",
      "[2.27373675e-13]\n",
      "[0.]\n",
      "[2.27373675e-13]\n",
      "[0.]\n",
      "[-2.27373675e-13]\n",
      "[0.]\n",
      "[-4.54747351e-13]\n",
      "[0.]\n",
      "[0.]\n",
      "[0.]\n",
      "[4.54747351e-13]\n",
      "[0.]\n",
      "[4.54747351e-13]\n",
      "[4.54747351e-13]\n",
      "[0.]\n",
      "[0.]\n",
      "[4.54747351e-13]\n",
      "[0.]\n",
      "[4.54747351e-13]\n",
      "[0.]\n",
      "[-4.54747351e-13]\n",
      "[0.]\n",
      "[-4.54747351e-13]\n",
      "[-4.54747351e-13]\n",
      "[0.]\n",
      "[0.]\n",
      "[0.]\n",
      "[0.]\n",
      "[0.]\n",
      "[0.]\n",
      "[0.]\n",
      "[0.]\n",
      "[-4.54747351e-13]\n",
      "[0.]\n",
      "[0.]\n",
      "[0.]\n",
      "[0.]\n",
      "[0.]\n",
      "[0.]\n",
      "[-4.54747351e-13]\n",
      "[0.]\n",
      "[0.]\n",
      "[0.]\n",
      "[0.]\n",
      "[-4.54747351e-13]\n",
      "[0.]\n",
      "[0.]\n",
      "[0.]\n",
      "[4.54747351e-13]\n",
      "[0.]\n",
      "[0.]\n",
      "[0.]\n",
      "[0.]\n",
      "[-4.54747351e-13]\n",
      "[-4.54747351e-13]\n"
     ]
    }
   ],
   "source": [
    "#plot dapx of pareto(0) theoritically\n",
    "reserve_p_list = []\n",
    "r_list=[]\n",
    "c_list=[]\n",
    "D =[]\n",
    "def F(x):\n",
    "    return ((x-1)**3)/((2*x-1)**2) - r**2 \n",
    "for i in np.linspace(1.0001, 50, 500):\n",
    "    c = 2*i**2/(i**2-1)\n",
    "    c_list.append(c)\n",
    "    u, var = pareto.stats(c, moments='mv')\n",
    "    sigma = np.sqrt(var)\n",
    "    r = sigma/(u-1)\n",
    "    r_list.append(r)\n",
    "    p_d = fsolve(F, [u])\n",
    "    print(F(p_d))\n",
    "    reserve_p = p_d*(u-1)/(2*p_d-1)\n",
    "    reserve_p_list.append(reserve_p)\n",
    "    n = (c-1)**(c-1)*((reserve_p+1)**c)\n",
    "    D.append(n/(reserve_p*(c**c)))\n",
    "\n",
    "\n"
   ]
  },
  {
   "cell_type": "code",
   "execution_count": 11,
   "metadata": {},
   "outputs": [
    {
     "data": {
      "image/png": "[encoded data removed]",
      "text/plain": [
       "<Figure size 1440x720 with 1 Axes>"
      ]
     },
     "metadata": {
      "needs_background": "light"
     },
     "output_type": "display_data"
    }
   ],
   "source": [
    "fig,ax = plt.subplots(figsize=(20, 10))\n",
    "\n",
    "ax.set_xlabel(\"r = \\u03C3/u\",fontsize=16)\n",
    "# set y-axis label\n",
    "ax.set_ylabel(\"DAPX_Pareto(0)\",fontsize=16)\n",
    "ax.set_ylim(1.12,1.17)\n",
    "ax.plot(r_list, D,color=\"blue\",label=\"Pareto(0) DAPX function\")\n",
    "#ax.plot(r_list, x,color=\"red\",marker=\"o\",label=\"Numerical solution\")\n",
    "ax.tick_params(axis='x', labelsize= 14)\n",
    "ax.tick_params(axis='y', labelsize= 14)\n",
    "#plt.title('simulation'+ '  u =' +str(u)+' with different standard deviation ')\n",
    "plt.legend(loc=\"upper left\",fontsize = 16)\n",
    "plt.savefig(\"pareto_dapx_r.png\")\n",
    "plt.show()"
   ]
  },
  {
   "cell_type": "code",
   "execution_count": null,
   "metadata": {
    "colab": {
     "base_uri": "https://localhost:8080/",
     "height": 625
    },
    "executionInfo": {
     "elapsed": 1164,
     "status": "ok",
     "timestamp": 1610720562660,
     "user": {
      "displayName": "Yichen Lou",
      "photoUrl": "",
      "userId": "04272552894692249514"
     },
     "user_tz": -60
    },
    "id": "tLcrnd6CbG0y",
    "outputId": "48dbe64c-321a-48cf-eb55-6579bc8451c8"
   },
   "outputs": [
    {
     "data": {
      "image/png": "[encoded data removed]",
      "text/plain": [
       "<Figure size 1800x720 with 2 Axes>"
      ]
     },
     "metadata": {
      "needs_background": "light",
      "tags": []
     },
     "output_type": "display_data"
    }
   ],
   "source": [
    "# create figure and axis objects with subplots()\n",
    "fig, (ax1, ax2)  = plt.subplots(1, 2,figsize=(25, 10))\n",
    "# make a plot\n",
    "\n",
    "ax1.plot(r_list, DAPX_pareto,color=\"green\",marker=\"o\",label=\"experiment result\")\n",
    "ax1.set_xlabel(\"r\",fontsize=14)\n",
    "ax1.set_ylabel(\"DAPX_pareto\",color=\"red\",fontsize=14)\n",
    "ax1.plot(r_list, p_d_list,color=\"blue\",marker=\"o\",label=\"Numerical solution\")\n",
    "\n",
    "ax2.plot(c_list, DAPX_pareto,color=\"green\",marker=\"o\",label=\"experiment result\")\n",
    "ax2.set_xlabel(\"c\",fontsize=14)\n",
    "ax2.set_ylabel(\"DAPX_pareto\",color=\"red\",fontsize=14)\n",
    "ax2.plot(c_list, p_d_list,color=\"blue\",marker=\"o\",label=\"Numerical solution\")\n",
    "\n",
    "plt.title('simulation'+ 'with different c values')\n",
    "\n",
    "ax1.legend(loc=\"upper left\",fontsize = 15)\n",
    "ax2.legend(loc=\"upper left\",fontsize = 15)\n",
    "\n",
    "plt.show()\n"
   ]
  },
  {
   "cell_type": "code",
   "execution_count": null,
   "metadata": {
    "colab": {
     "base_uri": "https://localhost:8080/"
    },
    "executionInfo": {
     "elapsed": 596,
     "status": "ok",
     "timestamp": 1607549947331,
     "user": {
      "displayName": "Yichen Lou",
      "photoUrl": "",
      "userId": "04272552894692249514"
     },
     "user_tz": -60
    },
    "id": "O9wKVsGA5_1L",
    "outputId": "1fd9ef53-b24a-4715-a3a4-d70622e968bf"
   },
   "outputs": [
    {
     "name": "stdout",
     "output_type": "stream",
     "text": [
      "(array([ 1.27229331, -0.39635363,  1.01584743]), array([5.60044326e-05]), 3, array([1.71814986, 0.21878689, 0.00966222]), 1.7763568394002505e-14)\n",
      "(array([-3.73383765,  5.40248018, -1.8945457 ,  1.19391765]), array([2.19689157e-05]), 4, array([1.97328182e+00, 3.25064010e-01, 2.21740390e-02, 7.45486096e-04]), 1.7763568394002505e-14)\n",
      "(array([  6.89949469, -13.90967817,  10.96536408,  -3.22994957,\n",
      "         1.31265908]), array([2.16445001e-05]), 5, array([2.19419460e+00, 4.28980345e-01, 3.84984450e-02, 1.94940221e-03,\n",
      "       5.51017290e-05]), 1.7763568394002505e-14)\n"
     ]
    }
   ],
   "source": [
    "#polynomial fit with degree = 3\n",
    "model = np.poly1d(np.polyfit(r_list, DAPX_uniform, 2))\n",
    "#add fitted polynomial line to scatterplot\n",
    "polyline = np.linspace(0.2, 0.5, 50)\n",
    "\n",
    "\n",
    "fit1 = np.polyfit(r_list, DAPX_uniform, 2,full=True)\n",
    "print(fit1)\n",
    "fit2 = np.polyfit(r_list, DAPX_uniform, 3,full=True)\n",
    "print(fit2)\n",
    "fit3 = np.polyfit(r_list, DAPX_uniform, 4,full=True)\n",
    "print(fit3)"
   ]
  },
  {
   "cell_type": "markdown",
   "metadata": {
    "id": "mhCIcgb-Qbe6"
   },
   "source": [
    "Using 32 layers of radial flow should lead to a good reasonable fit of the data after 500 epochs. Traning with more layers and for more epochs would improve the density estimation but would take more time."
   ]
  }
 ],
 "metadata": {
  "colab": {
   "collapsed_sections": [],
   "name": "DAPX_pareto.ipynb",
   "provenance": []
  },
  "kernelspec": {
   "display_name": "Python 3",
   "language": "python",
   "name": "python3"
  },
  "language_info": {
   "codemirror_mode": {
    "name": "ipython",
    "version": 3
   },
   "file_extension": ".py",
   "mimetype": "text/x-python",
   "name": "python",
   "nbconvert_exporter": "python",
   "pygments_lexer": "ipython3",
   "version": "3.7.6"
  }
 },
 "nbformat": 4,
 "nbformat_minor": 1
}
