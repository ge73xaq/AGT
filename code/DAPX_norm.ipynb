{
 "cells": [
  {
   "cell_type": "code",
   "execution_count": null,
   "metadata": {
    "colab": {
     "base_uri": "https://localhost:8080/",
     "height": 159
    },
    "executionInfo": {
     "elapsed": 31348,
     "status": "ok",
     "timestamp": 1591545569877,
     "user": {
      "displayName": "Yichen Lou",
      "photoUrl": "",
      "userId": "04272552894692249514"
     },
     "user_tz": -120
    },
    "id": "f_0HUItCQhIt",
    "outputId": "633db79d-5a25-451a-db2c-97f5120ed5a3"
   },
   "outputs": [
    {
     "name": "stdout",
     "output_type": "stream",
     "text": [
      "Go to this URL in a browser: https://accounts.google.com/o/oauth2/auth?client_id=947318989803-6bn6qk8qdgf4n4g3pfee6491hc0brc4i.apps.googleusercontent.com&redirect_uri=urn%3aietf%3awg%3aoauth%3a2.0%3aoob&response_type=code&scope=email%20https%3a%2f%2fwww.googleapis.com%2fauth%2fdocs.test%20https%3a%2f%2fwww.googleapis.com%2fauth%2fdrive%20https%3a%2f%2fwww.googleapis.com%2fauth%2fdrive.photos.readonly%20https%3a%2f%2fwww.googleapis.com%2fauth%2fpeopleapi.readonly\n",
      "\n",
      "Enter your authorization code:\n",
      "··········\n",
      "Mounted at /content/drive/\n",
      "[Errno 2] No such file or directory: 'drive/My Drive/Master/mlgs/project1A'\n",
      "/content\n"
     ]
    }
   ],
   "source": [
    "from google.colab import drive\n",
    "drive.mount('/content/drive/', force_remount=True)\n",
    "%cd 'drive/My Drive/Master/mlgs/project1A'"
   ]
  },
  {
   "cell_type": "code",
   "execution_count": 1,
   "metadata": {
    "executionInfo": {
     "elapsed": 1696,
     "status": "ok",
     "timestamp": 1610023968039,
     "user": {
      "displayName": "Yichen Lou",
      "photoUrl": "",
      "userId": "04272552894692249514"
     },
     "user_tz": -60
    },
    "id": "ZIKZTpsFQbXi"
   },
   "outputs": [],
   "source": [
    "%load_ext autoreload\n",
    "%autoreload 2\n",
    "import numpy as np\n",
    "import matplotlib.pyplot as plt\n",
    "from sklearn.datasets import make_moons\n",
    "# import uniform distribution\n",
    "from scipy.stats import uniform\n",
    "from scipy.stats import binom\n",
    "from scipy.stats import norm\n",
    "import scipy.special as sc\n",
    "import scipy.optimize\n",
    "from scipy.optimize import fsolve\n",
    "from scipy.stats import truncnorm"
   ]
  },
  {
   "cell_type": "code",
   "execution_count": 2,
   "metadata": {
    "colab": {
     "base_uri": "https://localhost:8080/"
    },
    "executionInfo": {
     "elapsed": 591,
     "status": "ok",
     "timestamp": 1609970906017,
     "user": {
      "displayName": "Yichen Lou",
      "photoUrl": "",
      "userId": "04272552894692249514"
     },
     "user_tz": -60
    },
    "id": "1HcpWUYXvkIZ",
    "outputId": "25a56970-2118-4d1c-c4f2-7feedc55891e"
   },
   "outputs": [
    {
     "data": {
      "text/plain": [
       "100"
      ]
     },
     "execution_count": 2,
     "metadata": {
      "tags": []
     },
     "output_type": "execute_result"
    }
   ],
   "source": [
    "step =np.arange(0, 5, 0.05)\n",
    "len(step)"
   ]
  },
  {
   "cell_type": "code",
   "execution_count": 2,
   "metadata": {
    "executionInfo": {
     "elapsed": 802,
     "status": "ok",
     "timestamp": 1610023970865,
     "user": {
      "displayName": "Yichen Lou",
      "photoUrl": "",
      "userId": "04272552894692249514"
     },
     "user_tz": -60
    },
    "id": "srAIADb-5G4q"
   },
   "outputs": [],
   "source": [
    "def auction_exp(data_auction, p):\n",
    "    \"\"\"Train a normalizing flow model with maximum likelihood.\n",
    "\n",
    "    Args:\n",
    "        model: normalizing flow model. Flow or StackedFlows\n",
    "        dataset: dataset containing data to fit. Dataset\n",
    "        batch_size: number of samples per batch. int\n",
    "        max_epochs: number of training epochs. int\n",
    "        frequency: frequency for plotting density visualization. int\n",
    "        \n",
    "    Return:\n",
    "        model: trained model. Flow or StackedFlows\n",
    "        losses: loss evolution during training. list of floats\n",
    "    \"\"\"\n",
    "    revenue = 0\n",
    "    for bid in data_auction:\n",
    "        if bid >= p:\n",
    "          #change the bidder with price p\n",
    "          revenue += p\n",
    "    \n",
    "    revenue = revenue/len(data_auction)\n",
    "    return revenue"
   ]
  },
  {
   "cell_type": "code",
   "execution_count": 15,
   "metadata": {
    "colab": {
     "base_uri": "https://localhost:8080/",
     "height": 283
    },
    "executionInfo": {
     "elapsed": 1563,
     "status": "ok",
     "timestamp": 1609858747222,
     "user": {
      "displayName": "Yichen Lou",
      "photoUrl": "",
      "userId": "04272552894692249514"
     },
     "user_tz": -60
    },
    "id": "n3H3EJfm-arE",
    "outputId": "5b61af53-4600-4d7a-835d-9f715f4b4c1a"
   },
   "outputs": [
    {
     "data": {
      "text/plain": [
       "[<matplotlib.lines.Line2D at 0x7fb99a99a518>]"
      ]
     },
     "execution_count": 15,
     "metadata": {
      "tags": []
     },
     "output_type": "execute_result"
    },
    {
     "data": {
      "image/png": "[encoded data removed]",
      "text/plain": [
       "<Figure size 432x288 with 1 Axes>"
      ]
     },
     "metadata": {
      "needs_background": "light",
      "tags": []
     },
     "output_type": "display_data"
    }
   ],
   "source": [
    "x_range = np.linspace(-1,20,1000)\n",
    "plt.plot(x_range, truncnorm.pdf(x_range, a,  b,loc = u,scale = sigma))"
   ]
  },
  {
   "cell_type": "code",
   "execution_count": 16,
   "metadata": {
    "colab": {
     "base_uri": "https://localhost:8080/",
     "height": 446
    },
    "executionInfo": {
     "elapsed": 790,
     "status": "ok",
     "timestamp": 1609858750617,
     "user": {
      "displayName": "Yichen Lou",
      "photoUrl": "",
      "userId": "04272552894692249514"
     },
     "user_tz": -60
    },
    "id": "NttCoHJbmEP2",
    "outputId": "c0c28805-7628-4ea3-e366-1c61cca30718"
   },
   "outputs": [
    {
     "data": {
      "text/plain": [
       "array([9.85863759, 3.73891763, 7.55762784, 2.06356072, 3.37583406,\n",
       "       2.17459311, 4.28251915, 1.634819  , 5.41832426, 3.21032034,\n",
       "       4.4926078 , 2.23490306, 1.29101739, 5.68772813, 3.78017689,\n",
       "       1.58535553, 3.96133429, 4.39778074, 4.49351019, 3.36010814,\n",
       "       3.54854353, 3.02023548, 1.51593038, 3.84524298, 4.40987021,\n",
       "       2.62429503, 2.70805096, 1.80463035, 3.50635976, 3.38617791,\n",
       "       2.71426696, 5.64488195, 3.29081986, 2.56232748, 4.63407828,\n",
       "       4.9959239 , 6.69792692, 9.38756   , 3.43720886, 4.67023899,\n",
       "       1.1369476 , 1.90824542, 1.62121721, 4.81274133, 4.77979779,\n",
       "       4.00874949, 2.71295881, 2.89410114, 2.51200758, 6.43017869])"
      ]
     },
     "execution_count": 16,
     "metadata": {
      "tags": []
     },
     "output_type": "execute_result"
    },
    {
     "data": {
      "image/png": "[encoded data removed]",
      "text/plain": [
       "<Figure size 432x288 with 1 Axes>"
      ]
     },
     "metadata": {
      "needs_background": "light",
      "tags": []
     },
     "output_type": "display_data"
    }
   ],
   "source": [
    "\n",
    "plt.plot(x_range, norm.pdf(x_range, loc = u,scale = sigma))\n",
    "truncnorm.rvs(a = 0, b = np.inf, loc = u,scale = sigma,size=50)"
   ]
  },
  {
   "cell_type": "code",
   "execution_count": 3,
   "metadata": {
    "colab": {
     "base_uri": "https://localhost:8080/"
    },
    "executionInfo": {
     "elapsed": 11323,
     "status": "ok",
     "timestamp": 1610023983275,
     "user": {
      "displayName": "Yichen Lou",
      "photoUrl": "",
      "userId": "04272552894692249514"
     },
     "user_tz": -60
    },
    "id": "85FCKe1MbdDP",
    "outputId": "c730cea4-9cf9-4d7a-e5e9-d12106e8b147"
   },
   "outputs": [
    {
     "name": "stdout",
     "output_type": "stream",
     "text": [
      "worst case robust DAPX = [4.00766681]\n",
      "Normal distribution DAPX = [1.15019142]\n",
      "Theoritical DAPX_normal:\n",
      "[1.42730857]\n"
     ]
    }
   ],
   "source": [
    "# Experiment 5:\n",
    "# This time, we use truncated normal distribution\n",
    "\n",
    "n=1000000\n",
    "myclip_a = 0\n",
    "myclip_b = np.inf\n",
    "u = 1\n",
    "sigma = 10\n",
    "\n",
    "#computer alpha beta for truncated normal distribution\n",
    "a, b = (myclip_a - u) / sigma, myclip_b\n",
    "\n",
    "mean, var = truncnorm.stats(a, b,loc = u,scale = sigma, moments='mv')\n",
    "\n",
    "data_norm = truncnorm.rvs(a, b, loc = u,scale = sigma,size=n)\n",
    "\n",
    "#constant of truncated normal distribution\n",
    "k = 1/(1-norm.cdf(0, loc = u,scale = sigma))\n",
    "\n",
    "#not super accurate, but due to the character of cdf and pde maybe also factorial\n",
    "#use virtual valuation  = 0 to solve optimal reserve price\n",
    "def F(x):\n",
    "   return x-((1-k*(norm.cdf(x, loc = u,scale = sigma)-norm.cdf(0, loc = u,scale = sigma)))/(k*norm.pdf(x, loc = u,scale = sigma)))\n",
    "\n",
    "p_opt = fsolve(F, u)\n",
    "\n",
    "#use the truncated normal distribution mean and standard deviation\n",
    "r = np.sqrt(var)/mean\n",
    "\n",
    "def f(x):\n",
    "   return ((x-1)**3)/((2*x-1)**2) - r**2   \n",
    "            \n",
    "p_d = fsolve(f, [u])\n",
    "\n",
    "reserve_p = p_d*mean/(2*p_d-1)\n",
    "\n",
    "opt = auction_exp(data_norm,p_opt)\n",
    "exp_revenue = auction_exp(data_norm,reserve_p)\n",
    "\n",
    "DAPX = opt/exp_revenue\n",
    "print('worst case robust DAPX = ' + str(p_d))\n",
    "print('Normal distribution DAPX = ' + str(DAPX))\n",
    "print(\"Theoritical DAPX_normal:\")\n",
    "print(p_opt*(1-(norm.cdf(p_opt, loc = u,scale = sigma)-norm.cdf(0, loc = u,scale = sigma)))/(reserve_p*(1-(norm.cdf(reserve_p, loc = u,scale = sigma)-norm.cdf(0, loc = u,scale = sigma)))))"
   ]
  },
  {
   "cell_type": "code",
   "execution_count": 9,
   "metadata": {
    "colab": {
     "base_uri": "https://localhost:8080/"
    },
    "executionInfo": {
     "elapsed": 784,
     "status": "ok",
     "timestamp": 1610033263656,
     "user": {
      "displayName": "Yichen Lou",
      "photoUrl": "",
      "userId": "04272552894692249514"
     },
     "user_tz": -60
    },
    "id": "pwESCG39QdIW",
    "outputId": "17ee0940-21eb-4403-9345-334a882f5677"
   },
   "outputs": [
    {
     "name": "stdout",
     "output_type": "stream",
     "text": [
      "8.66666719\n",
      "0.748448951419565\n",
      "[27.80327358]\n"
     ]
    }
   ],
   "source": [
    "print(8.66666719)\n",
    "print(r)\n",
    "print(p_opt*(1-(norm.cdf(p_opt, loc = u,scale = sigma)-norm.cdf(0, loc = u,scale = sigma))))\n",
    "(reserve_p*(1-(norm.cdf(reserve_p, loc = u,scale = sigma)-norm.cdf(0, loc = u,scale = sigma))))\n",
    "p_opt \n",
    "F(8.66666719)\n",
    "p_opt = fsolve(F, mean)"
   ]
  },
  {
   "cell_type": "code",
   "execution_count": null,
   "metadata": {
    "id": "-i588TWxuwga"
   },
   "outputs": [],
   "source": [
    "u = 1\n",
    "\n",
    "n=1000000\n",
    "DAPX_list = []\n",
    "r_list = []\n",
    "p_d_list = []\n",
    "p_opt_list = []\n",
    "\n",
    "\n",
    "def F(x):\n",
    "    return x-((1-k*(norm.cdf(x, loc = u,scale = sigma)-norm.cdf(0, loc = u,scale = sigma)))/(k*norm.pdf(x, loc = u,scale = sigma)))\n",
    "def f(x):\n",
    "    return ((x-1)**3)/((2*x-1)**2) - r**2   \n",
    "\n",
    "myclip_a = 0\n",
    "myclip_b = np.inf\n",
    "\n",
    "for i in np.arange(100):\n",
    "\n",
    "\n",
    "  sigma = 1 + 0.5*i\n",
    "  #computer alpha beta for truncated normal distribution\n",
    "  a, b = (myclip_a - u) / sigma, myclip_b\n",
    "  mean, var = truncnorm.stats(a , b ,loc = u,scale = sigma, moments='mv')\n",
    "  data_tnorm = truncnorm.rvs(a, b, loc = u,scale = sigma,size=n)\n",
    "\n",
    "  #constant of truncated normal distribution\n",
    "  k = 1/(1-norm.cdf(0, loc = u,scale = sigma))\n",
    "  #not super accurate, but due to the character of cdf and pde maybe also factorial\n",
    "  #use virtual valuation  = 0 to solve optimal reserve price\n",
    "  \n",
    "  p_opt = fsolve(F, mean)\n",
    "  print(F(p_opt))\n",
    "  p_opt_list.append(p_opt)\n",
    "\n",
    "  r = np.sqrt(var)/mean\n",
    "  r_list.append(r)\n",
    "     \n",
    "  p_d = fsolve(f, [mean])\n",
    "  p_d_list.append(p_d)\n",
    "\n",
    "  reserve_p = p_d*mean/(2*p_d-1)\n",
    "  opt = auction_exp(data_tnorm,p_opt)\n",
    "  exp_revenue = auction_exp(data_tnorm,reserve_p)\n",
    "\n",
    "  DAPX_list.append((opt/exp_revenue)[0])\n"
   ]
  },
  {
   "cell_type": "code",
   "execution_count": 11,
   "metadata": {
    "colab": {
     "base_uri": "https://localhost:8080/",
     "height": 844
    },
    "executionInfo": {
     "elapsed": 1587,
     "status": "ok",
     "timestamp": 1610034843236,
     "user": {
      "displayName": "Yichen Lou",
      "photoUrl": "",
      "userId": "04272552894692249514"
     },
     "user_tz": -60
    },
    "id": "jaSwhLN1lXG6",
    "outputId": "059e9c00-f261-4cfd-e270-b306d0cd92c2"
   },
   "outputs": [
    {
     "data": {
      "image/png": "[encoded data removed]",
      "text/plain": [
       "<Figure size 2160x1080 with 1 Axes>"
      ]
     },
     "metadata": {
      "needs_background": "light",
      "tags": []
     },
     "output_type": "display_data"
    }
   ],
   "source": [
    "# create figure and axis objects with subplots()\n",
    "fig,ax = plt.subplots(figsize=(30, 15))\n",
    "# make a plot\n",
    "ax.plot(r_list, DAPX_list,color=\"green\",marker=\"o\",label=\"experiment result\")\n",
    "ax.plot(r_list, p_d_list,color=\"blue\",marker=\"o\",label=\"Numerical solution rho_d\")\n",
    "plt.legend(loc=\"upper left\",fontsize = 15)\n",
    "# set x-axis label\n",
    "ax.set_xlabel(\"r\",fontsize=14)\n",
    "# set y-axis label\n",
    "ax.set_ylabel(\"DAPX\",color=\"red\",fontsize=14)\n",
    "#ax.set_ylim(0.7,1.2)\n",
    "#ax.axhline(1,color=\"red\")\n",
    "# twin object for two different y-axis on the sample plot\n",
    "#ax2=ax.twinx()\n",
    "# make a plot with different y-axis using second axis object\n",
    "#ax.plot(r_list, p_d_list,color=\"blue\",marker=\"o\")\n",
    "#ax2.set_ylabel(\"difference\",color=\"blue\",fontsize=14)\n",
    "#ax2.axhline(0,color=\"red\")\n",
    "plt.title('simulation'+ '  u =' +str(u)+' with different standard deviation ')\n",
    "\n",
    "plt.show()"
   ]
  },
  {
   "cell_type": "code",
   "execution_count": null,
   "metadata": {
    "id": "GPird0Zeo5zy"
   },
   "outputs": [],
   "source": [
    "sigma = 3\n",
    "DAPX_list1 = []\n",
    "r_list1 = []\n",
    "p_d_list1 = []\n",
    "p_opt_list1 = []\n",
    "def F(x):\n",
    "    return x-((1-k*(norm.cdf(x, loc = u,scale = sigma)-norm.cdf(0, loc = u,scale = sigma)))/(k*norm.pdf(x, loc = u,scale = sigma)))\n",
    "def f(x):\n",
    "    return ((x-1)**3)/((2*x-1)**2) - r**2  \n",
    "for i in np.arange(100):\n",
    "\n",
    "  u = 1 + 0.05*i\n",
    "  data = norm.rvs(loc = u,scale = sigma,size=n)\n",
    "  #remove the negative samples\n",
    "  data_norm = [item for item in data if item >= 0]\n",
    "  #constant of truncated normal distribution\n",
    "  k = 1/(1-norm.cdf(0, loc = u,scale = sigma))\n",
    "  #not super accurate, but due to the character of cdf and pde maybe also factorial\n",
    "  #use virtual valuation  = 0 to solve optimal reserve price\n",
    "\n",
    "\n",
    "  p_opt = fsolve(F, u)\n",
    "  p_opt_list1.append(p_opt)\n",
    "  r = sigma/u\n",
    "  r_list1.append(r)\n",
    " \n",
    "            \n",
    "  p_d = fsolve(f, [u])\n",
    "  p_d_list1.append(p_d)\n",
    "  reserve_p = p_d*u/(2*p_d-1)\n",
    "  opt = auction_exp(data_norm,p_opt)\n",
    "  exp_revenue = auction_exp(data_norm,reserve_p)\n",
    "\n",
    "  DAPX_list1.append((opt/exp_revenue)[0])\n"
   ]
  },
  {
   "cell_type": "code",
   "execution_count": null,
   "metadata": {
    "colab": {
     "base_uri": "https://localhost:8080/",
     "height": 844
    },
    "executionInfo": {
     "elapsed": 915,
     "status": "ok",
     "timestamp": 1607551907187,
     "user": {
      "displayName": "Yichen Lou",
      "photoUrl": "",
      "userId": "04272552894692249514"
     },
     "user_tz": -60
    },
    "id": "VrXQ_cXWo8fy",
    "outputId": "c552e933-37cf-43a5-d2ae-1e10e6ec0436"
   },
   "outputs": [
    {
     "data": {
      "image/png": "[encoded data removed]",
      "text/plain": [
       "<Figure size 2160x1080 with 1 Axes>"
      ]
     },
     "metadata": {
      "needs_background": "light",
      "tags": []
     },
     "output_type": "display_data"
    }
   ],
   "source": [
    " # create figure and axis objects with subplots()\n",
    "fig,ax = plt.subplots(figsize=(30, 15))\n",
    "# make a plot\n",
    "ax.plot(r_list1, DAPX_list1,color=\"green\",marker=\"o\",label=\"experiment result\")\n",
    "#ax.plot(r_list1, p_d_list1,color=\"blue\",marker=\"o\",label=\"Numerical solution\")\n",
    "plt.legend(loc=\"upper left\",fontsize = 15)\n",
    "# set x-axis label\n",
    "ax.set_xlabel(\"r\",fontsize=14)\n",
    "# set y-axis label\n",
    "ax.set_ylabel(\"DAPX\",color=\"red\",fontsize=14)\n",
    "#ax.set_ylim(0.7,1.2)\n",
    "\n",
    "# twin object for two different y-axis on the sample plot\n",
    "#ax2=ax.twinx()\n",
    "# make a plot with different y-axis using second axis object\n",
    "#ax2.plot(sigma_list, diff,color=\"blue\",marker=\"o\")\n",
    "#ax2.set_ylabel(\"difference\",color=\"blue\",fontsize=14)\n",
    "#ax2.axhline(0,color=\"red\")\n",
    "plt.title('simulation'+ '  u =' +str(u)+' with different standard deviation ')\n",
    "\n",
    "plt.show()"
   ]
  },
  {
   "cell_type": "code",
   "execution_count": null,
   "metadata": {
    "colab": {
     "base_uri": "https://localhost:8080/",
     "height": 283
    },
    "executionInfo": {
     "elapsed": 1791,
     "status": "ok",
     "timestamp": 1608229660175,
     "user": {
      "displayName": "Yichen Lou",
      "photoUrl": "",
      "userId": "04272552894692249514"
     },
     "user_tz": -60
    },
    "id": "wrJwPt19026s",
    "outputId": "7a37ee1b-a42b-4224-cea0-cc7113672159"
   },
   "outputs": [
    {
     "data": {
      "text/plain": [
       "[<matplotlib.lines.Line2D at 0x7f285ad0b358>]"
      ]
     },
     "execution_count": 18,
     "metadata": {
      "tags": []
     },
     "output_type": "execute_result"
    },
    {
     "data": {
      "image/png": "[encoded data removed]",
      "text/plain": [
       "<Figure size 432x288 with 1 Axes>"
      ]
     },
     "metadata": {
      "needs_background": "light",
      "tags": []
     },
     "output_type": "display_data"
    }
   ],
   "source": [
    "u = 10\n",
    "sigma = 5\n",
    "v = np.linspace(0, 20, 50)\n",
    "\n",
    "#constant of truncated normal distribution\n",
    "k = 1/(1-norm.cdf(0, loc = u,scale = sigma))\n",
    "\n",
    "phi = v - (1-k*norm.cdf(v, loc = u,scale = sigma) +k*norm.cdf(0, loc = u,scale = sigma))/(k*norm.pdf(v, loc = u,scale = sigma))\n",
    "plt.plot(v, phi,color=\"green\",marker=\"o\")"
   ]
  },
  {
   "cell_type": "code",
   "execution_count": null,
   "metadata": {
    "colab": {
     "base_uri": "https://localhost:8080/",
     "height": 283
    },
    "executionInfo": {
     "elapsed": 792,
     "status": "ok",
     "timestamp": 1608232246055,
     "user": {
      "displayName": "Yichen Lou",
      "photoUrl": "",
      "userId": "04272552894692249514"
     },
     "user_tz": -60
    },
    "id": "gnrwGHl7GluB",
    "outputId": "d1caef08-03a8-46c5-fb3f-aaf5146a7aa7"
   },
   "outputs": [
    {
     "data": {
      "text/plain": [
       "[<matplotlib.lines.Line2D at 0x7f285abf7f28>]"
      ]
     },
     "execution_count": 22,
     "metadata": {
      "tags": []
     },
     "output_type": "execute_result"
    },
    {
     "data": {
      "image/png": "[encoded data removed]",
      "text/plain": [
       "<Figure size 432x288 with 1 Axes>"
      ]
     },
     "metadata": {
      "needs_background": "light",
      "tags": []
     },
     "output_type": "display_data"
    }
   ],
   "source": [
    "u = 10\n",
    "sigma = 10\n",
    "v = np.linspace(10, 40, 50)\n",
    "line1 = 0.5*norm.pdf(v, loc = u,scale = sigma)\n",
    "line2 = norm.pdf(10, loc = u,scale = sigma)*(1-norm.cdf(v, loc = u,scale = sigma))\n",
    "plt.plot(v, line1,color=\"green\",marker=\"o\",label=\"experiment result\")\n",
    "plt.plot(v, line2,color=\"blue\",marker=\"o\",label=\"experiment result\")\n"
   ]
  },
  {
   "cell_type": "code",
   "execution_count": null,
   "metadata": {
    "colab": {
     "base_uri": "https://localhost:8080/"
    },
    "executionInfo": {
     "elapsed": 1414,
     "status": "ok",
     "timestamp": 1608228010885,
     "user": {
      "displayName": "Yichen Lou",
      "photoUrl": "",
      "userId": "04272552894692249514"
     },
     "user_tz": -60
    },
    "id": "AT56gEyO2L-V",
    "outputId": "64ac90dd-547b-4d4e-d761-670bc6daea00"
   },
   "outputs": [
    {
     "data": {
      "text/plain": [
       "1.0279773571668917e-18"
      ]
     },
     "execution_count": 13,
     "metadata": {
      "tags": []
     },
     "output_type": "execute_result"
    }
   ],
   "source": [
    "v = 10\n",
    "k = 1/(1-norm.cdf(0, loc = u,scale = sigma))\n",
    "norm.pdf(v, loc = u,scale = sigma)"
   ]
  },
  {
   "cell_type": "code",
   "execution_count": null,
   "metadata": {
    "colab": {
     "base_uri": "https://localhost:8080/"
    },
    "executionInfo": {
     "elapsed": 463,
     "status": "ok",
     "timestamp": 1605718693846,
     "user": {
      "displayName": "Yichen Lou",
      "photoUrl": "",
      "userId": "04272552894692249514"
     },
     "user_tz": -60
    },
    "id": "eZjdJHKIpcp-",
    "outputId": "5bfe5f38-a2e7-4cb3-f7f5-cbe3391166eb"
   },
   "outputs": [
    {
     "name": "stdout",
     "output_type": "stream",
     "text": [
      "Optimization terminated successfully.\n",
      "         Current function value: -1.743388\n",
      "         Iterations: 33\n",
      "         Function evaluations: 67\n"
     ]
    },
    {
     "data": {
      "text/plain": [
       "array([2.33401904])"
      ]
     },
     "execution_count": 151,
     "metadata": {
      "tags": []
     },
     "output_type": "execute_result"
    }
   ],
   "source": [
    "k = 1/(1-norm.cdf(0,loc = u,scale = sigma))\n",
    "from scipy.optimize import minimize\n",
    "\n",
    "def rosen(x):\n",
    "    \"\"\"The Rosenbrock function\"\"\"\n",
    "    return -x*(1-k*norm.cdf(x, loc = u,scale = sigma))\n",
    "\n",
    "x0 = 0.5\n",
    "res = minimize(rosen, x0, method='nelder-mead',options={'xatol': 1e-8, 'disp': True})\n",
    "res.x\n"
   ]
  },
  {
   "cell_type": "code",
   "execution_count": null,
   "metadata": {
    "colab": {
     "base_uri": "https://localhost:8080/"
    },
    "executionInfo": {
     "elapsed": 399,
     "status": "ok",
     "timestamp": 1605882719155,
     "user": {
      "displayName": "Yichen Lou",
      "photoUrl": "",
      "userId": "04272552894692249514"
     },
     "user_tz": -60
    },
    "id": "uEekFgxR_Kev",
    "outputId": "7eb1a8b2-80f2-429d-8d8e-c9b0f93f7ae8"
   },
   "outputs": [
    {
     "data": {
      "text/plain": [
       "array([1.49414051, 4.09347574])"
      ]
     },
     "execution_count": 73,
     "metadata": {
      "tags": []
     },
     "output_type": "execute_result"
    }
   ],
   "source": [
    "import scipy.special as sc\n",
    "from scipy.optimize import fsolve\n",
    "#not super accurate, but due to the character of cdf and pde maybe also factorial\n",
    "u = 3\n",
    "sigma = 1\n",
    "def F(x):\n",
    "   return [x[0] * (1 + np.log(x[1]/x[0])) - u,\n",
    "           x[0] *(2*x[1]-x[0]) - u**2 - sigma**2]\n",
    "\n",
    "\n",
    "root = fsolve(F, [1.8,4])\n",
    "root\n",
    "# np.isclose(F(x), [ 0.0])"
   ]
  },
  {
   "cell_type": "code",
   "execution_count": null,
   "metadata": {
    "id": "Efmd78Df3cjB"
   },
   "outputs": [],
   "source": [
    "\n",
    "N = 10000\n",
    "n = 0\n",
    "A = np.ceil((pi2/pi1-1)/don)\n",
    "rej_sample =[]\n",
    "while(n <= N):\n",
    "  x = uniform.rvs(loc=pi1, scale=pi2-pi1)\n",
    "  a = (pi2/x-1)/don/(A/(pi2- pi1))\n",
    "  u1 = uniform.rvs()\n",
    "  if (u1 <= a):\n",
    "    rej_sample.append(x)\n",
    "    n += 1\n",
    "\n"
   ]
  },
  {
   "cell_type": "code",
   "execution_count": null,
   "metadata": {
    "colab": {
     "base_uri": "https://localhost:8080/",
     "height": 483
    },
    "executionInfo": {
     "elapsed": 630,
     "status": "ok",
     "timestamp": 1605881277137,
     "user": {
      "displayName": "Yichen Lou",
      "photoUrl": "",
      "userId": "04272552894692249514"
     },
     "user_tz": -60
    },
    "id": "S3vf1WAG-z5g",
    "outputId": "fbafb0a7-d681-4179-8939-7678cb0b5c95"
   },
   "outputs": [
    {
     "data": {
      "text/plain": [
       "(array([7103., 7252., 7191., 7236., 7067., 6743., 6113., 5650., 4983.,\n",
       "        4666., 4268., 3910., 3548., 3320., 2906., 2690., 2331., 2108.,\n",
       "        1928., 1648., 1518., 1270., 1124.,  941.,  768.,  648.,  463.,\n",
       "         337.,  197.,   74.]),\n",
       " array([1.00003932, 1.0666106 , 1.13318188, 1.19975316, 1.26632444,\n",
       "        1.33289573, 1.39946701, 1.46603829, 1.53260957, 1.59918085,\n",
       "        1.66575213, 1.73232342, 1.7988947 , 1.86546598, 1.93203726,\n",
       "        1.99860854, 2.06517982, 2.13175111, 2.19832239, 2.26489367,\n",
       "        2.33146495, 2.39803623, 2.46460751, 2.5311788 , 2.59775008,\n",
       "        2.66432136, 2.73089264, 2.79746392, 2.8640352 , 2.93060649,\n",
       "        2.99717777]),\n",
       " <a list of 30 Patch objects>)"
      ]
     },
     "execution_count": 43,
     "metadata": {
      "tags": []
     },
     "output_type": "execute_result"
    },
    {
     "data": {
      "image/png": "[encoded data removed]",
      "text/plain": [
       "<Figure size 432x288 with 1 Axes>"
      ]
     },
     "metadata": {
      "needs_background": "light",
      "tags": []
     },
     "output_type": "display_data"
    }
   ],
   "source": [
    "plt.hist(rej_sample, color = 'blue', edgecolor = 'black',bins = 30)"
   ]
  },
  {
   "cell_type": "code",
   "execution_count": null,
   "metadata": {
    "colab": {
     "base_uri": "https://localhost:8080/"
    },
    "executionInfo": {
     "elapsed": 25844,
     "status": "ok",
     "timestamp": 1605883548182,
     "user": {
      "displayName": "Yichen Lou",
      "photoUrl": "",
      "userId": "04272552894692249514"
     },
     "user_tz": -60
    },
    "id": "APJNFzLPFtJ-",
    "outputId": "5c751809-add0-4729-c621-d2ffb588c97e"
   },
   "outputs": [
    {
     "name": "stdout",
     "output_type": "stream",
     "text": [
      "worst case robust APX upper bound = 1.1053605156578263\n",
      "Uniform distribution APX = 1.4096148418873307\n"
     ]
    }
   ],
   "source": [
    "np.random.seed(5)\n",
    "n = 10000\n",
    "a = 2\n",
    "b = 10 \n",
    "\n",
    "u = 3\n",
    "sigma = 1\n",
    "\n",
    "data_uniform = uniform.rvs(loc=a, scale=b-a,size=n)\n",
    "\n",
    "p_d = 1 + np.log(1 + (sigma/u)**2)\n",
    "\n",
    " \n",
    "opt = u\n",
    "revenue=0\n",
    "for i in rej_sample:\n",
    "  revenue += auction_exp(data_uniform,i)\n",
    "\n",
    "exp_revenue = revenue/len(rej_sample)\n",
    "\n",
    "APX = opt/exp_revenue\n",
    "print('worst case robust APX upper bound = ' + str(p_d))\n",
    "print('Uniform distribution APX = ' + str(APX))\n"
   ]
  },
  {
   "cell_type": "code",
   "execution_count": null,
   "metadata": {
    "colab": {
     "base_uri": "https://localhost:8080/"
    },
    "executionInfo": {
     "elapsed": 395,
     "status": "ok",
     "timestamp": 1605883393464,
     "user": {
      "displayName": "Yichen Lou",
      "photoUrl": "",
      "userId": "04272552894692249514"
     },
     "user_tz": -60
    },
    "id": "Xql7aTU1Gwap",
    "outputId": "3a9a3fcb-b606-41bd-9c67-67928fd6d18c"
   },
   "outputs": [
    {
     "data": {
      "text/plain": [
       "2.121527270494244"
      ]
     },
     "execution_count": 88,
     "metadata": {
      "tags": []
     },
     "output_type": "execute_result"
    }
   ],
   "source": [
    "exp_revenue\n"
   ]
  }
 ],
 "metadata": {
  "colab": {
   "collapsed_sections": [],
   "name": "DAPX_norm.ipynb",
   "provenance": []
  },
  "kernelspec": {
   "display_name": "Python 3",
   "language": "python",
   "name": "python3"
  },
  "language_info": {
   "codemirror_mode": {
    "name": "ipython",
    "version": 3
   },
   "file_extension": ".py",
   "mimetype": "text/x-python",
   "name": "python",
   "nbconvert_exporter": "python",
   "pygments_lexer": "ipython3",
   "version": "3.7.6"
  }
 },
 "nbformat": 4,
 "nbformat_minor": 1
}
