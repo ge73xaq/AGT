{
 "cells": [
  {
   "cell_type": "code",
   "execution_count": 1,
   "metadata": {
    "colab": {
     "base_uri": "https://localhost:8080/",
     "height": 971
    },
    "executionInfo": {
     "elapsed": 1641,
     "status": "error",
     "timestamp": 1610033469840,
     "user": {
      "displayName": "Yichen Lou",
      "photoUrl": "",
      "userId": "04272552894692249514"
     },
     "user_tz": -60
    },
    "id": "f_0HUItCQhIt",
    "outputId": "59d06310-72c7-46c9-8476-a4e74a834df3"
   },
   "outputs": [
    {
     "ename": "ModuleNotFoundError",
     "evalue": "No module named 'google.colab'",
     "output_type": "error",
     "traceback": [
      "\u001b[1;31m---------------------------------------------------------------------------\u001b[0m",
      "\u001b[1;31mModuleNotFoundError\u001b[0m                       Traceback (most recent call last)",
      "\u001b[1;32m<ipython-input-1-50488db73814>\u001b[0m in \u001b[0;36m<module>\u001b[1;34m\u001b[0m\n\u001b[1;32m----> 1\u001b[1;33m \u001b[1;32mfrom\u001b[0m \u001b[0mgoogle\u001b[0m\u001b[1;33m.\u001b[0m\u001b[0mcolab\u001b[0m \u001b[1;32mimport\u001b[0m \u001b[0mdrive\u001b[0m\u001b[1;33m\u001b[0m\u001b[1;33m\u001b[0m\u001b[0m\n\u001b[0m\u001b[0;32m      2\u001b[0m \u001b[0mdrive\u001b[0m\u001b[1;33m.\u001b[0m\u001b[0mmount\u001b[0m\u001b[1;33m(\u001b[0m\u001b[1;34m'/content/drive/'\u001b[0m\u001b[1;33m,\u001b[0m \u001b[0mforce_remount\u001b[0m\u001b[1;33m=\u001b[0m\u001b[1;32mTrue\u001b[0m\u001b[1;33m)\u001b[0m\u001b[1;33m\u001b[0m\u001b[1;33m\u001b[0m\u001b[0m\n\u001b[0;32m      3\u001b[0m \u001b[0mget_ipython\u001b[0m\u001b[1;33m(\u001b[0m\u001b[1;33m)\u001b[0m\u001b[1;33m.\u001b[0m\u001b[0mrun_line_magic\u001b[0m\u001b[1;33m(\u001b[0m\u001b[1;34m'cd'\u001b[0m\u001b[1;33m,\u001b[0m \u001b[1;34m\"'drive/My Drive/Thesis'\"\u001b[0m\u001b[1;33m)\u001b[0m\u001b[1;33m\u001b[0m\u001b[1;33m\u001b[0m\u001b[0m\n",
      "\u001b[1;31mModuleNotFoundError\u001b[0m: No module named 'google.colab'"
     ]
    }
   ],
   "source": [
    "from google.colab import drive\n",
    "drive.mount('/content/drive/', force_remount=True)\n",
    "%cd 'drive/My Drive/Thesis'"
   ]
  },
  {
   "cell_type": "code",
   "execution_count": 2,
   "metadata": {
    "executionInfo": {
     "elapsed": 1419,
     "status": "ok",
     "timestamp": 1610012634377,
     "user": {
      "displayName": "Yichen Lou",
      "photoUrl": "",
      "userId": "04272552894692249514"
     },
     "user_tz": -60
    },
    "id": "ZIKZTpsFQbXi"
   },
   "outputs": [],
   "source": [
    "%load_ext autoreload\n",
    "%autoreload 2\n",
    "import numpy as np\n",
    "import matplotlib.pyplot as plt\n",
    "from sklearn.datasets import make_moons\n",
    "# import uniform distribution\n",
    "from scipy.stats import uniform\n",
    "from scipy.stats import binom\n",
    "from scipy.stats import norm\n",
    "import scipy.special as sc\n",
    "import scipy.optimize\n",
    "from scipy.optimize import fsolve\n",
    "import time\n",
    "np.random.seed(5)"
   ]
  },
  {
   "cell_type": "code",
   "execution_count": 3,
   "metadata": {
    "executionInfo": {
     "elapsed": 508,
     "status": "ok",
     "timestamp": 1610012635577,
     "user": {
      "displayName": "Yichen Lou",
      "photoUrl": "",
      "userId": "04272552894692249514"
     },
     "user_tz": -60
    },
    "id": "srAIADb-5G4q"
   },
   "outputs": [],
   "source": [
    "def auction_exp(data_auction, p):\n",
    "    \"\"\"Train a normalizing flow model with maximum likelihood.\n",
    "\n",
    "    Args:\n",
    "        model: normalizing flow model. Flow or StackedFlows\n",
    "        dataset: dataset containing data to fit. Dataset\n",
    "        batch_size: number of samples per batch. int\n",
    "        max_epochs: number of training epochs. int\n",
    "        frequency: frequency for plotting density visualization. int\n",
    "        \n",
    "    Return:\n",
    "        model: trained model. Flow or StackedFlows\n",
    "        losses: loss evolution during training. list of floats\n",
    "    \"\"\"\n",
    "    revenue = 0\n",
    "    for bid in data_auction:\n",
    "        if bid >= p:\n",
    "          #change the bidder with price p\n",
    "          revenue += p\n",
    "    \n",
    "    revenue = revenue/len(data_auction)\n",
    "    return revenue"
   ]
  },
  {
   "cell_type": "code",
   "execution_count": 4,
   "metadata": {
    "executionInfo": {
     "elapsed": 498,
     "status": "ok",
     "timestamp": 1610012637916,
     "user": {
      "displayName": "Yichen Lou",
      "photoUrl": "",
      "userId": "04272552894692249514"
     },
     "user_tz": -60
    },
    "id": "gYqiRUBNNilX"
   },
   "outputs": [],
   "source": [
    "def rejection_sampling(pi1, pi2):\n",
    "\n",
    "  # def f(x):\n",
    "  #   return [x[0] * (1 + np.log(x[1]/x[0])) - u,\n",
    "  #           x[0] *(2*x[1]-x[0]) - u**2 - sigma**2]\n",
    "\n",
    "\n",
    "  # root = fsolve(f, [ini1,ini2])\n",
    "    \n",
    "  # pi1 = min(root)\n",
    "  # pi2 = max(root)\n",
    "  #using rejection sampling, get N random price samples\n",
    "  N = 10000\n",
    "  n = 0\n",
    "  #A =(pi2/pi1-1)*(pi2-pi1)/don\n",
    "  don = pi2*np.log(pi2/pi1) - (pi2-pi1)\n",
    "  env =(pi2/pi1-1)/don\n",
    "  rej_sample =[]\n",
    "  while(n <= N):\n",
    "    x = uniform.rvs(loc=pi1, scale=pi2-pi1)\n",
    "    a = (pi2/x-1)/don/env\n",
    "    u1 = uniform.rvs()\n",
    "    if (u1 <= a):\n",
    "      rej_sample.append(x)\n",
    "      n += 1\n",
    "  return rej_sample"
   ]
  },
  {
   "cell_type": "code",
   "execution_count": 48,
   "metadata": {},
   "outputs": [
    {
     "name": "stderr",
     "output_type": "stream",
     "text": [
      "C:\\Users\\Ariel Lou\\anaconda3\\lib\\site-packages\\ipykernel_launcher.py:20: DeprecationWarning: time.clock has been deprecated in Python 3.3 and will be removed from Python 3.8: use time.perf_counter or time.process_time instead\n"
     ]
    },
    {
     "name": "stdout",
     "output_type": "stream",
     "text": [
      "[2.76167977e-15]\n",
      "[4.53803661e-15]\n",
      "[7.42461648e-15]\n",
      "[1.21500032e-14]\n",
      "[0.]\n",
      "[6.9388939e-18]\n",
      "[-6.9388939e-18]\n",
      "[-6.9388939e-18]\n",
      "[1.38777878e-17]\n",
      "[-6.9388939e-18]\n",
      "[0.]\n",
      "[1.38777878e-17]\n",
      "[-6.9388939e-18]\n",
      "[-6.9388939e-18]\n",
      "[-6.9388939e-18]\n",
      "[6.9388939e-18]\n",
      "[-6.9388939e-18]\n",
      "[2.08166817e-17]\n",
      "[1.04083409e-17]\n",
      "[2.42861287e-17]\n",
      "[6.24500451e-17]\n",
      "[1.66533454e-16]\n",
      "[3.67761377e-16]\n",
      "[8.15320034e-16]\n",
      "[1.8249291e-15]\n",
      "[4.1008863e-15]\n",
      "[9.1107677e-15]\n",
      "[-3.46944695e-18]\n",
      "[-1.04083409e-17]\n",
      "[0.]\n",
      "[-6.9388939e-18]\n",
      "[-6.9388939e-18]\n",
      "[3.46944695e-18]\n",
      "[3.46944695e-18]\n",
      "[1.73472348e-18]\n",
      "[1.21430643e-17]\n",
      "[4.51028104e-17]\n",
      "[1.71737624e-16]\n",
      "[6.07153217e-16]\n",
      "[2.16320017e-15]\n",
      "[7.77936743e-15]\n",
      "[1.73472348e-18]\n",
      "[0.]\n",
      "[6.9388939e-18]\n",
      "[-8.67361738e-19]\n",
      "[-8.67361738e-19]\n",
      "[3.38271078e-17]\n",
      "[2.72785267e-16]\n",
      "[2.04220321e-15]\n",
      "[2.16840434e-18]\n",
      "time: 307.6016426999995\n",
      "[25.068125000000002, 24.916885714299983, 25.091646428584966, 25.150357142885586, 25.212589285685453, 25.37234285712849, 25.157339285699237, 25.349400000000003, 25.308035714301145, 25.356671428586225, 25.485600000031013, 25.564664285682795, 25.624342857127182, 25.773428571412044, 25.7618, 25.89383571430264, 26.069689285731386, 26.14101428574914, 26.219999999964642, 26.397107142838927, 26.434735714269074, 26.682000000000002, 26.741089285729302, 26.98614285716299, 27.244550000032927, 27.271542857109736, 27.622049999977925, 27.803421428562704, 28.055249999999997, 28.35671428571946, 28.67630357145389, 29.034664285741304, 29.399296428545828, 29.789285714257048, 30.17025000000736, 30.5879, 31.094389285700114, 31.61794285717715, 32.25317857144181, 32.88589999998976, 33.57142857142173, 34.28571428575505, 35.0, 35.71428571424325, 36.428571428564695, 37.14285714280331, 37.85714285720039, 38.57142857144417, 39.28571428576045, 40.0]\n",
      "[31.653782171980296, 31.87001849265023, 32.00344377991551, 32.19793648857179, 32.42875492369446, 32.57145055088235, 32.66999328523601, 32.94888500742748, 33.07584351933035, 33.21331076406227, 33.411915570049715, 33.62790573675969, 33.788753609902585, 34.05106063753741, 34.301572206825234, 34.47459797354959, 34.70931685840312, 34.84709397592712, 35.04303664025924, 35.207306700661206, 35.48730766544061, 35.77404079631948, 35.96073169662757, 36.17985465470029, 36.44733843435876, 36.6330904582615, 36.87447045944511, 37.13495566768826, 37.40579389023065, 37.6516026050726, 37.895178906642755, 38.176458397568965, 38.4359434755372, 38.680688544706015, 38.94050523376472, 39.206374818620006, 39.518881079811564, 39.76859232976969, 40.07621998287651, 40.36126225784516, 40.62314907925534, 40.95910069283409, 41.23311123846566, 41.55214088730218, 41.84203299086528, 42.1555571404834, 42.48186538650709, 42.81941956191578, 43.135867380431925, 43.45845877088868]\n"
     ]
    },
    {
     "name": "stderr",
     "output_type": "stream",
     "text": [
      "C:\\Users\\Ariel Lou\\anaconda3\\lib\\site-packages\\ipykernel_launcher.py:61: DeprecationWarning: time.clock has been deprecated in Python 3.3 and will be removed from Python 3.8: use time.perf_counter or time.process_time instead\n"
     ]
    }
   ],
   "source": [
    "# Experiment Deterministic APX, separate sell VS bundle sell\n",
    "\n",
    "r_list =[]\n",
    "\n",
    "#m is the number of items\n",
    "m = 5\n",
    "upperbound =[]\n",
    "rev_uniform_sep = []\n",
    "rev_uniform_bund = []\n",
    "step =np.linspace(0,7,50)\n",
    "n = 100000\n",
    "\n",
    "def F(x):\n",
    "    return ((x-1)**3)/((2*x-1)**2) - r**2   \n",
    "\n",
    "\n",
    "def f(x):\n",
    "    return (x * (1 + np.log(k2/(x**2) + 1) - np.log(2)) -u )\n",
    " \n",
    "tic = time.clock()\n",
    "\n",
    "for i in step:\n",
    "    b = 19 - i\n",
    "    a = 20 -b\n",
    "    u = (a+b)/2\n",
    "    sigma = np.sqrt((b-a)**2/12)\n",
    "    r = sigma/u\n",
    "    r_list.append(r)\n",
    "    sigma_list.append(sigma)\n",
    "\n",
    "    #now we simulate selling separately mechanism \n",
    "    bid_uniform = uniform.rvs(loc=a, scale=b-a,size=n)\n",
    "    if (b/2 >= a):\n",
    "        opt = auction_exp(bid_uniform,b/2)\n",
    "    else:\n",
    "        opt = auction_exp(bid_uniform,a)\n",
    "    \n",
    "    rev_uniform_sep.append(opt*m) \n",
    "\n",
    "    #now we simulate bundle selling mechanism \n",
    "    u = m*u\n",
    "    upperbound.append(u)\n",
    "    sigma = np.sqrt(m)*sigma\n",
    "    r = sigma/u\n",
    "    p_d = fsolve(F, [u-0.01])\n",
    "    print(F(p_d))\n",
    "    bid_bundle=[]\n",
    "    j=0\n",
    "    while j < n:\n",
    "        #we generate m random variables from uniform distribution [a,b]\n",
    "        #the sum of these variables denote one auction bid, we will simulate n auctions,\n",
    "        #thus require n convoluted random bids\n",
    "        bid_bundle.append(sum(uniform.rvs(loc=a, scale=b-a,size=m))) \n",
    "        j += 1\n",
    "    \n",
    "    #reserve price proposed by the Robust paper\n",
    "    p_reserve = p_d*u/(2*p_d-1)\n",
    "    rev_uniform_bund.append(auction_exp(bid_bundle,p_reserve)[0])\n",
    "    \n",
    "\n",
    "toc = time.clock()\n",
    "print('time: ' + str(toc-tic))\n",
    "print(rev_uniform_sep)\n",
    "print(rev_uniform_bund)"
   ]
  },
  {
   "cell_type": "code",
   "execution_count": 62,
   "metadata": {},
   "outputs": [
    {
     "data": {
      "image/png": "[encoded data removed]",
      "text/plain": [
       "<Figure size 1080x720 with 1 Axes>"
      ]
     },
     "metadata": {
      "needs_background": "light"
     },
     "output_type": "display_data"
    }
   ],
   "source": [
    "plt.figure(figsize=(15,10))\n",
    "plt.xlabel(\"r = \\u03C3/u\",fontsize=16)\n",
    "plt.ylabel(\"REV\",fontsize=16)\n",
    "plt.tick_params(axis='x', labelsize= 14)\n",
    "plt.tick_params(axis='y', labelsize= 14)\n",
    "plt.plot(r_list, rev_uniform_bund,marker=\"o\",color=\"seagreen\",label=\"bundle sell\")\n",
    "plt.plot(r_list, rev_uniform_sep,marker=\"o\",color=\"#0065bd\",label=\"separate sell\")\n",
    "\n",
    "plt.ylim(23,48)\n",
    "# #plt.plot(r_list, ratio,color=\"blue\",label=\"worst case rho_d\")\n",
    "#plt.plot(r_list, upperbound,color=\"red\",label=\"lower bound 1+ln(1+r^2) \")\n",
    "plt.legend(loc=\"upper left\",fontsize = 16)\n",
    "plt.savefig(\"optmulUni.png\",bbox_inches='tight')\n",
    "plt.show()"
   ]
  },
  {
   "cell_type": "code",
   "execution_count": 50,
   "metadata": {},
   "outputs": [
    {
     "data": {
      "text/plain": [
       "[31.653782171980296,\n",
       " 31.87001849265023,\n",
       " 32.00344377991551,\n",
       " 32.19793648857179,\n",
       " 32.42875492369446,\n",
       " 32.57145055088235,\n",
       " 32.66999328523601,\n",
       " 32.94888500742748,\n",
       " 33.07584351933035,\n",
       " 33.21331076406227,\n",
       " 33.411915570049715,\n",
       " 33.62790573675969,\n",
       " 33.788753609902585,\n",
       " 34.05106063753741,\n",
       " 34.301572206825234,\n",
       " 34.47459797354959,\n",
       " 34.70931685840312,\n",
       " 34.84709397592712,\n",
       " 35.04303664025924,\n",
       " 35.207306700661206,\n",
       " 35.48730766544061,\n",
       " 35.77404079631948,\n",
       " 35.96073169662757,\n",
       " 36.17985465470029,\n",
       " 36.44733843435876,\n",
       " 36.6330904582615,\n",
       " 36.87447045944511,\n",
       " 37.13495566768826,\n",
       " 37.40579389023065,\n",
       " 37.6516026050726,\n",
       " 37.895178906642755,\n",
       " 38.176458397568965,\n",
       " 38.4359434755372,\n",
       " 38.680688544706015,\n",
       " 38.94050523376472,\n",
       " 39.206374818620006,\n",
       " 39.518881079811564,\n",
       " 39.76859232976969,\n",
       " 40.07621998287651,\n",
       " 40.36126225784516,\n",
       " 40.62314907925534,\n",
       " 40.95910069283409,\n",
       " 41.23311123846566,\n",
       " 41.55214088730218,\n",
       " 41.84203299086528,\n",
       " 42.1555571404834,\n",
       " 42.48186538650709,\n",
       " 42.81941956191578,\n",
       " 43.135867380431925,\n",
       " 43.45845877088868]"
      ]
     },
     "execution_count": 50,
     "metadata": {},
     "output_type": "execute_result"
    }
   ],
   "source": [
    "rev_uniform_bund"
   ]
  },
  {
   "cell_type": "code",
   "execution_count": 59,
   "metadata": {},
   "outputs": [
    {
     "name": "stderr",
     "output_type": "stream",
     "text": [
      "C:\\Users\\Ariel Lou\\anaconda3\\lib\\site-packages\\ipykernel_launcher.py:16: DeprecationWarning: time.clock has been deprecated in Python 3.3 and will be removed from Python 3.8: use time.perf_counter or time.process_time instead\n",
      "  app.launch_new_instance()\n"
     ]
    },
    {
     "name": "stdout",
     "output_type": "stream",
     "text": [
      "2\n",
      "[-8.32667268e-17]\n",
      "3\n",
      "[-4.16333634e-17]\n",
      "4\n",
      "[0.]\n",
      "5\n",
      "[-1.38777878e-17]\n",
      "6\n",
      "[-6.9388939e-18]\n",
      "7\n",
      "[1.38777878e-17]\n",
      "8\n",
      "[1.38777878e-17]\n",
      "9\n",
      "[7.56339436e-16]\n",
      "10\n",
      "[1.01307851e-14]\n",
      "11\n",
      "[1.38777878e-17]\n",
      "12\n",
      "[-3.46944695e-18]\n",
      "13\n",
      "[1.04083409e-17]\n",
      "14\n",
      "[1.04083409e-17]\n",
      "15\n",
      "[3.46944695e-18]\n",
      "16\n",
      "[5.55111512e-17]\n",
      "17\n",
      "[1.94289029e-16]\n",
      "18\n",
      "[6.4878658e-16]\n",
      "19\n",
      "[1.83880688e-15]\n",
      "20\n",
      "[4.82600071e-15]\n",
      "21\n",
      "[1.15255028e-14]\n",
      "22\n",
      "[3.46944695e-18]\n",
      "23\n",
      "[8.67361738e-18]\n",
      "24\n",
      "[-6.9388939e-18]\n",
      "25\n",
      "[-5.20417043e-18]\n",
      "26\n",
      "[5.20417043e-18]\n",
      "27\n",
      "[3.46944695e-18]\n",
      "28\n",
      "[1.73472348e-18]\n",
      "29\n",
      "[-1.73472348e-18]\n",
      "30\n",
      "[1.73472348e-18]\n",
      "31\n",
      "[0.]\n",
      "32\n",
      "[1.21430643e-17]\n",
      "33\n",
      "[1.73472348e-17]\n",
      "34\n",
      "[2.08166817e-17]\n",
      "35\n",
      "[3.12250226e-17]\n",
      "36\n",
      "[5.37764278e-17]\n",
      "37\n",
      "[7.63278329e-17]\n",
      "38\n",
      "[1.33573708e-16]\n",
      "39\n",
      "[2.20309881e-16]\n",
      "40\n",
      "[3.50414142e-16]\n",
      "41\n",
      "[5.48172618e-16]\n",
      "42\n",
      "[8.29197822e-16]\n",
      "43\n",
      "[1.23165367e-15]\n",
      "44\n",
      "[1.81538812e-15]\n",
      "45\n",
      "[2.63157551e-15]\n",
      "46\n",
      "[3.77736037e-15]\n",
      "47\n",
      "[5.33514205e-15]\n",
      "48\n",
      "[7.44109635e-15]\n",
      "49\n",
      "[1.02860429e-14]\n",
      "50\n",
      "[-6.07153217e-18]\n",
      "time: 304.26556040000287\n",
      "[0.49972, 0.74958, 0.99944, 1.2493, 1.49916, 1.74902, 1.99888, 2.24874, 2.4986, 2.74846, 2.99832, 3.24818, 3.49804, 3.7479, 3.99776, 4.24762, 4.49748, 4.74734, 4.9972, 5.24706, 5.49692, 5.74678, 5.99664, 6.2465, 6.49636, 6.74622, 6.99608, 7.24594, 7.4958, 7.74566, 7.99552, 8.24538, 8.49524, 8.7451, 8.99496, 9.24482, 9.49468, 9.74454, 9.9944, 10.24426, 10.49412, 10.74398, 10.99384, 11.2437, 11.49356, 11.74342, 11.99328, 12.24314, 12.493]\n",
      "[0.5070154981898256, 0.83357, 1.1743905247979975, 1.5277699432167955, 1.893244426910721, 2.266164692975871, 2.644280403954525, 3.0264901088590292, 3.419249662111797, 3.811825860570574, 4.206137880638487, 4.614070469637334, 5.0142943843692365, 5.420147986169808, 5.844583752445988, 6.242431553275132, 6.662192409007376, 7.069203704095248, 7.48462410054915, 7.907974959339389, 8.310154416398223, 8.729710595367273, 9.1596154421231, 9.584, 10.01998385457934, 10.432210097993515, 10.865329432387918, 11.286105376709635, 11.726540170913898, 12.143669263364245, 12.581648328406878, 13.00670562686819, 13.439301809783236, 13.866002808029139, 14.31119148930333, 14.735414822197669, 15.175411663589466, 15.609960540141468, 16.053158837622448, 16.46852586225103, 16.918198838939947, 17.36720225864141, 17.780512836841076, 18.226978331499957, 18.65426312583087, 19.105736829859925, 19.556599999999985, 19.985657592457883, 20.434004520270367]\n"
     ]
    },
    {
     "name": "stderr",
     "output_type": "stream",
     "text": [
      "C:\\Users\\Ariel Lou\\anaconda3\\lib\\site-packages\\ipykernel_launcher.py:59: DeprecationWarning: time.clock has been deprecated in Python 3.3 and will be removed from Python 3.8: use time.perf_counter or time.process_time instead\n"
     ]
    }
   ],
   "source": [
    "# Experiment Deterministic APX, separate sell VS bundle sell\n",
    "\n",
    "\n",
    "#m is the number of items\n",
    "m_list = []\n",
    "upperbound =[]\n",
    "rev_uniform_sep_m = []\n",
    "rev_uniform_bund_m = []\n",
    "step =range(2,51)\n",
    "n = 100000\n",
    "\n",
    "def F(x):\n",
    "    return ((x-1)**3)/((2*x-1)**2) - r**2   \n",
    "\n",
    "\n",
    "tic = time.clock()\n",
    "b = 1\n",
    "a = 0\n",
    "u_old = (a+b)/2\n",
    "sigma_old = np.sqrt((b-a)**2/12)\n",
    "r_old = sigma/u\n",
    "#now we simulate selling separately mechanism \n",
    "bid_uniform = uniform.rvs(loc=a, scale=b-a,size=n)\n",
    "if (b/2 >= a):\n",
    "    opt = auction_exp(bid_uniform,b/2)\n",
    "else:\n",
    "    opt = auction_exp(bid_uniform,a)\n",
    "\n",
    "\n",
    "\n",
    "for i in step:\n",
    "    print(i)\n",
    "    m_list.append(i)\n",
    "    \n",
    "    #Expeceted revenue of selling sepatately is idividual opt revenue times the number of items\n",
    "    rev_uniform_sep_m.append(opt*i) \n",
    "\n",
    "    #now we simulate bundle selling mechanism \n",
    "    u = i*u_old\n",
    "    upperbound.append(u)\n",
    "    sigma = np.sqrt(i)*sigma_old\n",
    "    r = sigma/u\n",
    "    p_d = fsolve(F, [u+0.01])\n",
    "    print(F(p_d))\n",
    "    bid_bundle=[]\n",
    "    j=0\n",
    "    while j < n:\n",
    "        #we generate m random variables from uniform distribution [a,b]\n",
    "        #the sum of these variables denote one auction bid, we will simulate n auctions,\n",
    "        #thus require n convoluted random bids\n",
    "        bid_bundle.append(sum(uniform.rvs(loc=a, scale=b-a,size=i))) \n",
    "        j += 1\n",
    "    \n",
    "    #reserve price proposed by the Robust paper\n",
    "    p_reserve = p_d*u/(2*p_d-1)\n",
    "    rev_uniform_bund_m.append(auction_exp(bid_bundle,p_reserve)[0])\n",
    "    \n",
    "\n",
    "toc = time.clock()\n",
    "print('time: ' + str(toc-tic))\n",
    "print(rev_uniform_sep_m)\n",
    "print(rev_uniform_bund_m)"
   ]
  },
  {
   "cell_type": "code",
   "execution_count": 61,
   "metadata": {},
   "outputs": [
    {
     "data": {
      "image/png": "[encoded data removed]",
      "text/plain": [
       "<Figure size 1080x720 with 1 Axes>"
      ]
     },
     "metadata": {
      "needs_background": "light"
     },
     "output_type": "display_data"
    }
   ],
   "source": [
    "plt.figure(figsize=(15,10))\n",
    "plt.xlabel(\"m\",fontsize=16)\n",
    "plt.ylabel(\"REV\",fontsize=16)\n",
    "plt.tick_params(axis='x', labelsize= 14)\n",
    "plt.tick_params(axis='y', labelsize= 14)\n",
    "plt.plot(m_list, rev_uniform_bund_m,marker=\"o\",color=\"seagreen\",label=\"bundle sell\")\n",
    "plt.plot(m_list, rev_uniform_sep_m,marker=\"o\",color=\"#0065bd\",label=\"separate sell\")\n",
    "\n",
    "\n",
    "# #plt.plot(r_list, ratio,color=\"blue\",label=\"worst case rho_d\")\n",
    "#plt.plot(r_list, upperbound,color=\"red\",label=\"lower bound 1+ln(1+r^2) \")\n",
    "plt.legend(loc=\"upper left\",fontsize = 16)\n",
    "plt.savefig(\"optmulUniM.png\",bbox_inches='tight')\n",
    "plt.show()"
   ]
  },
  {
   "cell_type": "code",
   "execution_count": 89,
   "metadata": {},
   "outputs": [
    {
     "data": {
      "text/plain": [
       "[0.5196152422706632,\n",
       " 0.48754022731568386,\n",
       " 0.4554652123607048,\n",
       " 0.4233901974057255,\n",
       " 0.39131518245074637,\n",
       " 0.3592401674957671,\n",
       " 0.32716515254078793,\n",
       " 0.2950901375858087,\n",
       " 0.26301512263082955,\n",
       " 0.2309401076758503]"
      ]
     },
     "execution_count": 89,
     "metadata": {},
     "output_type": "execute_result"
    }
   ],
   "source": [
    "r_list"
   ]
  },
  {
   "cell_type": "code",
   "execution_count": 16,
   "metadata": {},
   "outputs": [
    {
     "name": "stdout",
     "output_type": "stream",
     "text": [
      "[7.52869989e-16]\n",
      "[1.16774836] [5297.10170023]\n"
     ]
    }
   ],
   "source": [
    "def f(x):\n",
    "    return (x * (1 + np.log((k2 + (x**2))/(2*x**2))) -u )\n",
    "n = 10000\n",
    "b_u = m*u\n",
    "b_sigma = np.sqrt(m)*sigma\n",
    "r = b_sigma/b_u\n",
    "b_p_d = fsolve(F, [b_u])\n",
    "print(F(b_p_d))\n",
    "b_a = b_u - np.sqrt(3)*b_sigma\n",
    "b_b = b_u + np.sqrt(3)*b_sigma\n",
    "\n",
    "b_reserve_p = b_p_d*b_u/(2*b_p_d-1)\n",
    "\n",
    "b_bid_uniform = uniform.rvs(loc=b_a, scale=b_b-b_a,size=n)\n",
    "if (b_b/2 >= b_a):\n",
    "    opt = auction_exp(b_bid_uniform,b_b/2)\n",
    "else:\n",
    "    opt = auction_exp(b_bid_uniform,b_a)\n",
    "#opt = b**2/(4*(b-a))\n",
    "\n",
    "rexp_revenue_bulk=[]\n",
    "k2 = b_u**2 + b_sigma**2\n",
    "b_pi1 = fsolve(f, [b_u])\n",
    "b_pi2 = 0.5*(k2/b_pi1 +b_pi1)\n",
    "print(b_pi1, b_pi2)\n",
    "rej_sample = []\n",
    "rej_sample = rejection_sampling(b_pi1,b_pi2)\n",
    "\n",
    "for rp_reserve in rej_sample:\n",
    "    rexp_revenue = auction_exp(b_bid_uniform,rp_reserve)\n",
    "    rexp_revenue_bulk.append(rexp_revenue)\n",
    "\n",
    "APX_uniform_bulk.append((opt/np.average(rexp_revenue_bulk)))"
   ]
  },
  {
   "cell_type": "code",
   "execution_count": 72,
   "metadata": {},
   "outputs": [
    {
     "name": "stderr",
     "output_type": "stream",
     "text": [
      "C:\\Users\\Ariel Lou\\anaconda3\\lib\\site-packages\\ipykernel_launcher.py:23: DeprecationWarning: time.clock has been deprecated in Python 3.3 and will be removed from Python 3.8: use time.perf_counter or time.process_time instead\n"
     ]
    },
    {
     "name": "stdout",
     "output_type": "stream",
     "text": [
      "[1.05855132] [2.57609817]\n"
     ]
    },
    {
     "ename": "KeyboardInterrupt",
     "evalue": "",
     "output_type": "error",
     "traceback": [
      "\u001b[1;31m---------------------------------------------------------------------------\u001b[0m",
      "\u001b[1;31mKeyboardInterrupt\u001b[0m                         Traceback (most recent call last)",
      "\u001b[1;32m<ipython-input-72-2b5037ce6ae8>\u001b[0m in \u001b[0;36m<module>\u001b[1;34m\u001b[0m\n\u001b[0;32m     52\u001b[0m \u001b[1;33m\u001b[0m\u001b[0m\n\u001b[0;32m     53\u001b[0m         \u001b[1;32mfor\u001b[0m \u001b[0mrp_reserve\u001b[0m \u001b[1;32min\u001b[0m \u001b[0mrej_sample\u001b[0m\u001b[1;33m:\u001b[0m\u001b[1;33m\u001b[0m\u001b[1;33m\u001b[0m\u001b[0m\n\u001b[1;32m---> 54\u001b[1;33m             \u001b[0mrexp_revenue\u001b[0m \u001b[1;33m=\u001b[0m \u001b[0mauction_exp\u001b[0m\u001b[1;33m(\u001b[0m\u001b[0mbid_uniform\u001b[0m\u001b[1;33m,\u001b[0m\u001b[0mrp_reserve\u001b[0m\u001b[1;33m)\u001b[0m\u001b[1;33m\u001b[0m\u001b[1;33m\u001b[0m\u001b[0m\n\u001b[0m\u001b[0;32m     55\u001b[0m             \u001b[0mrexp_revenue_list\u001b[0m\u001b[1;33m.\u001b[0m\u001b[0mappend\u001b[0m\u001b[1;33m(\u001b[0m\u001b[0mrexp_revenue\u001b[0m\u001b[1;33m)\u001b[0m\u001b[1;33m\u001b[0m\u001b[1;33m\u001b[0m\u001b[0m\n\u001b[0;32m     56\u001b[0m \u001b[1;33m\u001b[0m\u001b[0m\n",
      "\u001b[1;32m<ipython-input-2-9475528c3b75>\u001b[0m in \u001b[0;36mauction_exp\u001b[1;34m(data_auction, p)\u001b[0m\n\u001b[0;32m     15\u001b[0m     \u001b[0mrevenue\u001b[0m \u001b[1;33m=\u001b[0m \u001b[1;36m0\u001b[0m\u001b[1;33m\u001b[0m\u001b[1;33m\u001b[0m\u001b[0m\n\u001b[0;32m     16\u001b[0m     \u001b[1;32mfor\u001b[0m \u001b[0mbid\u001b[0m \u001b[1;32min\u001b[0m \u001b[0mdata_auction\u001b[0m\u001b[1;33m:\u001b[0m\u001b[1;33m\u001b[0m\u001b[1;33m\u001b[0m\u001b[0m\n\u001b[1;32m---> 17\u001b[1;33m         \u001b[1;32mif\u001b[0m \u001b[0mbid\u001b[0m \u001b[1;33m>=\u001b[0m \u001b[0mp\u001b[0m\u001b[1;33m:\u001b[0m\u001b[1;33m\u001b[0m\u001b[1;33m\u001b[0m\u001b[0m\n\u001b[0m\u001b[0;32m     18\u001b[0m           \u001b[1;31m#change the bidder with price p\u001b[0m\u001b[1;33m\u001b[0m\u001b[1;33m\u001b[0m\u001b[1;33m\u001b[0m\u001b[0m\n\u001b[0;32m     19\u001b[0m           \u001b[0mrevenue\u001b[0m \u001b[1;33m+=\u001b[0m \u001b[0mp\u001b[0m\u001b[1;33m\u001b[0m\u001b[1;33m\u001b[0m\u001b[0m\n",
      "\u001b[1;31mKeyboardInterrupt\u001b[0m: "
     ]
    }
   ],
   "source": [
    "# Experiment Randomisation first compute the log-lottery with uniform distribution:\n",
    "sigma_list = []\n",
    "DAPX_uniform = []\n",
    "r_list =[]\n",
    "reserve_p_list = []\n",
    "p_d_list = []\n",
    "rexp_revenue_bulk = []\n",
    "#m is the number of items\n",
    "m = 5\n",
    "\n",
    "APX_uniform_list = []\n",
    "APX_uniform_bulk = []\n",
    "step =np.linspace(0,20,1)\n",
    "n = 100000\n",
    "\n",
    "def F(x):\n",
    "    return ((x-1)**3)/((2*x-1)**2) - r**2   \n",
    "\n",
    "\n",
    "def f(x):\n",
    "    return (x * (1 + np.log(k2/(x**2) + 1) - np.log(2)) -u )\n",
    " \n",
    "tic = time.clock()\n",
    "\n",
    "for i in step:\n",
    "    b = 3 - i\n",
    "    a = 4 -b\n",
    "    u = (a+b)/2\n",
    "    sigma = np.sqrt((b-a)**2/12)\n",
    "    r = sigma/u\n",
    "    r_list.append(r)\n",
    "    sigma_list.append(sigma)\n",
    "    #p_d = 1 + 4* (sigma/u)**2\n",
    "    p_d = fsolve(F, [u])\n",
    "    p_d_list.append(p_d)\n",
    "    p_reserve = p_d*u/(2*p_d-1)\n",
    "    k2 = u**2 + sigma**2\n",
    "    pi1 = fsolve(f, [u])\n",
    "    pi2 = 0.5*(k2/pi1 +pi1)\n",
    "    print(pi1, pi2)\n",
    "    for j in np.arange(0, m): #for each item, run a auction simulation n times\n",
    "        bid_uniform = uniform.rvs(loc=a, scale=b-a,size=n)\n",
    "        if (b/2 >= a):\n",
    "            opt = auction_exp(bid_uniform,b/2)\n",
    "        else:\n",
    "            opt = auction_exp(bid_uniform,a)\n",
    "        #opt = b**2/(4*(b-a))\n",
    "\n",
    "        rexp_revenue_list=[]\n",
    "        rej_sample = []\n",
    "        rej_sample = rejection_sampling(pi1,pi2)\n",
    "\n",
    "        for rp_reserve in rej_sample:\n",
    "            rexp_revenue = auction_exp(bid_uniform,rp_reserve)\n",
    "            rexp_revenue_list.append(rexp_revenue)\n",
    "\n",
    "        APX_uniform_list.append((opt/np.average(rexp_revenue_list))) \n",
    "\n",
    "    b_u = m*u\n",
    "    b_sigma = np.sqrt(m)*sigma\n",
    "    r = b_sigma/b_u\n",
    "    b_p_d = fsolve(F, [b_u])\n",
    "    print(F(b_p_d))\n",
    "    b_a = b_u - np.sqrt(3)*b_sigma\n",
    "    b_b = b_u + np.sqrt(3)*b_sigma\n",
    "    \n",
    "    b_reserve_p = b_p_d*b_u/(2*b_p_d-1)\n",
    "    \n",
    "    b_bid_uniform = uniform.rvs(loc=b_a, scale=b_b-b_a,size=n)\n",
    "    if (b_b/2 >= b_a):\n",
    "        opt = auction_exp(b_bid_uniform,b_b/2)\n",
    "    else:\n",
    "        opt = auction_exp(b_bid_uniform,b_a)\n",
    "    #opt = b**2/(4*(b-a))\n",
    "\n",
    "    rexp_revenue_bulk=[]\n",
    "    k2 = b_u**2 + b_sigma**2\n",
    "    b_pi1 = fsolve(f, [b_u])\n",
    "    b_pi2 = 0.5*(k2/b_pi1 +b_pi1)\n",
    "    print(b_pi1, b_pi2)\n",
    "    rej_sample = []\n",
    "    rej_sample = rejection_sampling(b_pi1,b_pi2)\n",
    "\n",
    "    for rp_reserve in rej_sample:\n",
    "        rexp_revenue = auction_exp(b_bid_uniform,b_reserve_p)\n",
    "        rexp_revenue_bulk.append(rexp_revenue)\n",
    "\n",
    "    APX_uniform_bulk.append((opt/np.average(rexp_revenue_bulk))) \n",
    "    \n",
    "\n",
    "toc = time.clock()\n",
    "print('time: ' + str(toc-tic))\n",
    "print(APX_uniform_list)\n",
    "print(APX_uniform_bulk)"
   ]
  },
  {
   "cell_type": "code",
   "execution_count": null,
   "metadata": {
    "executionInfo": {
     "elapsed": 513,
     "status": "ok",
     "timestamp": 1609973351430,
     "user": {
      "displayName": "Yichen Lou",
      "photoUrl": "",
      "userId": "04272552894692249514"
     },
     "user_tz": -60
    },
    "id": "BSD7Eqwe4cPG"
   },
   "outputs": [],
   "source": [
    "r_list=r_list[:69]\n",
    "sigma_list = sigma_list[:69]\n",
    "p_d_list = p_d_list[:69]\n",
    "DAPX_uniform = DAPX_uniform[:69]\n",
    "APX_uniform_list = APX_uniform_list[:69]"
   ]
  },
  {
   "cell_type": "code",
   "execution_count": null,
   "metadata": {
    "id": "PA67rYxomA_t"
   },
   "outputs": [],
   "source": [
    "import pandas as pd \n",
    "  \n",
    "# creating the DataFrame \n",
    "my_df = { 'r' : r_list[:71],\n",
    "          'DAPX_uniform': DAPX_uniform[:71],\n",
    "         'APX_uniform_list': APX_uniform_list \n",
    "         } \n",
    "df = pd.DataFrame(my_df) \n",
    "  \n",
    "   \n",
    "# saving the DataFrame as a CSV file \n",
    "gfg_csv_data = df.to_csv('result_uniform.csv', index = True) \n",
    "print('\\nCSV String:\\n', gfg_csv_data) "
   ]
  }
 ],
 "metadata": {
  "colab": {
   "collapsed_sections": [],
   "name": "APX_uniform.ipynb",
   "provenance": []
  },
  "kernelspec": {
   "display_name": "Python 3",
   "language": "python",
   "name": "python3"
  },
  "language_info": {
   "codemirror_mode": {
    "name": "ipython",
    "version": 3
   },
   "file_extension": ".py",
   "mimetype": "text/x-python",
   "name": "python",
   "nbconvert_exporter": "python",
   "pygments_lexer": "ipython3",
   "version": "3.7.6"
  }
 },
 "nbformat": 4,
 "nbformat_minor": 1
}
