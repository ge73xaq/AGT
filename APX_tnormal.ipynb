{
 "cells": [
  {
   "cell_type": "code",
   "execution_count": 7,
   "metadata": {
    "colab": {
     "base_uri": "https://localhost:8080/"
    },
    "executionInfo": {
     "elapsed": 22010,
     "status": "ok",
     "timestamp": 1610056573182,
     "user": {
      "displayName": "Yichen Lou",
      "photoUrl": "",
      "userId": "04272552894692249514"
     },
     "user_tz": -60
    },
    "id": "f_0HUItCQhIt",
    "outputId": "41fda7b8-1175-45cf-deb1-5ff3c8a05f0c"
   },
   "outputs": [
    {
     "name": "stdout",
     "output_type": "stream",
     "text": [
      "Mounted at /content/drive/\n",
      "/content/drive/My Drive/Thesis\n"
     ]
    }
   ],
   "source": [
    "from google.colab import drive\n",
    "drive.mount('/content/drive/', force_remount=True)\n",
    "%cd 'drive/My Drive/Thesis'"
   ]
  },
  {
   "cell_type": "code",
   "execution_count": 1,
   "metadata": {
    "executionInfo": {
     "elapsed": 1516,
     "status": "ok",
     "timestamp": 1610056409486,
     "user": {
      "displayName": "Yichen Lou",
      "photoUrl": "",
      "userId": "04272552894692249514"
     },
     "user_tz": -60
    },
    "id": "ZIKZTpsFQbXi"
   },
   "outputs": [],
   "source": [
    "%load_ext autoreload\n",
    "%autoreload 2\n",
    "import numpy as np\n",
    "import matplotlib.pyplot as plt\n",
    "from sklearn.datasets import make_moons\n",
    "# import uniform distribution\n",
    "from scipy.stats import uniform\n",
    "from scipy.stats import binom\n",
    "from scipy.stats import norm\n",
    "import scipy.special as sc\n",
    "import scipy.optimize\n",
    "from scipy.optimize import fsolve\n",
    "import time\n",
    "from scipy.stats import truncnorm\n",
    "np.random.seed(5)"
   ]
  },
  {
   "cell_type": "code",
   "execution_count": 2,
   "metadata": {
    "executionInfo": {
     "elapsed": 557,
     "status": "ok",
     "timestamp": 1610035132478,
     "user": {
      "displayName": "Yichen Lou",
      "photoUrl": "",
      "userId": "04272552894692249514"
     },
     "user_tz": -60
    },
    "id": "srAIADb-5G4q"
   },
   "outputs": [],
   "source": [
    "def auction_exp(data_auction, p):\n",
    "    \"\"\"Train a normalizing flow model with maximum likelihood.\n",
    "\n",
    "    Args:\n",
    "        model: normalizing flow model. Flow or StackedFlows\n",
    "        dataset: dataset containing data to fit. Dataset\n",
    "        batch_size: number of samples per batch. int\n",
    "        max_epochs: number of training epochs. int\n",
    "        frequency: frequency for plotting density visualization. int\n",
    "        \n",
    "    Return:\n",
    "        model: trained model. Flow or StackedFlows\n",
    "        losses: loss evolution during training. list of floats\n",
    "    \"\"\"\n",
    "    revenue = 0\n",
    "    for bid in data_auction:\n",
    "        if bid >= p:\n",
    "          #change the bidder with price p\n",
    "          revenue += p\n",
    "    \n",
    "    revenue = revenue/len(data_auction)\n",
    "    return revenue"
   ]
  },
  {
   "cell_type": "code",
   "execution_count": 3,
   "metadata": {
    "executionInfo": {
     "elapsed": 525,
     "status": "ok",
     "timestamp": 1610035134943,
     "user": {
      "displayName": "Yichen Lou",
      "photoUrl": "",
      "userId": "04272552894692249514"
     },
     "user_tz": -60
    },
    "id": "gYqiRUBNNilX"
   },
   "outputs": [],
   "source": [
    "def rejection_sampling(pi1, pi2):\n",
    "\n",
    "  # def f(x):\n",
    "  #   return [x[0] * (1 + np.log(x[1]/x[0])) - u,\n",
    "  #           x[0] *(2*x[1]-x[0]) - u**2 - sigma**2]\n",
    "\n",
    "\n",
    "  # root = fsolve(f, [ini1,ini2])\n",
    "    \n",
    "  # pi1 = min(root)\n",
    "  # pi2 = max(root)\n",
    "  #using rejection sampling, get N random price samples\n",
    "  N = 10000\n",
    "  n = 0\n",
    "  #A =(pi2/pi1-1)*(pi2-pi1)/don\n",
    "  don = pi2*np.log(pi2/pi1) - (pi2-pi1)\n",
    "  env =(pi2/pi1-1)/don\n",
    "  rej_sample =[]\n",
    "  while(n <= N):\n",
    "    x = uniform.rvs(loc=pi1, scale=pi2-pi1)\n",
    "    a = (pi2/x-1)/don/env\n",
    "    u1 = uniform.rvs()\n",
    "    if (u1 <= a):\n",
    "      rej_sample.append(x)\n",
    "      n += 1\n",
    "  return rej_sample"
   ]
  },
  {
   "cell_type": "code",
   "execution_count": 8,
   "metadata": {
    "colab": {
     "base_uri": "https://localhost:8080/"
    },
    "executionInfo": {
     "elapsed": 459,
     "status": "ok",
     "timestamp": 1610012533960,
     "user": {
      "displayName": "Yichen Lou",
      "photoUrl": "",
      "userId": "04272552894692249514"
     },
     "user_tz": -60
    },
    "id": "VtO1v-bANiU9",
    "outputId": "c1ad4755-0f10-4517-ce8c-fb7fa89e9ce1"
   },
   "outputs": [
    {
     "name": "stdout",
     "output_type": "stream",
     "text": [
      "0.8114265826549397\n",
      "0.2875999709391784\n",
      "0.2875999709391784\n"
     ]
    }
   ],
   "source": [
    "u = 1\n",
    "sigma =1\n",
    "myclip_a = 0\n",
    "myclip_b = np.inf\n",
    "#computer alpha beta for truncated normal distribution\n",
    "a, b = (myclip_a - u) / sigma, myclip_b\n",
    "k = 1/(1-norm.cdf(0, loc = u,scale = sigma))\n",
    "x = 2\n",
    "print(k*(norm.cdf(x, loc = u,scale = sigma)-norm.cdf(0, loc = u,scale = sigma)))\n",
    "print(truncnorm.pdf(x, a , b ,loc = u,scale = sigma))\n",
    "print(k*norm.pdf(x, loc = u,scale = sigma))"
   ]
  },
  {
   "cell_type": "code",
   "execution_count": 55,
   "metadata": {
    "colab": {
     "base_uri": "https://localhost:8080/"
    },
    "executionInfo": {
     "elapsed": 443,
     "status": "ok",
     "timestamp": 1610025505592,
     "user": {
      "displayName": "Yichen Lou",
      "photoUrl": "",
      "userId": "04272552894692249514"
     },
     "user_tz": -60
    },
    "id": "id0k6EYA-7Yh",
    "outputId": "ee7cf07b-9752-4773-a97c-008ef6a46f81"
   },
   "outputs": [
    {
     "name": "stderr",
     "output_type": "stream",
     "text": [
      "/usr/local/lib/python3.6/dist-packages/scipy/optimize/minpack.py:162: RuntimeWarning: The iteration is not making good progress, as measured by the \n",
      "  improvement from the last ten iterations.\n",
      "  warnings.warn(msg, RuntimeWarning)\n"
     ]
    },
    {
     "data": {
      "text/plain": [
       "array([7.43997103])"
      ]
     },
     "execution_count": 55,
     "metadata": {
      "tags": []
     },
     "output_type": "execute_result"
    }
   ],
   "source": [
    "p_opt = fsolve(F, 3)\n",
    "p_opt\n"
   ]
  },
  {
   "cell_type": "code",
   "execution_count": 15,
   "metadata": {
    "colab": {
     "base_uri": "https://localhost:8080/",
     "height": 1000
    },
    "executionInfo": {
     "elapsed": 19289176,
     "status": "ok",
     "timestamp": 1610054464610,
     "user": {
      "displayName": "Yichen Lou",
      "photoUrl": "",
      "userId": "04272552894692249514"
     },
     "user_tz": -60
    },
    "id": "s7Od-QEBOqjW",
    "outputId": "8f24e984-6c4b-4cd1-a1ee-bcb93dfc351b"
   },
   "outputs": [
    {
     "name": "stderr",
     "output_type": "stream",
     "text": [
      "C:\\Users\\Ariel Lou\\anaconda3\\lib\\site-packages\\ipykernel_launcher.py:28: DeprecationWarning: time.clock has been deprecated in Python 3.3 and will be removed from Python 3.8: use time.perf_counter or time.process_time instead\n"
     ]
    },
    {
     "name": "stdout",
     "output_type": "stream",
     "text": [
      "[0.] [0.]\n",
      "[-4.4408921e-16] [0.]\n",
      "[-1.95399252e-14] [0.]\n",
      "[-6.66133815e-15] [-1.11022302e-16]\n",
      "[-4.4408921e-15] [0.]\n",
      "[-5.32907052e-15] [0.]\n",
      "[-4.4408921e-15] [0.]\n",
      "[0.] [-1.11022302e-16]\n",
      "[-2.66453526e-15] [-1.11022302e-16]\n",
      "[-1.77635684e-15] [-1.11022302e-16]\n",
      "[-3.55271368e-15] [0.]\n",
      "[-5.32907052e-15] [0.]\n",
      "[0.] [1.11022302e-16]\n",
      "[-7.10542736e-15] [0.]\n",
      "[-1.77635684e-15] [0.]\n",
      "[-5.32907052e-15] [1.11022302e-16]\n",
      "[-1.77635684e-15] [-1.11022302e-16]\n",
      "[7.10542736e-15] [-1.11022302e-16]\n",
      "[1.77635684e-15] [0.]\n",
      "[3.55271368e-15] [0.]\n",
      "[-7.10542736e-15] [-1.11022302e-16]\n",
      "[3.55271368e-15] [0.]\n",
      "[-1.0658141e-14] [0.]\n",
      "[0.] [1.11022302e-16]\n",
      "[-3.55271368e-15] [0.]\n",
      "[3.55271368e-15] [0.]\n",
      "[-1.42108547e-14] [1.11022302e-16]\n",
      "[-3.55271368e-15] [1.11022302e-16]\n",
      "[-7.10542736e-15] [0.]\n",
      "[-2.48689958e-14] [1.11022302e-16]\n",
      "[0.] [1.11022302e-16]\n",
      "[0.] [-1.11022302e-16]\n",
      "[0.] [1.11022302e-16]\n",
      "[-7.10542736e-15] [0.]\n",
      "[-2.13162821e-14] [1.11022302e-16]\n",
      "[-7.10542736e-15] [2.22044605e-16]\n",
      "[1.77635684e-14] [1.11022302e-16]\n",
      "[3.55271368e-15] [0.]\n",
      "[-3.55271368e-15] [1.11022302e-16]\n",
      "[-1.0658141e-14] [1.11022302e-16]\n",
      "[-2.13162821e-14] [1.11022302e-16]\n",
      "[-1.0658141e-14] [2.22044605e-16]\n",
      "[7.10542736e-15] [2.22044605e-16]\n",
      "[0.] [0.]\n",
      "[-7.10542736e-15] [1.11022302e-16]\n",
      "[0.] [2.22044605e-16]\n",
      "[1.42108547e-14] [-1.11022302e-16]\n",
      "[-1.42108547e-14] [0.]\n",
      "[7.10542736e-15] [2.22044605e-16]\n",
      "[-2.84217094e-14] [0.]\n",
      "\n",
      "CSV String:\n",
      " None\n",
      "time: 14246.250972300004\n"
     ]
    },
    {
     "name": "stderr",
     "output_type": "stream",
     "text": [
      "C:\\Users\\Ariel Lou\\anaconda3\\lib\\site-packages\\ipykernel_launcher.py:90: DeprecationWarning: time.clock has been deprecated in Python 3.3 and will be removed from Python 3.8: use time.perf_counter or time.process_time instead\n"
     ]
    },
    {
     "data": {
      "image/png": "[encoded data removed]",
      "text/plain": [
       "<Figure size 1080x720 with 1 Axes>"
      ]
     },
     "metadata": {
      "needs_background": "light"
     },
     "output_type": "display_data"
    }
   ],
   "source": [
    "# Experiment Randomisation first compute the log-lottery with truncated normal distribution:\n",
    "sigma_list = []\n",
    "DAPX_tnorm = []\n",
    "r_list =[]\n",
    "\n",
    "p_d_list = []\n",
    "\n",
    "p_opt_list =[]\n",
    "\n",
    "def F(x):\n",
    "    return x-((1-k*(norm.cdf(x, loc = u,scale = sigma)-norm.cdf(0, loc = u,scale = sigma)))/(k*norm.pdf(x, loc = u,scale = sigma)))\n",
    "\n",
    "def f_int(x):\n",
    "  return (x * (1 + np.log(k2/(x**2) + 1) - np.log(2)) -mean )\n",
    " \n",
    "def f_d(x):\n",
    "   return ((x-1)**3)/((2*x-1)**2) - r**2   \n",
    "\n",
    "\n",
    "APX_tnorm_list = []\n",
    "\n",
    "step =np.linspace(1, 10,50)\n",
    "\n",
    "n = 100000\n",
    "myclip_a = 0\n",
    "myclip_b = np.inf\n",
    "u = 1\n",
    "tic = time.clock()\n",
    "\n",
    "for i in np.arange(50):\n",
    "  sigma = 1 + i\n",
    "  #computer alpha beta for truncated normal distribution\n",
    "  a, b = (myclip_a - u) / sigma, myclip_b\n",
    "  \n",
    "  #constant of truncated normal distribution\n",
    "  k = 1/(1-norm.cdf(0, loc = u,scale = sigma))\n",
    "  mean, var = truncnorm.stats(a , b ,loc = u,scale = sigma, moments='mv')\n",
    "  \n",
    "  #use truncated normal mean and variance to compute second moment\n",
    "  k2 = mean**2 + var\n",
    "\n",
    "\n",
    "  bid_tnorm = truncnorm.rvs(a , b , loc = u,scale = sigma,size=n)\n",
    "\n",
    "  r = np.sqrt(var)/mean\n",
    "  r_list.append(r)\n",
    "  sigma_list.append(np.sqrt(var))\n",
    "  p_opt = fsolve(F, mean)\n",
    "  p_opt_list.append(p_opt)\n",
    "  \n",
    "  p_d = fsolve(f_d, [mean])\n",
    "  p_d_list.append(p_d)\n",
    "  reserve_p = p_d*mean/(2*p_d-1)\n",
    "  print(F(p_opt),f_d(p_d))\n",
    "  opt = auction_exp(bid_tnorm,p_opt)\n",
    "  exp_revenue = auction_exp(bid_tnorm,reserve_p)\n",
    "\n",
    "  DAPX_tnorm.append((opt/exp_revenue)[0])  \n",
    "\n",
    "  pi1 = fsolve(f_int, [mean])\n",
    "  pi2 = 0.5*(k2/pi1 +pi1)  \n",
    "\n",
    "  #print(pi1,pi2)\n",
    "\n",
    "  rexp_revenuer_list=[]\n",
    "  rej_sample=[]\n",
    "  rej_sample = rejection_sampling(pi1,pi2)\n",
    "  for rp_reserve in rej_sample:\n",
    "    rexp_revenue = auction_exp(bid_tnorm,rp_reserve)\n",
    "    rexp_revenuer_list.append(rexp_revenue)\n",
    "  \n",
    "  APX_tnorm_list.append((opt/np.average(rexp_revenuer_list))) \n",
    "\n",
    "\n",
    "\n",
    "import pandas as pd \n",
    "  \n",
    "# creating the DataFrame \n",
    "my_df = { 'r' : r_list,\n",
    "          'DAPX_tnorm': DAPX_tnorm,\n",
    "         'APX_tnorm_list': APX_tnorm_list \n",
    "         } \n",
    "df = pd.DataFrame(my_df) \n",
    "  \n",
    "   \n",
    "# saving the DataFrame as a CSV file \n",
    "gfg_csv_data = df.to_csv('r esult_tnorm.csv', index = True) \n",
    "print('\\nCSV String:\\n', gfg_csv_data) \n",
    "\n",
    "toc = time.clock()\n",
    "print('time: ' + str(toc-tic))\n",
    "plt.figure(figsize=(15,10))\n",
    "plt.plot(r_list, DAPX_tnorm,color=\"green\",marker=\"o\",label=\"DAPX\")\n",
    "plt.plot(r_list, APX_tnorm_list,color=\"red\",marker=\"o\",label=\"APX\")\n",
    "#plt.plot(r_list, ratio,color=\"blue\",label=\"worst case rho_d\")\n",
    "#lower_bound = 1+np.log(1+np.power(r_list,2))\n",
    "#plt.plot(r_list, lower_bound,color=\"skyblue\",label=\"lower bound 1+ln(1+r^2) \")\n",
    "plt.legend(loc=\"upper left\",fontsize = 15)\n",
    "plt.show()"
   ]
  },
  {
   "cell_type": "code",
   "execution_count": 4,
   "metadata": {
    "colab": {
     "base_uri": "https://localhost:8080/",
     "height": 244
    },
    "executionInfo": {
     "elapsed": 832,
     "status": "error",
     "timestamp": 1610056514078,
     "user": {
      "displayName": "Yichen Lou",
      "photoUrl": "",
      "userId": "04272552894692249514"
     },
     "user_tz": -60
    },
    "id": "PA67rYxomA_t",
    "outputId": "4d6e72a8-bf5f-477e-ee7e-1a6f2a4ccb95"
   },
   "outputs": [
    {
     "ename": "NameError",
     "evalue": "ignored",
     "output_type": "error",
     "traceback": [
      "\u001b[0;31m---------------------------------------------------------------------------\u001b[0m",
      "\u001b[0;31mNameError\u001b[0m                                 Traceback (most recent call last)",
      "\u001b[0;32m<ipython-input-4-536130a9a7b1>\u001b[0m in \u001b[0;36m<module>\u001b[0;34m()\u001b[0m\n\u001b[1;32m      2\u001b[0m \u001b[0;34m\u001b[0m\u001b[0m\n\u001b[1;32m      3\u001b[0m \u001b[0;31m# creating the DataFrame\u001b[0m\u001b[0;34m\u001b[0m\u001b[0;34m\u001b[0m\u001b[0;34m\u001b[0m\u001b[0m\n\u001b[0;32m----> 4\u001b[0;31m my_df = { 'r' : r_list,\n\u001b[0m\u001b[1;32m      5\u001b[0m           \u001b[0;34m'DAPX_tnorm'\u001b[0m\u001b[0;34m:\u001b[0m \u001b[0mDAPX_tnorm\u001b[0m\u001b[0;34m,\u001b[0m\u001b[0;34m\u001b[0m\u001b[0;34m\u001b[0m\u001b[0m\n\u001b[1;32m      6\u001b[0m          \u001b[0;34m'APX_tnorm_list'\u001b[0m\u001b[0;34m:\u001b[0m \u001b[0mAPX_tnorm_list\u001b[0m\u001b[0;34m\u001b[0m\u001b[0;34m\u001b[0m\u001b[0m\n",
      "\u001b[0;31mNameError\u001b[0m: name 'r_list' is not defined"
     ]
    }
   ],
   "source": [
    "import pandas as pd \n",
    "  \n",
    "# creating the DataFrame \n",
    "my_df = { 'r' : r_list,\n",
    "          'DAPX_tnorm': DAPX_tnorm,\n",
    "         'APX_tnorm_list': APX_tnorm_list \n",
    "         } \n",
    "df = pd.DataFrame(my_df) \n",
    "  \n",
    "   \n",
    "# saving the DataFrame as a CSV file \n",
    "gfg_csv_data = df.to_csv('result_tnorm.csv', index = True) \n",
    "print('\\nCSV String:\\n', gfg_csv_data) "
   ]
  },
  {
   "cell_type": "code",
   "execution_count": 9,
   "metadata": {
    "colab": {
     "base_uri": "https://localhost:8080/",
     "height": 592
    },
    "executionInfo": {
     "elapsed": 2474,
     "status": "ok",
     "timestamp": 1610056835287,
     "user": {
      "displayName": "Yichen Lou",
      "photoUrl": "",
      "userId": "04272552894692249514"
     },
     "user_tz": -60
    },
    "id": "bTN6LghI2NOW",
    "outputId": "7d56adf4-da7b-42b1-ba7b-828629ea0b9d"
   },
   "outputs": [
    {
     "ename": "NameError",
     "evalue": "name 'pd' is not defined",
     "output_type": "error",
     "traceback": [
      "\u001b[1;31m---------------------------------------------------------------------------\u001b[0m",
      "\u001b[1;31mNameError\u001b[0m                                 Traceback (most recent call last)",
      "\u001b[1;32m<ipython-input-9-eeab9cba22f9>\u001b[0m in \u001b[0;36m<module>\u001b[1;34m\u001b[0m\n\u001b[1;32m----> 1\u001b[1;33m \u001b[0mdf\u001b[0m \u001b[1;33m=\u001b[0m \u001b[0mpd\u001b[0m\u001b[1;33m.\u001b[0m\u001b[0mread_csv\u001b[0m\u001b[1;33m(\u001b[0m\u001b[1;34m'result_tnorm.csv'\u001b[0m\u001b[1;33m)\u001b[0m\u001b[1;33m\u001b[0m\u001b[1;33m\u001b[0m\u001b[0m\n\u001b[0m\u001b[0;32m      2\u001b[0m \u001b[1;33m\u001b[0m\u001b[0m\n\u001b[0;32m      3\u001b[0m \u001b[0mplt\u001b[0m\u001b[1;33m.\u001b[0m\u001b[0mfigure\u001b[0m\u001b[1;33m(\u001b[0m\u001b[0mfigsize\u001b[0m\u001b[1;33m=\u001b[0m\u001b[1;33m(\u001b[0m\u001b[1;36m15\u001b[0m\u001b[1;33m,\u001b[0m\u001b[1;36m10\u001b[0m\u001b[1;33m)\u001b[0m\u001b[1;33m)\u001b[0m\u001b[1;33m\u001b[0m\u001b[1;33m\u001b[0m\u001b[0m\n\u001b[0;32m      4\u001b[0m \u001b[0mplt\u001b[0m\u001b[1;33m.\u001b[0m\u001b[0mplot\u001b[0m\u001b[1;33m(\u001b[0m\u001b[0mdf\u001b[0m\u001b[1;33m.\u001b[0m\u001b[0mr\u001b[0m\u001b[1;33m,\u001b[0m \u001b[0mdf\u001b[0m\u001b[1;33m.\u001b[0m\u001b[0mDAPX_tnorm\u001b[0m\u001b[1;33m,\u001b[0m\u001b[0mcolor\u001b[0m\u001b[1;33m=\u001b[0m\u001b[1;34m\"green\"\u001b[0m\u001b[1;33m,\u001b[0m\u001b[0mlabel\u001b[0m\u001b[1;33m=\u001b[0m\u001b[1;34m\"DAPX\"\u001b[0m\u001b[1;33m)\u001b[0m\u001b[1;33m\u001b[0m\u001b[1;33m\u001b[0m\u001b[0m\n\u001b[0;32m      5\u001b[0m \u001b[0mplt\u001b[0m\u001b[1;33m.\u001b[0m\u001b[0mplot\u001b[0m\u001b[1;33m(\u001b[0m\u001b[0mdf\u001b[0m\u001b[1;33m.\u001b[0m\u001b[0mr\u001b[0m\u001b[1;33m,\u001b[0m \u001b[0mdf\u001b[0m\u001b[1;33m.\u001b[0m\u001b[0mAPX_tnorm_list\u001b[0m\u001b[1;33m,\u001b[0m\u001b[0mcolor\u001b[0m\u001b[1;33m=\u001b[0m\u001b[1;34m\"red\"\u001b[0m\u001b[1;33m,\u001b[0m\u001b[0mlabel\u001b[0m\u001b[1;33m=\u001b[0m\u001b[1;34m\"APX\"\u001b[0m\u001b[1;33m)\u001b[0m\u001b[1;33m\u001b[0m\u001b[1;33m\u001b[0m\u001b[0m\n",
      "\u001b[1;31mNameError\u001b[0m: name 'pd' is not defined"
     ]
    }
   ],
   "source": [
    "df = pd.read_csv('result_tnorm.csv')\n",
    "\n",
    "plt.figure(figsize=(15,10))\n",
    "plt.plot(df.r, df.DAPX_tnorm,color=\"green\",label=\"DAPX\")\n",
    "plt.plot(df.r, df.APX_tnorm_list,color=\"red\",label=\"APX\")\n",
    "\n",
    "plt.legend(loc=\"upper left\",fontsize = 15)\n",
    "plt.show()"
   ]
  },
  {
   "cell_type": "code",
   "execution_count": 19,
   "metadata": {
    "colab": {
     "base_uri": "https://localhost:8080/",
     "height": 262
    },
    "executionInfo": {
     "elapsed": 910,
     "status": "error",
     "timestamp": 1610056415099,
     "user": {
      "displayName": "Yichen Lou",
      "photoUrl": "",
      "userId": "04272552894692249514"
     },
     "user_tz": -60
    },
    "id": "etiyfWjyRynJ",
    "outputId": "1d833e73-77a8-4be6-c87b-53919b28ba4e"
   },
   "outputs": [
    {
     "data": {
      "image/png": "[encoded data removed]",
      "text/plain": [
       "<Figure size 1080x720 with 1 Axes>"
      ]
     },
     "metadata": {
      "needs_background": "light"
     },
     "output_type": "display_data"
    }
   ],
   "source": [
    "plt.figure(figsize=(15,10))\n",
    "plt.plot(r_list[4:50], DAPX_tnorm[4:50],color=\"green\",marker = \"o\", label=\"DAPX\")\n",
    "plt.plot(r_list[4:50],APX_tnorm_list[4:50],color=\"red\",marker = \"o\", label=\"APX\")\n",
    "#plt.plot(r_list, ratio,color=\"blue\",label=\"worst case rho_d\")\n",
    "lower_bound = 1+np.log(1+np.power(r_list,2))\n",
    "#plt.plot(r_list[4:50], lower_bound[4:50],color=\"skyblue\",label=\"lower bound 1+ln(1+r^2) \")\n",
    "plt.legend(loc=\"upper left\",fontsize = 15)\n",
    "plt.show()"
   ]
  },
  {
   "cell_type": "code",
   "execution_count": 29,
   "metadata": {
    "executionInfo": {
     "elapsed": 514,
     "status": "ok",
     "timestamp": 1610024196578,
     "user": {
      "displayName": "Yichen Lou",
      "photoUrl": "",
      "userId": "04272552894692249514"
     },
     "user_tz": -60
    },
    "id": "IamkgK_KDaN9"
   },
   "outputs": [],
   "source": [
    "def f_random(x):\n",
    "   return ((1/(x**2))*(2*np.exp(x-1)-1) - r**2 - 1 )   \n",
    "ratio = []\n",
    "for k in r_list:\n",
    "  r = k\n",
    "  ratio.append(fsolve(f_random, [r]))\n"
   ]
  },
  {
   "cell_type": "code",
   "execution_count": 36,
   "metadata": {
    "executionInfo": {
     "elapsed": 474,
     "status": "ok",
     "timestamp": 1610024403544,
     "user": {
      "displayName": "Yichen Lou",
      "photoUrl": "",
      "userId": "04272552894692249514"
     },
     "user_tz": -60
    },
    "id": "bLpI00rt5UI_"
   },
   "outputs": [],
   "source": [
    "lower_bound = 1+np.log(1+np.power(r_list,2))\n",
    "\n",
    "\n",
    "\n"
   ]
  },
  {
   "cell_type": "code",
   "execution_count": null,
   "metadata": {
    "colab": {
     "base_uri": "https://localhost:8080/"
    },
    "executionInfo": {
     "elapsed": 601,
     "status": "ok",
     "timestamp": 1609957492484,
     "user": {
      "displayName": "Yichen Lou",
      "photoUrl": "",
      "userId": "04272552894692249514"
     },
     "user_tz": -60
    },
    "id": "H8VJNZ2BgJRN",
    "outputId": "2e73d6d3-07fc-4b37-d348-f50ccaed77fc"
   },
   "outputs": [
    {
     "name": "stdout",
     "output_type": "stream",
     "text": [
      "[3.22869269] [35.83872468]\n",
      "121.0 221.0\n"
     ]
    }
   ],
   "source": [
    "u = 11.0 \n",
    "sigma = 10\n",
    "k2 = u**2 + sigma**2\n",
    "def f(x):\n",
    "  return (x * (1 + np.log(k2/(x**2) + 1) - np.log(2)) -u )\n",
    " \n",
    "\n",
    "pi1 = fsolve(f, [u])\n",
    "pi2 = 0.5*(k2/pi1 +pi1)\n",
    "print(pi1, pi2)\n",
    "print(u**2, k2)"
   ]
  },
  {
   "cell_type": "code",
   "execution_count": null,
   "metadata": {
    "colab": {
     "base_uri": "https://localhost:8080/",
     "height": 355
    },
    "executionInfo": {
     "elapsed": 628,
     "status": "ok",
     "timestamp": 1609957444878,
     "user": {
      "displayName": "Yichen Lou",
      "photoUrl": "",
      "userId": "04272552894692249514"
     },
     "user_tz": -60
    },
    "id": "t8oGOEG67rWa",
    "outputId": "054d89b5-0872-4c95-900e-3ce9b9bb1d91"
   },
   "outputs": [
    {
     "name": "stderr",
     "output_type": "stream",
     "text": [
      "/usr/local/lib/python3.6/dist-packages/ipykernel_launcher.py:2: RuntimeWarning: divide by zero encountered in true_divide\n",
      "  \n",
      "/usr/local/lib/python3.6/dist-packages/ipykernel_launcher.py:2: RuntimeWarning: invalid value encountered in multiply\n",
      "  \n"
     ]
    },
    {
     "data": {
      "text/plain": [
       "[<matplotlib.lines.Line2D at 0x7f8ac4a81ac8>]"
      ]
     },
     "execution_count": 17,
     "metadata": {
      "tags": []
     },
     "output_type": "execute_result"
    },
    {
     "data": {
      "image/png": "[encoded data removed]",
      "text/plain": [
       "<Figure size 432x288 with 1 Axes>"
      ]
     },
     "metadata": {
      "tags": []
     },
     "output_type": "display_data"
    }
   ],
   "source": [
    "x = np.linspace(0, 25, 1000)\n",
    "plt.plot(x,x * (1 + np.log(k2/(x**2) + 1) - np.log(2)) -u )"
   ]
  }
 ],
 "metadata": {
  "colab": {
   "collapsed_sections": [],
   "name": "APX_tnormal.ipynb",
   "provenance": []
  },
  "kernelspec": {
   "display_name": "Python 3",
   "language": "python",
   "name": "python3"
  },
  "language_info": {
   "codemirror_mode": {
    "name": "ipython",
    "version": 3
   },
   "file_extension": ".py",
   "mimetype": "text/x-python",
   "name": "python",
   "nbconvert_exporter": "python",
   "pygments_lexer": "ipython3",
   "version": "3.7.6"
  }
 },
 "nbformat": 4,
 "nbformat_minor": 1
}
